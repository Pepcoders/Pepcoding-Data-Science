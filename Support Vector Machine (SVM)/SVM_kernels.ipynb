{
  "nbformat": 4,
  "nbformat_minor": 0,
  "metadata": {
    "colab": {
      "name": "SVM-kernels.ipynb",
      "provenance": []
    },
    "kernelspec": {
      "name": "python3",
      "display_name": "Python 3"
    },
    "language_info": {
      "name": "python"
    }
  },
  "cells": [
    {
      "cell_type": "code",
      "metadata": {
        "id": "KQZVO5F0_Ha_"
      },
      "source": [
        "import numpy as np\n",
        "import matplotlib.pyplot as plt"
      ],
      "execution_count": 330,
      "outputs": []
    },
    {
      "cell_type": "code",
      "metadata": {
        "colab": {
          "base_uri": "https://localhost:8080/"
        },
        "id": "-HByzrp9A0ZH",
        "outputId": "46b0e973-1ab2-4ed3-aa6f-871557fd0ec0"
      },
      "source": [
        "x = np.linspace(-5.0, 5.0, 10)\n",
        "x"
      ],
      "execution_count": 331,
      "outputs": [
        {
          "output_type": "execute_result",
          "data": {
            "text/plain": [
              "array([-5.        , -3.88888889, -2.77777778, -1.66666667, -0.55555556,\n",
              "        0.55555556,  1.66666667,  2.77777778,  3.88888889,  5.        ])"
            ]
          },
          "metadata": {},
          "execution_count": 331
        }
      ]
    },
    {
      "cell_type": "code",
      "metadata": {
        "colab": {
          "base_uri": "https://localhost:8080/"
        },
        "id": "akpwh0UyBALI",
        "outputId": "cbcda417-7f92-43a4-81b4-5def5cf6d99b"
      },
      "source": [
        "y = np.sqrt(10**2 - x**2)\n",
        "y"
      ],
      "execution_count": 332,
      "outputs": [
        {
          "output_type": "execute_result",
          "data": {
            "text/plain": [
              "array([8.66025404, 9.21284664, 9.60645359, 9.86013297, 9.98455598,\n",
              "       9.98455598, 9.86013297, 9.60645359, 9.21284664, 8.66025404])"
            ]
          },
          "metadata": {},
          "execution_count": 332
        }
      ]
    },
    {
      "cell_type": "code",
      "metadata": {
        "colab": {
          "base_uri": "https://localhost:8080/"
        },
        "id": "YFInK5vFBAT_",
        "outputId": "97e02705-c0f0-44ef-afe5-17c00fb9c2fd"
      },
      "source": [
        "y = np.hstack([y,-y])\n",
        "y"
      ],
      "execution_count": 333,
      "outputs": [
        {
          "output_type": "execute_result",
          "data": {
            "text/plain": [
              "array([ 8.66025404,  9.21284664,  9.60645359,  9.86013297,  9.98455598,\n",
              "        9.98455598,  9.86013297,  9.60645359,  9.21284664,  8.66025404,\n",
              "       -8.66025404, -9.21284664, -9.60645359, -9.86013297, -9.98455598,\n",
              "       -9.98455598, -9.86013297, -9.60645359, -9.21284664, -8.66025404])"
            ]
          },
          "metadata": {},
          "execution_count": 333
        }
      ]
    },
    {
      "cell_type": "code",
      "metadata": {
        "colab": {
          "base_uri": "https://localhost:8080/"
        },
        "id": "zcB_Ee74BAwm",
        "outputId": "9949872f-affa-40ed-914e-6263b07f6f06"
      },
      "source": [
        "x = np.hstack([x,-x])\n",
        "x"
      ],
      "execution_count": 334,
      "outputs": [
        {
          "output_type": "execute_result",
          "data": {
            "text/plain": [
              "array([-5.        , -3.88888889, -2.77777778, -1.66666667, -0.55555556,\n",
              "        0.55555556,  1.66666667,  2.77777778,  3.88888889,  5.        ,\n",
              "        5.        ,  3.88888889,  2.77777778,  1.66666667,  0.55555556,\n",
              "       -0.55555556, -1.66666667, -2.77777778, -3.88888889, -5.        ])"
            ]
          },
          "metadata": {},
          "execution_count": 334
        }
      ]
    },
    {
      "cell_type": "code",
      "metadata": {
        "colab": {
          "base_uri": "https://localhost:8080/"
        },
        "id": "hQnYZQ5-_MRV",
        "outputId": "fc7c0ec2-bbe8-4df1-ac64-f42f55165fba"
      },
      "source": [
        "x1 = np.linspace(-5.0, 5.0, 10)\n",
        "x1"
      ],
      "execution_count": 335,
      "outputs": [
        {
          "output_type": "execute_result",
          "data": {
            "text/plain": [
              "array([-5.        , -3.88888889, -2.77777778, -1.66666667, -0.55555556,\n",
              "        0.55555556,  1.66666667,  2.77777778,  3.88888889,  5.        ])"
            ]
          },
          "metadata": {},
          "execution_count": 335
        }
      ]
    },
    {
      "cell_type": "code",
      "metadata": {
        "colab": {
          "base_uri": "https://localhost:8080/"
        },
        "id": "3zFbXoE6BTVg",
        "outputId": "263730cc-ff24-47d8-883e-08757373cab1"
      },
      "source": [
        "y1 = np.sqrt(5**2 - x1**2)\n",
        "y1"
      ],
      "execution_count": 336,
      "outputs": [
        {
          "output_type": "execute_result",
          "data": {
            "text/plain": [
              "array([0.        , 3.14269681, 4.1573971 , 4.71404521, 4.96903995,\n",
              "       4.96903995, 4.71404521, 4.1573971 , 3.14269681, 0.        ])"
            ]
          },
          "metadata": {},
          "execution_count": 336
        }
      ]
    },
    {
      "cell_type": "code",
      "metadata": {
        "colab": {
          "base_uri": "https://localhost:8080/"
        },
        "id": "ZYW0NalOBTg4",
        "outputId": "ef79ce4f-d4ba-49ea-92fa-37d30dbf6226"
      },
      "source": [
        "y1 = np.hstack([y1,-y1])\n",
        "y1"
      ],
      "execution_count": 337,
      "outputs": [
        {
          "output_type": "execute_result",
          "data": {
            "text/plain": [
              "array([ 0.        ,  3.14269681,  4.1573971 ,  4.71404521,  4.96903995,\n",
              "        4.96903995,  4.71404521,  4.1573971 ,  3.14269681,  0.        ,\n",
              "       -0.        , -3.14269681, -4.1573971 , -4.71404521, -4.96903995,\n",
              "       -4.96903995, -4.71404521, -4.1573971 , -3.14269681, -0.        ])"
            ]
          },
          "metadata": {},
          "execution_count": 337
        }
      ]
    },
    {
      "cell_type": "code",
      "metadata": {
        "colab": {
          "base_uri": "https://localhost:8080/"
        },
        "id": "qkdelHSnBTqF",
        "outputId": "977dbc4a-38f8-4597-92e3-15a64e76e2df"
      },
      "source": [
        "x1 = np.hstack([x1,-x1])\n",
        "x1"
      ],
      "execution_count": 338,
      "outputs": [
        {
          "output_type": "execute_result",
          "data": {
            "text/plain": [
              "array([-5.        , -3.88888889, -2.77777778, -1.66666667, -0.55555556,\n",
              "        0.55555556,  1.66666667,  2.77777778,  3.88888889,  5.        ,\n",
              "        5.        ,  3.88888889,  2.77777778,  1.66666667,  0.55555556,\n",
              "       -0.55555556, -1.66666667, -2.77777778, -3.88888889, -5.        ])"
            ]
          },
          "metadata": {},
          "execution_count": 338
        }
      ]
    },
    {
      "cell_type": "code",
      "metadata": {
        "colab": {
          "base_uri": "https://localhost:8080/",
          "height": 282
        },
        "id": "kx49fSWz_PpW",
        "outputId": "48cbd619-4ed5-4646-8af6-58009f6566e4"
      },
      "source": [
        "plt.scatter(y,x)\n",
        "plt.scatter(y1,x1)"
      ],
      "execution_count": 339,
      "outputs": [
        {
          "output_type": "execute_result",
          "data": {
            "text/plain": [
              "<matplotlib.collections.PathCollection at 0x7f8c3a996190>"
            ]
          },
          "metadata": {},
          "execution_count": 339
        },
        {
          "output_type": "display_data",
          "data": {
            "image/png": "[encoded data removed]",
            "text/plain": [
              "<Figure size 432x288 with 1 Axes>"
            ]
          },
          "metadata": {
            "needs_background": "light"
          }
        }
      ]
    },
    {
      "cell_type": "code",
      "metadata": {
        "colab": {
          "base_uri": "https://localhost:8080/",
          "height": 1000
        },
        "id": "jJuBii50_SWu",
        "outputId": "18472a72-0a14-4fd9-e110-d01d7c31a380"
      },
      "source": [
        "import pandas as pd\n",
        "df1 =pd.DataFrame(np.vstack([y,x]).T,columns=['X1','X2'])\n",
        "df1['Y']=0\n",
        "df2 =pd.DataFrame(np.vstack([y1,x1]).T,columns=['X1','X2'])\n",
        "df2['Y']=1\n",
        "df = df1.append(df2)\n",
        "df"
      ],
      "execution_count": 340,
      "outputs": [
        {
          "output_type": "execute_result",
          "data": {
            "text/html": [
              "<div>\n",
              "<style scoped>\n",
              "    .dataframe tbody tr th:only-of-type {\n",
              "        vertical-align: middle;\n",
              "    }\n",
              "\n",
              "    .dataframe tbody tr th {\n",
              "        vertical-align: top;\n",
              "    }\n",
              "\n",
              "    .dataframe thead th {\n",
              "        text-align: right;\n",
              "    }\n",
              "</style>\n",
              "<table border=\"1\" class=\"dataframe\">\n",
              "  <thead>\n",
              "    <tr style=\"text-align: right;\">\n",
              "      <th></th>\n",
              "      <th>X1</th>\n",
              "      <th>X2</th>\n",
              "      <th>Y</th>\n",
              "    </tr>\n",
              "  </thead>\n",
              "  <tbody>\n",
              "    <tr>\n",
              "      <th>0</th>\n",
              "      <td>8.660254</td>\n",
              "      <td>-5.000000</td>\n",
              "      <td>0</td>\n",
              "    </tr>\n",
              "    <tr>\n",
              "      <th>1</th>\n",
              "      <td>9.212847</td>\n",
              "      <td>-3.888889</td>\n",
              "      <td>0</td>\n",
              "    </tr>\n",
              "    <tr>\n",
              "      <th>2</th>\n",
              "      <td>9.606454</td>\n",
              "      <td>-2.777778</td>\n",
              "      <td>0</td>\n",
              "    </tr>\n",
              "    <tr>\n",
              "      <th>3</th>\n",
              "      <td>9.860133</td>\n",
              "      <td>-1.666667</td>\n",
              "      <td>0</td>\n",
              "    </tr>\n",
              "    <tr>\n",
              "      <th>4</th>\n",
              "      <td>9.984556</td>\n",
              "      <td>-0.555556</td>\n",
              "      <td>0</td>\n",
              "    </tr>\n",
              "    <tr>\n",
              "      <th>5</th>\n",
              "      <td>9.984556</td>\n",
              "      <td>0.555556</td>\n",
              "      <td>0</td>\n",
              "    </tr>\n",
              "    <tr>\n",
              "      <th>6</th>\n",
              "      <td>9.860133</td>\n",
              "      <td>1.666667</td>\n",
              "      <td>0</td>\n",
              "    </tr>\n",
              "    <tr>\n",
              "      <th>7</th>\n",
              "      <td>9.606454</td>\n",
              "      <td>2.777778</td>\n",
              "      <td>0</td>\n",
              "    </tr>\n",
              "    <tr>\n",
              "      <th>8</th>\n",
              "      <td>9.212847</td>\n",
              "      <td>3.888889</td>\n",
              "      <td>0</td>\n",
              "    </tr>\n",
              "    <tr>\n",
              "      <th>9</th>\n",
              "      <td>8.660254</td>\n",
              "      <td>5.000000</td>\n",
              "      <td>0</td>\n",
              "    </tr>\n",
              "    <tr>\n",
              "      <th>10</th>\n",
              "      <td>-8.660254</td>\n",
              "      <td>5.000000</td>\n",
              "      <td>0</td>\n",
              "    </tr>\n",
              "    <tr>\n",
              "      <th>11</th>\n",
              "      <td>-9.212847</td>\n",
              "      <td>3.888889</td>\n",
              "      <td>0</td>\n",
              "    </tr>\n",
              "    <tr>\n",
              "      <th>12</th>\n",
              "      <td>-9.606454</td>\n",
              "      <td>2.777778</td>\n",
              "      <td>0</td>\n",
              "    </tr>\n",
              "    <tr>\n",
              "      <th>13</th>\n",
              "      <td>-9.860133</td>\n",
              "      <td>1.666667</td>\n",
              "      <td>0</td>\n",
              "    </tr>\n",
              "    <tr>\n",
              "      <th>14</th>\n",
              "      <td>-9.984556</td>\n",
              "      <td>0.555556</td>\n",
              "      <td>0</td>\n",
              "    </tr>\n",
              "    <tr>\n",
              "      <th>15</th>\n",
              "      <td>-9.984556</td>\n",
              "      <td>-0.555556</td>\n",
              "      <td>0</td>\n",
              "    </tr>\n",
              "    <tr>\n",
              "      <th>16</th>\n",
              "      <td>-9.860133</td>\n",
              "      <td>-1.666667</td>\n",
              "      <td>0</td>\n",
              "    </tr>\n",
              "    <tr>\n",
              "      <th>17</th>\n",
              "      <td>-9.606454</td>\n",
              "      <td>-2.777778</td>\n",
              "      <td>0</td>\n",
              "    </tr>\n",
              "    <tr>\n",
              "      <th>18</th>\n",
              "      <td>-9.212847</td>\n",
              "      <td>-3.888889</td>\n",
              "      <td>0</td>\n",
              "    </tr>\n",
              "    <tr>\n",
              "      <th>19</th>\n",
              "      <td>-8.660254</td>\n",
              "      <td>-5.000000</td>\n",
              "      <td>0</td>\n",
              "    </tr>\n",
              "    <tr>\n",
              "      <th>0</th>\n",
              "      <td>0.000000</td>\n",
              "      <td>-5.000000</td>\n",
              "      <td>1</td>\n",
              "    </tr>\n",
              "    <tr>\n",
              "      <th>1</th>\n",
              "      <td>3.142697</td>\n",
              "      <td>-3.888889</td>\n",
              "      <td>1</td>\n",
              "    </tr>\n",
              "    <tr>\n",
              "      <th>2</th>\n",
              "      <td>4.157397</td>\n",
              "      <td>-2.777778</td>\n",
              "      <td>1</td>\n",
              "    </tr>\n",
              "    <tr>\n",
              "      <th>3</th>\n",
              "      <td>4.714045</td>\n",
              "      <td>-1.666667</td>\n",
              "      <td>1</td>\n",
              "    </tr>\n",
              "    <tr>\n",
              "      <th>4</th>\n",
              "      <td>4.969040</td>\n",
              "      <td>-0.555556</td>\n",
              "      <td>1</td>\n",
              "    </tr>\n",
              "    <tr>\n",
              "      <th>5</th>\n",
              "      <td>4.969040</td>\n",
              "      <td>0.555556</td>\n",
              "      <td>1</td>\n",
              "    </tr>\n",
              "    <tr>\n",
              "      <th>6</th>\n",
              "      <td>4.714045</td>\n",
              "      <td>1.666667</td>\n",
              "      <td>1</td>\n",
              "    </tr>\n",
              "    <tr>\n",
              "      <th>7</th>\n",
              "      <td>4.157397</td>\n",
              "      <td>2.777778</td>\n",
              "      <td>1</td>\n",
              "    </tr>\n",
              "    <tr>\n",
              "      <th>8</th>\n",
              "      <td>3.142697</td>\n",
              "      <td>3.888889</td>\n",
              "      <td>1</td>\n",
              "    </tr>\n",
              "    <tr>\n",
              "      <th>9</th>\n",
              "      <td>0.000000</td>\n",
              "      <td>5.000000</td>\n",
              "      <td>1</td>\n",
              "    </tr>\n",
              "    <tr>\n",
              "      <th>10</th>\n",
              "      <td>-0.000000</td>\n",
              "      <td>5.000000</td>\n",
              "      <td>1</td>\n",
              "    </tr>\n",
              "    <tr>\n",
              "      <th>11</th>\n",
              "      <td>-3.142697</td>\n",
              "      <td>3.888889</td>\n",
              "      <td>1</td>\n",
              "    </tr>\n",
              "    <tr>\n",
              "      <th>12</th>\n",
              "      <td>-4.157397</td>\n",
              "      <td>2.777778</td>\n",
              "      <td>1</td>\n",
              "    </tr>\n",
              "    <tr>\n",
              "      <th>13</th>\n",
              "      <td>-4.714045</td>\n",
              "      <td>1.666667</td>\n",
              "      <td>1</td>\n",
              "    </tr>\n",
              "    <tr>\n",
              "      <th>14</th>\n",
              "      <td>-4.969040</td>\n",
              "      <td>0.555556</td>\n",
              "      <td>1</td>\n",
              "    </tr>\n",
              "    <tr>\n",
              "      <th>15</th>\n",
              "      <td>-4.969040</td>\n",
              "      <td>-0.555556</td>\n",
              "      <td>1</td>\n",
              "    </tr>\n",
              "    <tr>\n",
              "      <th>16</th>\n",
              "      <td>-4.714045</td>\n",
              "      <td>-1.666667</td>\n",
              "      <td>1</td>\n",
              "    </tr>\n",
              "    <tr>\n",
              "      <th>17</th>\n",
              "      <td>-4.157397</td>\n",
              "      <td>-2.777778</td>\n",
              "      <td>1</td>\n",
              "    </tr>\n",
              "    <tr>\n",
              "      <th>18</th>\n",
              "      <td>-3.142697</td>\n",
              "      <td>-3.888889</td>\n",
              "      <td>1</td>\n",
              "    </tr>\n",
              "    <tr>\n",
              "      <th>19</th>\n",
              "      <td>-0.000000</td>\n",
              "      <td>-5.000000</td>\n",
              "      <td>1</td>\n",
              "    </tr>\n",
              "  </tbody>\n",
              "</table>\n",
              "</div>"
            ],
            "text/plain": [
              "          X1        X2  Y\n",
              "0   8.660254 -5.000000  0\n",
              "1   9.212847 -3.888889  0\n",
              "2   9.606454 -2.777778  0\n",
              "3   9.860133 -1.666667  0\n",
              "4   9.984556 -0.555556  0\n",
              "5   9.984556  0.555556  0\n",
              "6   9.860133  1.666667  0\n",
              "7   9.606454  2.777778  0\n",
              "8   9.212847  3.888889  0\n",
              "9   8.660254  5.000000  0\n",
              "10 -8.660254  5.000000  0\n",
              "11 -9.212847  3.888889  0\n",
              "12 -9.606454  2.777778  0\n",
              "13 -9.860133  1.666667  0\n",
              "14 -9.984556  0.555556  0\n",
              "15 -9.984556 -0.555556  0\n",
              "16 -9.860133 -1.666667  0\n",
              "17 -9.606454 -2.777778  0\n",
              "18 -9.212847 -3.888889  0\n",
              "19 -8.660254 -5.000000  0\n",
              "0   0.000000 -5.000000  1\n",
              "1   3.142697 -3.888889  1\n",
              "2   4.157397 -2.777778  1\n",
              "3   4.714045 -1.666667  1\n",
              "4   4.969040 -0.555556  1\n",
              "5   4.969040  0.555556  1\n",
              "6   4.714045  1.666667  1\n",
              "7   4.157397  2.777778  1\n",
              "8   3.142697  3.888889  1\n",
              "9   0.000000  5.000000  1\n",
              "10 -0.000000  5.000000  1\n",
              "11 -3.142697  3.888889  1\n",
              "12 -4.157397  2.777778  1\n",
              "13 -4.714045  1.666667  1\n",
              "14 -4.969040  0.555556  1\n",
              "15 -4.969040 -0.555556  1\n",
              "16 -4.714045 -1.666667  1\n",
              "17 -4.157397 -2.777778  1\n",
              "18 -3.142697 -3.888889  1\n",
              "19 -0.000000 -5.000000  1"
            ]
          },
          "metadata": {},
          "execution_count": 340
        }
      ]
    },
    {
      "cell_type": "code",
      "metadata": {
        "id": "k-5BqrnL_jgV"
      },
      "source": [
        "### Independent and Dependent features\n",
        "X = df.iloc[:, :2]  \n",
        "y = df.Y"
      ],
      "execution_count": 341,
      "outputs": []
    },
    {
      "cell_type": "code",
      "metadata": {
        "colab": {
          "base_uri": "https://localhost:8080/"
        },
        "id": "q25I3uIh_mIn",
        "outputId": "74aa9101-d8be-45be-f7c3-76776971f740"
      },
      "source": [
        "y"
      ],
      "execution_count": 342,
      "outputs": [
        {
          "output_type": "execute_result",
          "data": {
            "text/plain": [
              "0     0\n",
              "1     0\n",
              "2     0\n",
              "3     0\n",
              "4     0\n",
              "5     0\n",
              "6     0\n",
              "7     0\n",
              "8     0\n",
              "9     0\n",
              "10    0\n",
              "11    0\n",
              "12    0\n",
              "13    0\n",
              "14    0\n",
              "15    0\n",
              "16    0\n",
              "17    0\n",
              "18    0\n",
              "19    0\n",
              "0     1\n",
              "1     1\n",
              "2     1\n",
              "3     1\n",
              "4     1\n",
              "5     1\n",
              "6     1\n",
              "7     1\n",
              "8     1\n",
              "9     1\n",
              "10    1\n",
              "11    1\n",
              "12    1\n",
              "13    1\n",
              "14    1\n",
              "15    1\n",
              "16    1\n",
              "17    1\n",
              "18    1\n",
              "19    1\n",
              "Name: Y, dtype: int64"
            ]
          },
          "metadata": {},
          "execution_count": 342
        }
      ]
    },
    {
      "cell_type": "code",
      "metadata": {
        "id": "wnR3iHdL_oeh"
      },
      "source": [
        "## Split the dataset into train and test\n",
        "from sklearn.model_selection import train_test_split\n",
        "X_train,X_test,y_train,y_test=train_test_split(X,y,test_size=0.25,random_state=0)"
      ],
      "execution_count": 343,
      "outputs": []
    },
    {
      "cell_type": "code",
      "metadata": {
        "colab": {
          "base_uri": "https://localhost:8080/"
        },
        "id": "4UvB73oS_rTO",
        "outputId": "f925fa13-9e39-4d14-87bf-b3ba64f127f2"
      },
      "source": [
        "y_train"
      ],
      "execution_count": 344,
      "outputs": [
        {
          "output_type": "execute_result",
          "data": {
            "text/plain": [
              "7     1\n",
              "15    1\n",
              "17    1\n",
              "2     0\n",
              "19    1\n",
              "10    1\n",
              "14    1\n",
              "16    0\n",
              "16    1\n",
              "8     0\n",
              "13    0\n",
              "5     0\n",
              "17    0\n",
              "14    0\n",
              "13    1\n",
              "7     0\n",
              "12    1\n",
              "1     0\n",
              "6     1\n",
              "12    0\n",
              "11    1\n",
              "4     1\n",
              "6     0\n",
              "3     1\n",
              "1     1\n",
              "19    0\n",
              "9     0\n",
              "18    1\n",
              "3     0\n",
              "0     0\n",
              "Name: Y, dtype: int64"
            ]
          },
          "metadata": {},
          "execution_count": 344
        }
      ]
    },
    {
      "cell_type": "code",
      "metadata": {
        "colab": {
          "base_uri": "https://localhost:8080/"
        },
        "id": "gif5UGyZ_txK",
        "outputId": "9f521cba-dd81-45d9-c9a6-226223219c9e"
      },
      "source": [
        "from sklearn.svm import SVC\n",
        "classifier=SVC(kernel=\"rbf\")\n",
        "classifier.fit(X_train,y_train)"
      ],
      "execution_count": 345,
      "outputs": [
        {
          "output_type": "execute_result",
          "data": {
            "text/plain": [
              "SVC()"
            ]
          },
          "metadata": {},
          "execution_count": 345
        }
      ]
    },
    {
      "cell_type": "code",
      "metadata": {
        "colab": {
          "base_uri": "https://localhost:8080/"
        },
        "id": "cqm6v7Iu_xFQ",
        "outputId": "5ddfceef-a53a-4820-a455-ec6410f538ed"
      },
      "source": [
        "from sklearn.metrics import accuracy_score\n",
        "y_pred = classifier.predict(X_test)\n",
        "accuracy_score(y_test, y_pred)"
      ],
      "execution_count": 346,
      "outputs": [
        {
          "output_type": "execute_result",
          "data": {
            "text/plain": [
              "1.0"
            ]
          },
          "metadata": {},
          "execution_count": 346
        }
      ]
    },
    {
      "cell_type": "code",
      "metadata": {
        "colab": {
          "base_uri": "https://localhost:8080/",
          "height": 204
        },
        "id": "1qrF7J8e_2iF",
        "outputId": "bdffc123-f8d5-4612-a7d3-5e812bea62b1"
      },
      "source": [
        "df.head()"
      ],
      "execution_count": 347,
      "outputs": [
        {
          "output_type": "execute_result",
          "data": {
            "text/html": [
              "<div>\n",
              "<style scoped>\n",
              "    .dataframe tbody tr th:only-of-type {\n",
              "        vertical-align: middle;\n",
              "    }\n",
              "\n",
              "    .dataframe tbody tr th {\n",
              "        vertical-align: top;\n",
              "    }\n",
              "\n",
              "    .dataframe thead th {\n",
              "        text-align: right;\n",
              "    }\n",
              "</style>\n",
              "<table border=\"1\" class=\"dataframe\">\n",
              "  <thead>\n",
              "    <tr style=\"text-align: right;\">\n",
              "      <th></th>\n",
              "      <th>X1</th>\n",
              "      <th>X2</th>\n",
              "      <th>Y</th>\n",
              "    </tr>\n",
              "  </thead>\n",
              "  <tbody>\n",
              "    <tr>\n",
              "      <th>0</th>\n",
              "      <td>8.660254</td>\n",
              "      <td>-5.000000</td>\n",
              "      <td>0</td>\n",
              "    </tr>\n",
              "    <tr>\n",
              "      <th>1</th>\n",
              "      <td>9.212847</td>\n",
              "      <td>-3.888889</td>\n",
              "      <td>0</td>\n",
              "    </tr>\n",
              "    <tr>\n",
              "      <th>2</th>\n",
              "      <td>9.606454</td>\n",
              "      <td>-2.777778</td>\n",
              "      <td>0</td>\n",
              "    </tr>\n",
              "    <tr>\n",
              "      <th>3</th>\n",
              "      <td>9.860133</td>\n",
              "      <td>-1.666667</td>\n",
              "      <td>0</td>\n",
              "    </tr>\n",
              "    <tr>\n",
              "      <th>4</th>\n",
              "      <td>9.984556</td>\n",
              "      <td>-0.555556</td>\n",
              "      <td>0</td>\n",
              "    </tr>\n",
              "  </tbody>\n",
              "</table>\n",
              "</div>"
            ],
            "text/plain": [
              "         X1        X2  Y\n",
              "0  8.660254 -5.000000  0\n",
              "1  9.212847 -3.888889  0\n",
              "2  9.606454 -2.777778  0\n",
              "3  9.860133 -1.666667  0\n",
              "4  9.984556 -0.555556  0"
            ]
          },
          "metadata": {},
          "execution_count": 347
        }
      ]
    },
    {
      "cell_type": "code",
      "metadata": {
        "colab": {
          "base_uri": "https://localhost:8080/",
          "height": 204
        },
        "id": "rsMSfc9t_4ni",
        "outputId": "650f108f-3463-4cf2-a5dd-8a05a9b9edd0"
      },
      "source": [
        "# Ploynomial Kernel\n",
        "# K(x, y) = (trans(x)*y + 1)^d\n",
        "\n",
        "# We need to find components for the Polynomical Kernel\n",
        "#X1,X2,X1_square,X2_square,X1*X2\n",
        "df['X1_Square']= df['X1']**2\n",
        "df['X2_Square']= df['X2']**2\n",
        "df['X1*X2'] = (df['X1'] *df['X2'])\n",
        "df.head()"
      ],
      "execution_count": 348,
      "outputs": [
        {
          "output_type": "execute_result",
          "data": {
            "text/html": [
              "<div>\n",
              "<style scoped>\n",
              "    .dataframe tbody tr th:only-of-type {\n",
              "        vertical-align: middle;\n",
              "    }\n",
              "\n",
              "    .dataframe tbody tr th {\n",
              "        vertical-align: top;\n",
              "    }\n",
              "\n",
              "    .dataframe thead th {\n",
              "        text-align: right;\n",
              "    }\n",
              "</style>\n",
              "<table border=\"1\" class=\"dataframe\">\n",
              "  <thead>\n",
              "    <tr style=\"text-align: right;\">\n",
              "      <th></th>\n",
              "      <th>X1</th>\n",
              "      <th>X2</th>\n",
              "      <th>Y</th>\n",
              "      <th>X1_Square</th>\n",
              "      <th>X2_Square</th>\n",
              "      <th>X1*X2</th>\n",
              "    </tr>\n",
              "  </thead>\n",
              "  <tbody>\n",
              "    <tr>\n",
              "      <th>0</th>\n",
              "      <td>8.660254</td>\n",
              "      <td>-5.000000</td>\n",
              "      <td>0</td>\n",
              "      <td>75.000000</td>\n",
              "      <td>25.000000</td>\n",
              "      <td>-43.301270</td>\n",
              "    </tr>\n",
              "    <tr>\n",
              "      <th>1</th>\n",
              "      <td>9.212847</td>\n",
              "      <td>-3.888889</td>\n",
              "      <td>0</td>\n",
              "      <td>84.876543</td>\n",
              "      <td>15.123457</td>\n",
              "      <td>-35.827737</td>\n",
              "    </tr>\n",
              "    <tr>\n",
              "      <th>2</th>\n",
              "      <td>9.606454</td>\n",
              "      <td>-2.777778</td>\n",
              "      <td>0</td>\n",
              "      <td>92.283951</td>\n",
              "      <td>7.716049</td>\n",
              "      <td>-26.684593</td>\n",
              "    </tr>\n",
              "    <tr>\n",
              "      <th>3</th>\n",
              "      <td>9.860133</td>\n",
              "      <td>-1.666667</td>\n",
              "      <td>0</td>\n",
              "      <td>97.222222</td>\n",
              "      <td>2.777778</td>\n",
              "      <td>-16.433555</td>\n",
              "    </tr>\n",
              "    <tr>\n",
              "      <th>4</th>\n",
              "      <td>9.984556</td>\n",
              "      <td>-0.555556</td>\n",
              "      <td>0</td>\n",
              "      <td>99.691358</td>\n",
              "      <td>0.308642</td>\n",
              "      <td>-5.546976</td>\n",
              "    </tr>\n",
              "  </tbody>\n",
              "</table>\n",
              "</div>"
            ],
            "text/plain": [
              "         X1        X2  Y  X1_Square  X2_Square      X1*X2\n",
              "0  8.660254 -5.000000  0  75.000000  25.000000 -43.301270\n",
              "1  9.212847 -3.888889  0  84.876543  15.123457 -35.827737\n",
              "2  9.606454 -2.777778  0  92.283951   7.716049 -26.684593\n",
              "3  9.860133 -1.666667  0  97.222222   2.777778 -16.433555\n",
              "4  9.984556 -0.555556  0  99.691358   0.308642  -5.546976"
            ]
          },
          "metadata": {},
          "execution_count": 348
        }
      ]
    },
    {
      "cell_type": "code",
      "metadata": {
        "id": "uA3E_QfyAUFb"
      },
      "source": [
        "### Independent and Dependent features\n",
        "X = df[['X1','X2','X1_Square','X2_Square','X1*X2']]\n",
        "y = df['Y']"
      ],
      "execution_count": 349,
      "outputs": []
    },
    {
      "cell_type": "code",
      "metadata": {
        "colab": {
          "base_uri": "https://localhost:8080/"
        },
        "id": "mka6LNHFAZd-",
        "outputId": "a9930bbb-6171-4f27-fcfb-410e95ef6f80"
      },
      "source": [
        "y"
      ],
      "execution_count": 350,
      "outputs": [
        {
          "output_type": "execute_result",
          "data": {
            "text/plain": [
              "0     0\n",
              "1     0\n",
              "2     0\n",
              "3     0\n",
              "4     0\n",
              "5     0\n",
              "6     0\n",
              "7     0\n",
              "8     0\n",
              "9     0\n",
              "10    0\n",
              "11    0\n",
              "12    0\n",
              "13    0\n",
              "14    0\n",
              "15    0\n",
              "16    0\n",
              "17    0\n",
              "18    0\n",
              "19    0\n",
              "0     1\n",
              "1     1\n",
              "2     1\n",
              "3     1\n",
              "4     1\n",
              "5     1\n",
              "6     1\n",
              "7     1\n",
              "8     1\n",
              "9     1\n",
              "10    1\n",
              "11    1\n",
              "12    1\n",
              "13    1\n",
              "14    1\n",
              "15    1\n",
              "16    1\n",
              "17    1\n",
              "18    1\n",
              "19    1\n",
              "Name: Y, dtype: int64"
            ]
          },
          "metadata": {},
          "execution_count": 350
        }
      ]
    },
    {
      "cell_type": "code",
      "metadata": {
        "id": "hVTd_0SAAZur"
      },
      "source": [
        "X_train, X_test, y_train, y_test = train_test_split(X, y, \n",
        "                                                    test_size = 0.25, \n",
        "                                                    random_state = 0)"
      ],
      "execution_count": 351,
      "outputs": []
    },
    {
      "cell_type": "code",
      "metadata": {
        "colab": {
          "base_uri": "https://localhost:8080/",
          "height": 979
        },
        "id": "I5LyVXe6Ac1U",
        "outputId": "8fee9697-3aa5-4c72-c385-bb8699fce0c0"
      },
      "source": [
        "X_train"
      ],
      "execution_count": 352,
      "outputs": [
        {
          "output_type": "execute_result",
          "data": {
            "text/html": [
              "<div>\n",
              "<style scoped>\n",
              "    .dataframe tbody tr th:only-of-type {\n",
              "        vertical-align: middle;\n",
              "    }\n",
              "\n",
              "    .dataframe tbody tr th {\n",
              "        vertical-align: top;\n",
              "    }\n",
              "\n",
              "    .dataframe thead th {\n",
              "        text-align: right;\n",
              "    }\n",
              "</style>\n",
              "<table border=\"1\" class=\"dataframe\">\n",
              "  <thead>\n",
              "    <tr style=\"text-align: right;\">\n",
              "      <th></th>\n",
              "      <th>X1</th>\n",
              "      <th>X2</th>\n",
              "      <th>X1_Square</th>\n",
              "      <th>X2_Square</th>\n",
              "      <th>X1*X2</th>\n",
              "    </tr>\n",
              "  </thead>\n",
              "  <tbody>\n",
              "    <tr>\n",
              "      <th>7</th>\n",
              "      <td>4.157397</td>\n",
              "      <td>2.777778</td>\n",
              "      <td>17.283951</td>\n",
              "      <td>7.716049</td>\n",
              "      <td>11.548325</td>\n",
              "    </tr>\n",
              "    <tr>\n",
              "      <th>15</th>\n",
              "      <td>-4.969040</td>\n",
              "      <td>-0.555556</td>\n",
              "      <td>24.691358</td>\n",
              "      <td>0.308642</td>\n",
              "      <td>2.760578</td>\n",
              "    </tr>\n",
              "    <tr>\n",
              "      <th>17</th>\n",
              "      <td>-4.157397</td>\n",
              "      <td>-2.777778</td>\n",
              "      <td>17.283951</td>\n",
              "      <td>7.716049</td>\n",
              "      <td>11.548325</td>\n",
              "    </tr>\n",
              "    <tr>\n",
              "      <th>2</th>\n",
              "      <td>9.606454</td>\n",
              "      <td>-2.777778</td>\n",
              "      <td>92.283951</td>\n",
              "      <td>7.716049</td>\n",
              "      <td>-26.684593</td>\n",
              "    </tr>\n",
              "    <tr>\n",
              "      <th>19</th>\n",
              "      <td>-0.000000</td>\n",
              "      <td>-5.000000</td>\n",
              "      <td>0.000000</td>\n",
              "      <td>25.000000</td>\n",
              "      <td>0.000000</td>\n",
              "    </tr>\n",
              "    <tr>\n",
              "      <th>10</th>\n",
              "      <td>-0.000000</td>\n",
              "      <td>5.000000</td>\n",
              "      <td>0.000000</td>\n",
              "      <td>25.000000</td>\n",
              "      <td>-0.000000</td>\n",
              "    </tr>\n",
              "    <tr>\n",
              "      <th>14</th>\n",
              "      <td>-4.969040</td>\n",
              "      <td>0.555556</td>\n",
              "      <td>24.691358</td>\n",
              "      <td>0.308642</td>\n",
              "      <td>-2.760578</td>\n",
              "    </tr>\n",
              "    <tr>\n",
              "      <th>16</th>\n",
              "      <td>-9.860133</td>\n",
              "      <td>-1.666667</td>\n",
              "      <td>97.222222</td>\n",
              "      <td>2.777778</td>\n",
              "      <td>16.433555</td>\n",
              "    </tr>\n",
              "    <tr>\n",
              "      <th>16</th>\n",
              "      <td>-4.714045</td>\n",
              "      <td>-1.666667</td>\n",
              "      <td>22.222222</td>\n",
              "      <td>2.777778</td>\n",
              "      <td>7.856742</td>\n",
              "    </tr>\n",
              "    <tr>\n",
              "      <th>8</th>\n",
              "      <td>9.212847</td>\n",
              "      <td>3.888889</td>\n",
              "      <td>84.876543</td>\n",
              "      <td>15.123457</td>\n",
              "      <td>35.827737</td>\n",
              "    </tr>\n",
              "    <tr>\n",
              "      <th>13</th>\n",
              "      <td>-9.860133</td>\n",
              "      <td>1.666667</td>\n",
              "      <td>97.222222</td>\n",
              "      <td>2.777778</td>\n",
              "      <td>-16.433555</td>\n",
              "    </tr>\n",
              "    <tr>\n",
              "      <th>5</th>\n",
              "      <td>9.984556</td>\n",
              "      <td>0.555556</td>\n",
              "      <td>99.691358</td>\n",
              "      <td>0.308642</td>\n",
              "      <td>5.546976</td>\n",
              "    </tr>\n",
              "    <tr>\n",
              "      <th>17</th>\n",
              "      <td>-9.606454</td>\n",
              "      <td>-2.777778</td>\n",
              "      <td>92.283951</td>\n",
              "      <td>7.716049</td>\n",
              "      <td>26.684593</td>\n",
              "    </tr>\n",
              "    <tr>\n",
              "      <th>14</th>\n",
              "      <td>-9.984556</td>\n",
              "      <td>0.555556</td>\n",
              "      <td>99.691358</td>\n",
              "      <td>0.308642</td>\n",
              "      <td>-5.546976</td>\n",
              "    </tr>\n",
              "    <tr>\n",
              "      <th>13</th>\n",
              "      <td>-4.714045</td>\n",
              "      <td>1.666667</td>\n",
              "      <td>22.222222</td>\n",
              "      <td>2.777778</td>\n",
              "      <td>-7.856742</td>\n",
              "    </tr>\n",
              "    <tr>\n",
              "      <th>7</th>\n",
              "      <td>9.606454</td>\n",
              "      <td>2.777778</td>\n",
              "      <td>92.283951</td>\n",
              "      <td>7.716049</td>\n",
              "      <td>26.684593</td>\n",
              "    </tr>\n",
              "    <tr>\n",
              "      <th>12</th>\n",
              "      <td>-4.157397</td>\n",
              "      <td>2.777778</td>\n",
              "      <td>17.283951</td>\n",
              "      <td>7.716049</td>\n",
              "      <td>-11.548325</td>\n",
              "    </tr>\n",
              "    <tr>\n",
              "      <th>1</th>\n",
              "      <td>9.212847</td>\n",
              "      <td>-3.888889</td>\n",
              "      <td>84.876543</td>\n",
              "      <td>15.123457</td>\n",
              "      <td>-35.827737</td>\n",
              "    </tr>\n",
              "    <tr>\n",
              "      <th>6</th>\n",
              "      <td>4.714045</td>\n",
              "      <td>1.666667</td>\n",
              "      <td>22.222222</td>\n",
              "      <td>2.777778</td>\n",
              "      <td>7.856742</td>\n",
              "    </tr>\n",
              "    <tr>\n",
              "      <th>12</th>\n",
              "      <td>-9.606454</td>\n",
              "      <td>2.777778</td>\n",
              "      <td>92.283951</td>\n",
              "      <td>7.716049</td>\n",
              "      <td>-26.684593</td>\n",
              "    </tr>\n",
              "    <tr>\n",
              "      <th>11</th>\n",
              "      <td>-3.142697</td>\n",
              "      <td>3.888889</td>\n",
              "      <td>9.876543</td>\n",
              "      <td>15.123457</td>\n",
              "      <td>-12.221599</td>\n",
              "    </tr>\n",
              "    <tr>\n",
              "      <th>4</th>\n",
              "      <td>4.969040</td>\n",
              "      <td>-0.555556</td>\n",
              "      <td>24.691358</td>\n",
              "      <td>0.308642</td>\n",
              "      <td>-2.760578</td>\n",
              "    </tr>\n",
              "    <tr>\n",
              "      <th>6</th>\n",
              "      <td>9.860133</td>\n",
              "      <td>1.666667</td>\n",
              "      <td>97.222222</td>\n",
              "      <td>2.777778</td>\n",
              "      <td>16.433555</td>\n",
              "    </tr>\n",
              "    <tr>\n",
              "      <th>3</th>\n",
              "      <td>4.714045</td>\n",
              "      <td>-1.666667</td>\n",
              "      <td>22.222222</td>\n",
              "      <td>2.777778</td>\n",
              "      <td>-7.856742</td>\n",
              "    </tr>\n",
              "    <tr>\n",
              "      <th>1</th>\n",
              "      <td>3.142697</td>\n",
              "      <td>-3.888889</td>\n",
              "      <td>9.876543</td>\n",
              "      <td>15.123457</td>\n",
              "      <td>-12.221599</td>\n",
              "    </tr>\n",
              "    <tr>\n",
              "      <th>19</th>\n",
              "      <td>-8.660254</td>\n",
              "      <td>-5.000000</td>\n",
              "      <td>75.000000</td>\n",
              "      <td>25.000000</td>\n",
              "      <td>43.301270</td>\n",
              "    </tr>\n",
              "    <tr>\n",
              "      <th>9</th>\n",
              "      <td>8.660254</td>\n",
              "      <td>5.000000</td>\n",
              "      <td>75.000000</td>\n",
              "      <td>25.000000</td>\n",
              "      <td>43.301270</td>\n",
              "    </tr>\n",
              "    <tr>\n",
              "      <th>18</th>\n",
              "      <td>-3.142697</td>\n",
              "      <td>-3.888889</td>\n",
              "      <td>9.876543</td>\n",
              "      <td>15.123457</td>\n",
              "      <td>12.221599</td>\n",
              "    </tr>\n",
              "    <tr>\n",
              "      <th>3</th>\n",
              "      <td>9.860133</td>\n",
              "      <td>-1.666667</td>\n",
              "      <td>97.222222</td>\n",
              "      <td>2.777778</td>\n",
              "      <td>-16.433555</td>\n",
              "    </tr>\n",
              "    <tr>\n",
              "      <th>0</th>\n",
              "      <td>8.660254</td>\n",
              "      <td>-5.000000</td>\n",
              "      <td>75.000000</td>\n",
              "      <td>25.000000</td>\n",
              "      <td>-43.301270</td>\n",
              "    </tr>\n",
              "  </tbody>\n",
              "</table>\n",
              "</div>"
            ],
            "text/plain": [
              "          X1        X2  X1_Square  X2_Square      X1*X2\n",
              "7   4.157397  2.777778  17.283951   7.716049  11.548325\n",
              "15 -4.969040 -0.555556  24.691358   0.308642   2.760578\n",
              "17 -4.157397 -2.777778  17.283951   7.716049  11.548325\n",
              "2   9.606454 -2.777778  92.283951   7.716049 -26.684593\n",
              "19 -0.000000 -5.000000   0.000000  25.000000   0.000000\n",
              "10 -0.000000  5.000000   0.000000  25.000000  -0.000000\n",
              "14 -4.969040  0.555556  24.691358   0.308642  -2.760578\n",
              "16 -9.860133 -1.666667  97.222222   2.777778  16.433555\n",
              "16 -4.714045 -1.666667  22.222222   2.777778   7.856742\n",
              "8   9.212847  3.888889  84.876543  15.123457  35.827737\n",
              "13 -9.860133  1.666667  97.222222   2.777778 -16.433555\n",
              "5   9.984556  0.555556  99.691358   0.308642   5.546976\n",
              "17 -9.606454 -2.777778  92.283951   7.716049  26.684593\n",
              "14 -9.984556  0.555556  99.691358   0.308642  -5.546976\n",
              "13 -4.714045  1.666667  22.222222   2.777778  -7.856742\n",
              "7   9.606454  2.777778  92.283951   7.716049  26.684593\n",
              "12 -4.157397  2.777778  17.283951   7.716049 -11.548325\n",
              "1   9.212847 -3.888889  84.876543  15.123457 -35.827737\n",
              "6   4.714045  1.666667  22.222222   2.777778   7.856742\n",
              "12 -9.606454  2.777778  92.283951   7.716049 -26.684593\n",
              "11 -3.142697  3.888889   9.876543  15.123457 -12.221599\n",
              "4   4.969040 -0.555556  24.691358   0.308642  -2.760578\n",
              "6   9.860133  1.666667  97.222222   2.777778  16.433555\n",
              "3   4.714045 -1.666667  22.222222   2.777778  -7.856742\n",
              "1   3.142697 -3.888889   9.876543  15.123457 -12.221599\n",
              "19 -8.660254 -5.000000  75.000000  25.000000  43.301270\n",
              "9   8.660254  5.000000  75.000000  25.000000  43.301270\n",
              "18 -3.142697 -3.888889   9.876543  15.123457  12.221599\n",
              "3   9.860133 -1.666667  97.222222   2.777778 -16.433555\n",
              "0   8.660254 -5.000000  75.000000  25.000000 -43.301270"
            ]
          },
          "metadata": {},
          "execution_count": 352
        }
      ]
    },
    {
      "cell_type": "code",
      "metadata": {
        "colab": {
          "base_uri": "https://localhost:8080/",
          "height": 542
        },
        "id": "s_wOqR6DAkOp",
        "outputId": "c890bb80-c3fd-4b53-a9f4-1a8182e96d81"
      },
      "source": [
        "import plotly.express as px\n",
        "\n",
        "fig = px.scatter_3d(df, x='X1', y='X2', z='X1*X2',\n",
        "              color='Y')\n",
        "fig.show()"
      ],
      "execution_count": 356,
      "outputs": [
        {
          "output_type": "display_data",
          "data": {
            "text/html": [
              "<html>\n",
              "<head><meta charset=\"utf-8\" /></head>\n",
              "<body>\n",
              "    <div>\n",
              "            <script src=\"https://cdnjs.cloudflare.com/ajax/libs/mathjax/2.7.5/MathJax.js?config=TeX-AMS-MML_SVG\"></script><script type=\"text/javascript\">if (window.MathJax) {MathJax.Hub.Config({SVG: {font: \"STIX-Web\"}});}</script>\n",
              "                <script type=\"text/javascript\">window.PlotlyConfig = {MathJaxConfig: 'local'};</script>\n",
              "        <script src=\"https://cdn.plot.ly/plotly-latest.min.js\"></script>    \n",
              "            <div id=\"784eea56-462a-4ddf-94ec-ea4dc1f7736d\" class=\"plotly-graph-div\" style=\"height:525px; width:100%;\"></div>\n",
              "            <script type=\"text/javascript\">\n",
              "                \n",
              "                    window.PLOTLYENV=window.PLOTLYENV || {};\n",
              "                    \n",
              "                if (document.getElementById(\"784eea56-462a-4ddf-94ec-ea4dc1f7736d\")) {\n",
              "                    Plotly.newPlot(\n",
              "                        '784eea56-462a-4ddf-94ec-ea4dc1f7736d',\n",
              "                        [{\"hoverlabel\": {\"namelength\": 0}, \"hovertemplate\": \"X1=%{x}<br>X2=%{y}<br>X1*X2=%{z}<br>Y=%{marker.color}\", \"legendgroup\": \"\", \"marker\": {\"color\": [0, 0, 0, 0, 0, 0, 0, 0, 0, 0, 0, 0, 0, 0, 0, 0, 0, 0, 0, 0, 1, 1, 1, 1, 1, 1, 1, 1, 1, 1, 1, 1, 1, 1, 1, 1, 1, 1, 1, 1], \"coloraxis\": \"coloraxis\", \"symbol\": \"circle\"}, \"mode\": \"markers\", \"name\": \"\", \"scene\": \"scene\", \"showlegend\": false, \"type\": \"scatter3d\", \"x\": [8.660254037844387, 9.21284663987611, 9.60645359210588, 9.860132971832694, 9.984555975339683, 9.984555975339683, 9.860132971832694, 9.60645359210588, 9.21284663987611, 8.660254037844387, -8.660254037844387, -9.21284663987611, -9.60645359210588, -9.860132971832694, -9.984555975339683, -9.984555975339683, -9.860132971832694, -9.60645359210588, -9.21284663987611, -8.660254037844387, 0.0, 3.1426968052735447, 4.15739709641549, 4.714045207910317, 4.969039949999533, 4.969039949999533, 4.714045207910317, 4.15739709641549, 3.1426968052735442, 0.0, -0.0, -3.1426968052735447, -4.15739709641549, -4.714045207910317, -4.969039949999533, -4.969039949999533, -4.714045207910317, -4.15739709641549, -3.1426968052735442, -0.0], \"y\": [-5.0, -3.888888888888889, -2.7777777777777777, -1.6666666666666665, -0.5555555555555554, 0.5555555555555554, 1.666666666666667, 2.7777777777777786, 3.8888888888888893, 5.0, 5.0, 3.888888888888889, 2.7777777777777777, 1.6666666666666665, 0.5555555555555554, -0.5555555555555554, -1.666666666666667, -2.7777777777777786, -3.8888888888888893, -5.0, -5.0, -3.888888888888889, -2.7777777777777777, -1.6666666666666665, -0.5555555555555554, 0.5555555555555554, 1.666666666666667, 2.7777777777777786, 3.8888888888888893, 5.0, 5.0, 3.888888888888889, 2.7777777777777777, 1.6666666666666665, 0.5555555555555554, -0.5555555555555554, -1.666666666666667, -2.7777777777777786, -3.8888888888888893, -5.0], \"z\": [-43.30127018922194, -35.827736932851536, -26.68459331140522, -16.43355495305449, -5.546975541855377, 5.546975541855377, 16.433554953054493, 26.684593311405227, 35.82773693285154, 43.30127018922194, -43.30127018922194, -35.827736932851536, -26.68459331140522, -16.43355495305449, -5.546975541855377, 5.546975541855377, 16.433554953054493, 26.684593311405227, 35.82773693285154, 43.30127018922194, -0.0, -12.221598687174895, -11.548325267820806, -7.856742013183861, -2.7605777499997393, 2.7605777499997393, 7.8567420131838634, 11.54832526782081, 12.221598687174895, 0.0, -0.0, -12.221598687174895, -11.548325267820806, -7.856742013183861, -2.7605777499997393, 2.7605777499997393, 7.8567420131838634, 11.54832526782081, 12.221598687174895, 0.0]}],\n",
              "                        {\"coloraxis\": {\"colorbar\": {\"title\": {\"text\": \"Y\"}}, \"colorscale\": [[0.0, \"#0d0887\"], [0.1111111111111111, \"#46039f\"], [0.2222222222222222, \"#7201a8\"], [0.3333333333333333, \"#9c179e\"], [0.4444444444444444, \"#bd3786\"], [0.5555555555555556, \"#d8576b\"], [0.6666666666666666, \"#ed7953\"], [0.7777777777777778, \"#fb9f3a\"], [0.8888888888888888, \"#fdca26\"], [1.0, \"#f0f921\"]]}, \"legend\": {\"tracegroupgap\": 0}, \"margin\": {\"t\": 60}, \"scene\": {\"domain\": {\"x\": [0.0, 1.0], \"y\": [0.0, 1.0]}, \"xaxis\": {\"title\": {\"text\": \"X1\"}}, \"yaxis\": {\"title\": {\"text\": \"X2\"}}, \"zaxis\": {\"title\": {\"text\": \"X1*X2\"}}}, \"template\": {\"data\": {\"bar\": [{\"error_x\": {\"color\": \"#2a3f5f\"}, \"error_y\": {\"color\": \"#2a3f5f\"}, \"marker\": {\"line\": {\"color\": \"#E5ECF6\", \"width\": 0.5}}, \"type\": \"bar\"}], \"barpolar\": [{\"marker\": {\"line\": {\"color\": \"#E5ECF6\", \"width\": 0.5}}, \"type\": \"barpolar\"}], \"carpet\": [{\"aaxis\": {\"endlinecolor\": \"#2a3f5f\", \"gridcolor\": \"white\", \"linecolor\": \"white\", \"minorgridcolor\": \"white\", \"startlinecolor\": \"#2a3f5f\"}, \"baxis\": {\"endlinecolor\": \"#2a3f5f\", \"gridcolor\": \"white\", \"linecolor\": \"white\", \"minorgridcolor\": \"white\", \"startlinecolor\": \"#2a3f5f\"}, \"type\": \"carpet\"}], \"choropleth\": [{\"colorbar\": {\"outlinewidth\": 0, \"ticks\": \"\"}, \"type\": \"choropleth\"}], \"contour\": [{\"colorbar\": {\"outlinewidth\": 0, \"ticks\": \"\"}, \"colorscale\": [[0.0, \"#0d0887\"], [0.1111111111111111, \"#46039f\"], [0.2222222222222222, \"#7201a8\"], [0.3333333333333333, \"#9c179e\"], [0.4444444444444444, \"#bd3786\"], [0.5555555555555556, \"#d8576b\"], [0.6666666666666666, \"#ed7953\"], [0.7777777777777778, \"#fb9f3a\"], [0.8888888888888888, \"#fdca26\"], [1.0, \"#f0f921\"]], \"type\": \"contour\"}], \"contourcarpet\": [{\"colorbar\": {\"outlinewidth\": 0, \"ticks\": \"\"}, \"type\": \"contourcarpet\"}], \"heatmap\": [{\"colorbar\": {\"outlinewidth\": 0, \"ticks\": \"\"}, \"colorscale\": [[0.0, \"#0d0887\"], [0.1111111111111111, \"#46039f\"], [0.2222222222222222, \"#7201a8\"], [0.3333333333333333, \"#9c179e\"], [0.4444444444444444, \"#bd3786\"], [0.5555555555555556, \"#d8576b\"], [0.6666666666666666, \"#ed7953\"], [0.7777777777777778, \"#fb9f3a\"], [0.8888888888888888, \"#fdca26\"], [1.0, \"#f0f921\"]], \"type\": \"heatmap\"}], \"heatmapgl\": [{\"colorbar\": {\"outlinewidth\": 0, \"ticks\": \"\"}, \"colorscale\": [[0.0, \"#0d0887\"], [0.1111111111111111, \"#46039f\"], [0.2222222222222222, \"#7201a8\"], [0.3333333333333333, \"#9c179e\"], [0.4444444444444444, \"#bd3786\"], [0.5555555555555556, \"#d8576b\"], [0.6666666666666666, \"#ed7953\"], [0.7777777777777778, \"#fb9f3a\"], [0.8888888888888888, \"#fdca26\"], [1.0, \"#f0f921\"]], \"type\": \"heatmapgl\"}], \"histogram\": [{\"marker\": {\"colorbar\": {\"outlinewidth\": 0, \"ticks\": \"\"}}, \"type\": \"histogram\"}], \"histogram2d\": [{\"colorbar\": {\"outlinewidth\": 0, \"ticks\": \"\"}, \"colorscale\": [[0.0, \"#0d0887\"], [0.1111111111111111, \"#46039f\"], [0.2222222222222222, \"#7201a8\"], [0.3333333333333333, \"#9c179e\"], [0.4444444444444444, \"#bd3786\"], [0.5555555555555556, \"#d8576b\"], [0.6666666666666666, \"#ed7953\"], [0.7777777777777778, \"#fb9f3a\"], [0.8888888888888888, \"#fdca26\"], [1.0, \"#f0f921\"]], \"type\": \"histogram2d\"}], \"histogram2dcontour\": [{\"colorbar\": {\"outlinewidth\": 0, \"ticks\": \"\"}, \"colorscale\": [[0.0, \"#0d0887\"], [0.1111111111111111, \"#46039f\"], [0.2222222222222222, \"#7201a8\"], [0.3333333333333333, \"#9c179e\"], [0.4444444444444444, \"#bd3786\"], [0.5555555555555556, \"#d8576b\"], [0.6666666666666666, \"#ed7953\"], [0.7777777777777778, \"#fb9f3a\"], [0.8888888888888888, \"#fdca26\"], [1.0, \"#f0f921\"]], \"type\": \"histogram2dcontour\"}], \"mesh3d\": [{\"colorbar\": {\"outlinewidth\": 0, \"ticks\": \"\"}, \"type\": \"mesh3d\"}], \"parcoords\": [{\"line\": {\"colorbar\": {\"outlinewidth\": 0, \"ticks\": \"\"}}, \"type\": \"parcoords\"}], \"pie\": [{\"automargin\": true, \"type\": \"pie\"}], \"scatter\": [{\"marker\": {\"colorbar\": {\"outlinewidth\": 0, \"ticks\": \"\"}}, \"type\": \"scatter\"}], \"scatter3d\": [{\"line\": {\"colorbar\": {\"outlinewidth\": 0, \"ticks\": \"\"}}, \"marker\": {\"colorbar\": {\"outlinewidth\": 0, \"ticks\": \"\"}}, \"type\": \"scatter3d\"}], \"scattercarpet\": [{\"marker\": {\"colorbar\": {\"outlinewidth\": 0, \"ticks\": \"\"}}, \"type\": \"scattercarpet\"}], \"scattergeo\": [{\"marker\": {\"colorbar\": {\"outlinewidth\": 0, \"ticks\": \"\"}}, \"type\": \"scattergeo\"}], \"scattergl\": [{\"marker\": {\"colorbar\": {\"outlinewidth\": 0, \"ticks\": \"\"}}, \"type\": \"scattergl\"}], \"scattermapbox\": [{\"marker\": {\"colorbar\": {\"outlinewidth\": 0, \"ticks\": \"\"}}, \"type\": \"scattermapbox\"}], \"scatterpolar\": [{\"marker\": {\"colorbar\": {\"outlinewidth\": 0, \"ticks\": \"\"}}, \"type\": \"scatterpolar\"}], \"scatterpolargl\": [{\"marker\": {\"colorbar\": {\"outlinewidth\": 0, \"ticks\": \"\"}}, \"type\": \"scatterpolargl\"}], \"scatterternary\": [{\"marker\": {\"colorbar\": {\"outlinewidth\": 0, \"ticks\": \"\"}}, \"type\": \"scatterternary\"}], \"surface\": [{\"colorbar\": {\"outlinewidth\": 0, \"ticks\": \"\"}, \"colorscale\": [[0.0, \"#0d0887\"], [0.1111111111111111, \"#46039f\"], [0.2222222222222222, \"#7201a8\"], [0.3333333333333333, \"#9c179e\"], [0.4444444444444444, \"#bd3786\"], [0.5555555555555556, \"#d8576b\"], [0.6666666666666666, \"#ed7953\"], [0.7777777777777778, \"#fb9f3a\"], [0.8888888888888888, \"#fdca26\"], [1.0, \"#f0f921\"]], \"type\": \"surface\"}], \"table\": [{\"cells\": {\"fill\": {\"color\": \"#EBF0F8\"}, \"line\": {\"color\": \"white\"}}, \"header\": {\"fill\": {\"color\": \"#C8D4E3\"}, \"line\": {\"color\": \"white\"}}, \"type\": \"table\"}]}, \"layout\": {\"annotationdefaults\": {\"arrowcolor\": \"#2a3f5f\", \"arrowhead\": 0, \"arrowwidth\": 1}, \"coloraxis\": {\"colorbar\": {\"outlinewidth\": 0, \"ticks\": \"\"}}, \"colorscale\": {\"diverging\": [[0, \"#8e0152\"], [0.1, \"#c51b7d\"], [0.2, \"#de77ae\"], [0.3, \"#f1b6da\"], [0.4, \"#fde0ef\"], [0.5, \"#f7f7f7\"], [0.6, \"#e6f5d0\"], [0.7, \"#b8e186\"], [0.8, \"#7fbc41\"], [0.9, \"#4d9221\"], [1, \"#276419\"]], \"sequential\": [[0.0, \"#0d0887\"], [0.1111111111111111, \"#46039f\"], [0.2222222222222222, \"#7201a8\"], [0.3333333333333333, \"#9c179e\"], [0.4444444444444444, \"#bd3786\"], [0.5555555555555556, \"#d8576b\"], [0.6666666666666666, \"#ed7953\"], [0.7777777777777778, \"#fb9f3a\"], [0.8888888888888888, \"#fdca26\"], [1.0, \"#f0f921\"]], \"sequentialminus\": [[0.0, \"#0d0887\"], [0.1111111111111111, \"#46039f\"], [0.2222222222222222, \"#7201a8\"], [0.3333333333333333, \"#9c179e\"], [0.4444444444444444, \"#bd3786\"], [0.5555555555555556, \"#d8576b\"], [0.6666666666666666, \"#ed7953\"], [0.7777777777777778, \"#fb9f3a\"], [0.8888888888888888, \"#fdca26\"], [1.0, \"#f0f921\"]]}, \"colorway\": [\"#636efa\", \"#EF553B\", \"#00cc96\", \"#ab63fa\", \"#FFA15A\", \"#19d3f3\", \"#FF6692\", \"#B6E880\", \"#FF97FF\", \"#FECB52\"], \"font\": {\"color\": \"#2a3f5f\"}, \"geo\": {\"bgcolor\": \"white\", \"lakecolor\": \"white\", \"landcolor\": \"#E5ECF6\", \"showlakes\": true, \"showland\": true, \"subunitcolor\": \"white\"}, \"hoverlabel\": {\"align\": \"left\"}, \"hovermode\": \"closest\", \"mapbox\": {\"style\": \"light\"}, \"paper_bgcolor\": \"white\", \"plot_bgcolor\": \"#E5ECF6\", \"polar\": {\"angularaxis\": {\"gridcolor\": \"white\", \"linecolor\": \"white\", \"ticks\": \"\"}, \"bgcolor\": \"#E5ECF6\", \"radialaxis\": {\"gridcolor\": \"white\", \"linecolor\": \"white\", \"ticks\": \"\"}}, \"scene\": {\"xaxis\": {\"backgroundcolor\": \"#E5ECF6\", \"gridcolor\": \"white\", \"gridwidth\": 2, \"linecolor\": \"white\", \"showbackground\": true, \"ticks\": \"\", \"zerolinecolor\": \"white\"}, \"yaxis\": {\"backgroundcolor\": \"#E5ECF6\", \"gridcolor\": \"white\", \"gridwidth\": 2, \"linecolor\": \"white\", \"showbackground\": true, \"ticks\": \"\", \"zerolinecolor\": \"white\"}, \"zaxis\": {\"backgroundcolor\": \"#E5ECF6\", \"gridcolor\": \"white\", \"gridwidth\": 2, \"linecolor\": \"white\", \"showbackground\": true, \"ticks\": \"\", \"zerolinecolor\": \"white\"}}, \"shapedefaults\": {\"line\": {\"color\": \"#2a3f5f\"}}, \"ternary\": {\"aaxis\": {\"gridcolor\": \"white\", \"linecolor\": \"white\", \"ticks\": \"\"}, \"baxis\": {\"gridcolor\": \"white\", \"linecolor\": \"white\", \"ticks\": \"\"}, \"bgcolor\": \"#E5ECF6\", \"caxis\": {\"gridcolor\": \"white\", \"linecolor\": \"white\", \"ticks\": \"\"}}, \"title\": {\"x\": 0.05}, \"xaxis\": {\"automargin\": true, \"gridcolor\": \"white\", \"linecolor\": \"white\", \"ticks\": \"\", \"title\": {\"standoff\": 15}, \"zerolinecolor\": \"white\", \"zerolinewidth\": 2}, \"yaxis\": {\"automargin\": true, \"gridcolor\": \"white\", \"linecolor\": \"white\", \"ticks\": \"\", \"title\": {\"standoff\": 15}, \"zerolinecolor\": \"white\", \"zerolinewidth\": 2}}}},\n",
              "                        {\"responsive\": true}\n",
              "                    ).then(function(){\n",
              "                            \n",
              "var gd = document.getElementById('784eea56-462a-4ddf-94ec-ea4dc1f7736d');\n",
              "var x = new MutationObserver(function (mutations, observer) {{\n",
              "        var display = window.getComputedStyle(gd).display;\n",
              "        if (!display || display === 'none') {{\n",
              "            console.log([gd, 'removed!']);\n",
              "            Plotly.purge(gd);\n",
              "            observer.disconnect();\n",
              "        }}\n",
              "}});\n",
              "\n",
              "// Listen for the removal of the full notebook cells\n",
              "var notebookContainer = gd.closest('#notebook-container');\n",
              "if (notebookContainer) {{\n",
              "    x.observe(notebookContainer, {childList: true});\n",
              "}}\n",
              "\n",
              "// Listen for the clearing of the current output cell\n",
              "var outputEl = gd.closest('.output');\n",
              "if (outputEl) {{\n",
              "    x.observe(outputEl, {childList: true});\n",
              "}}\n",
              "\n",
              "                        })\n",
              "                };\n",
              "                \n",
              "            </script>\n",
              "        </div>\n",
              "</body>\n",
              "</html>"
            ]
          },
          "metadata": {}
        }
      ]
    },
    {
      "cell_type": "code",
      "metadata": {
        "colab": {
          "base_uri": "https://localhost:8080/",
          "height": 542
        },
        "id": "navCKcGxAkzj",
        "outputId": "e9ab8e1d-a0f7-4b9a-bfec-a300fd8900c1"
      },
      "source": [
        "fig = px.scatter_3d(df, x='X1_Square', y='X1_Square', z='X1*X2',\n",
        "              color='Y')\n",
        "fig.show()"
      ],
      "execution_count": 354,
      "outputs": [
        {
          "output_type": "display_data",
          "data": {
            "text/html": [
              "<html>\n",
              "<head><meta charset=\"utf-8\" /></head>\n",
              "<body>\n",
              "    <div>\n",
              "            <script src=\"https://cdnjs.cloudflare.com/ajax/libs/mathjax/2.7.5/MathJax.js?config=TeX-AMS-MML_SVG\"></script><script type=\"text/javascript\">if (window.MathJax) {MathJax.Hub.Config({SVG: {font: \"STIX-Web\"}});}</script>\n",
              "                <script type=\"text/javascript\">window.PlotlyConfig = {MathJaxConfig: 'local'};</script>\n",
              "        <script src=\"https://cdn.plot.ly/plotly-latest.min.js\"></script>    \n",
              "            <div id=\"62dd388b-c74b-4aa0-86ac-80f01578888a\" class=\"plotly-graph-div\" style=\"height:525px; width:100%;\"></div>\n",
              "            <script type=\"text/javascript\">\n",
              "                \n",
              "                    window.PLOTLYENV=window.PLOTLYENV || {};\n",
              "                    \n",
              "                if (document.getElementById(\"62dd388b-c74b-4aa0-86ac-80f01578888a\")) {\n",
              "                    Plotly.newPlot(\n",
              "                        '62dd388b-c74b-4aa0-86ac-80f01578888a',\n",
              "                        [{\"hoverlabel\": {\"namelength\": 0}, \"hovertemplate\": \"X1_Square=%{y}<br>X1*X2=%{z}<br>Y=%{marker.color}\", \"legendgroup\": \"\", \"marker\": {\"color\": [0, 0, 0, 0, 0, 0, 0, 0, 0, 0, 0, 0, 0, 0, 0, 0, 0, 0, 0, 0, 1, 1, 1, 1, 1, 1, 1, 1, 1, 1, 1, 1, 1, 1, 1, 1, 1, 1, 1, 1], \"coloraxis\": \"coloraxis\", \"symbol\": \"circle\"}, \"mode\": \"markers\", \"name\": \"\", \"scene\": \"scene\", \"showlegend\": false, \"type\": \"scatter3d\", \"x\": [75.00000000000001, 84.87654320987653, 92.28395061728395, 97.22222222222224, 99.69135802469137, 99.69135802469137, 97.22222222222224, 92.28395061728395, 84.87654320987653, 75.00000000000001, 75.00000000000001, 84.87654320987653, 92.28395061728395, 97.22222222222224, 99.69135802469137, 99.69135802469137, 97.22222222222224, 92.28395061728395, 84.87654320987653, 75.00000000000001, 0.0, 9.876543209876544, 17.28395061728395, 22.222222222222225, 24.69135802469136, 24.69135802469136, 22.222222222222225, 17.28395061728395, 9.87654320987654, 0.0, 0.0, 9.876543209876544, 17.28395061728395, 22.222222222222225, 24.69135802469136, 24.69135802469136, 22.222222222222225, 17.28395061728395, 9.87654320987654, 0.0], \"y\": [75.00000000000001, 84.87654320987653, 92.28395061728395, 97.22222222222224, 99.69135802469137, 99.69135802469137, 97.22222222222224, 92.28395061728395, 84.87654320987653, 75.00000000000001, 75.00000000000001, 84.87654320987653, 92.28395061728395, 97.22222222222224, 99.69135802469137, 99.69135802469137, 97.22222222222224, 92.28395061728395, 84.87654320987653, 75.00000000000001, 0.0, 9.876543209876544, 17.28395061728395, 22.222222222222225, 24.69135802469136, 24.69135802469136, 22.222222222222225, 17.28395061728395, 9.87654320987654, 0.0, 0.0, 9.876543209876544, 17.28395061728395, 22.222222222222225, 24.69135802469136, 24.69135802469136, 22.222222222222225, 17.28395061728395, 9.87654320987654, 0.0], \"z\": [-43.30127018922194, -35.827736932851536, -26.68459331140522, -16.43355495305449, -5.546975541855377, 5.546975541855377, 16.433554953054493, 26.684593311405227, 35.82773693285154, 43.30127018922194, -43.30127018922194, -35.827736932851536, -26.68459331140522, -16.43355495305449, -5.546975541855377, 5.546975541855377, 16.433554953054493, 26.684593311405227, 35.82773693285154, 43.30127018922194, -0.0, -12.221598687174895, -11.548325267820806, -7.856742013183861, -2.7605777499997393, 2.7605777499997393, 7.8567420131838634, 11.54832526782081, 12.221598687174895, 0.0, -0.0, -12.221598687174895, -11.548325267820806, -7.856742013183861, -2.7605777499997393, 2.7605777499997393, 7.8567420131838634, 11.54832526782081, 12.221598687174895, 0.0]}],\n",
              "                        {\"coloraxis\": {\"colorbar\": {\"title\": {\"text\": \"Y\"}}, \"colorscale\": [[0.0, \"#0d0887\"], [0.1111111111111111, \"#46039f\"], [0.2222222222222222, \"#7201a8\"], [0.3333333333333333, \"#9c179e\"], [0.4444444444444444, \"#bd3786\"], [0.5555555555555556, \"#d8576b\"], [0.6666666666666666, \"#ed7953\"], [0.7777777777777778, \"#fb9f3a\"], [0.8888888888888888, \"#fdca26\"], [1.0, \"#f0f921\"]]}, \"legend\": {\"tracegroupgap\": 0}, \"margin\": {\"t\": 60}, \"scene\": {\"domain\": {\"x\": [0.0, 1.0], \"y\": [0.0, 1.0]}, \"xaxis\": {\"title\": {\"text\": \"X1_Square\"}}, \"yaxis\": {\"title\": {\"text\": \"X1_Square\"}}, \"zaxis\": {\"title\": {\"text\": \"X1*X2\"}}}, \"template\": {\"data\": {\"bar\": [{\"error_x\": {\"color\": \"#2a3f5f\"}, \"error_y\": {\"color\": \"#2a3f5f\"}, \"marker\": {\"line\": {\"color\": \"#E5ECF6\", \"width\": 0.5}}, \"type\": \"bar\"}], \"barpolar\": [{\"marker\": {\"line\": {\"color\": \"#E5ECF6\", \"width\": 0.5}}, \"type\": \"barpolar\"}], \"carpet\": [{\"aaxis\": {\"endlinecolor\": \"#2a3f5f\", \"gridcolor\": \"white\", \"linecolor\": \"white\", \"minorgridcolor\": \"white\", \"startlinecolor\": \"#2a3f5f\"}, \"baxis\": {\"endlinecolor\": \"#2a3f5f\", \"gridcolor\": \"white\", \"linecolor\": \"white\", \"minorgridcolor\": \"white\", \"startlinecolor\": \"#2a3f5f\"}, \"type\": \"carpet\"}], \"choropleth\": [{\"colorbar\": {\"outlinewidth\": 0, \"ticks\": \"\"}, \"type\": \"choropleth\"}], \"contour\": [{\"colorbar\": {\"outlinewidth\": 0, \"ticks\": \"\"}, \"colorscale\": [[0.0, \"#0d0887\"], [0.1111111111111111, \"#46039f\"], [0.2222222222222222, \"#7201a8\"], [0.3333333333333333, \"#9c179e\"], [0.4444444444444444, \"#bd3786\"], [0.5555555555555556, \"#d8576b\"], [0.6666666666666666, \"#ed7953\"], [0.7777777777777778, \"#fb9f3a\"], [0.8888888888888888, \"#fdca26\"], [1.0, \"#f0f921\"]], \"type\": \"contour\"}], \"contourcarpet\": [{\"colorbar\": {\"outlinewidth\": 0, \"ticks\": \"\"}, \"type\": \"contourcarpet\"}], \"heatmap\": [{\"colorbar\": {\"outlinewidth\": 0, \"ticks\": \"\"}, \"colorscale\": [[0.0, \"#0d0887\"], [0.1111111111111111, \"#46039f\"], [0.2222222222222222, \"#7201a8\"], [0.3333333333333333, \"#9c179e\"], [0.4444444444444444, \"#bd3786\"], [0.5555555555555556, \"#d8576b\"], [0.6666666666666666, \"#ed7953\"], [0.7777777777777778, \"#fb9f3a\"], [0.8888888888888888, \"#fdca26\"], [1.0, \"#f0f921\"]], \"type\": \"heatmap\"}], \"heatmapgl\": [{\"colorbar\": {\"outlinewidth\": 0, \"ticks\": \"\"}, \"colorscale\": [[0.0, \"#0d0887\"], [0.1111111111111111, \"#46039f\"], [0.2222222222222222, \"#7201a8\"], [0.3333333333333333, \"#9c179e\"], [0.4444444444444444, \"#bd3786\"], [0.5555555555555556, \"#d8576b\"], [0.6666666666666666, \"#ed7953\"], [0.7777777777777778, \"#fb9f3a\"], [0.8888888888888888, \"#fdca26\"], [1.0, \"#f0f921\"]], \"type\": \"heatmapgl\"}], \"histogram\": [{\"marker\": {\"colorbar\": {\"outlinewidth\": 0, \"ticks\": \"\"}}, \"type\": \"histogram\"}], \"histogram2d\": [{\"colorbar\": {\"outlinewidth\": 0, \"ticks\": \"\"}, \"colorscale\": [[0.0, \"#0d0887\"], [0.1111111111111111, \"#46039f\"], [0.2222222222222222, \"#7201a8\"], [0.3333333333333333, \"#9c179e\"], [0.4444444444444444, \"#bd3786\"], [0.5555555555555556, \"#d8576b\"], [0.6666666666666666, \"#ed7953\"], [0.7777777777777778, \"#fb9f3a\"], [0.8888888888888888, \"#fdca26\"], [1.0, \"#f0f921\"]], \"type\": \"histogram2d\"}], \"histogram2dcontour\": [{\"colorbar\": {\"outlinewidth\": 0, \"ticks\": \"\"}, \"colorscale\": [[0.0, \"#0d0887\"], [0.1111111111111111, \"#46039f\"], [0.2222222222222222, \"#7201a8\"], [0.3333333333333333, \"#9c179e\"], [0.4444444444444444, \"#bd3786\"], [0.5555555555555556, \"#d8576b\"], [0.6666666666666666, \"#ed7953\"], [0.7777777777777778, \"#fb9f3a\"], [0.8888888888888888, \"#fdca26\"], [1.0, \"#f0f921\"]], \"type\": \"histogram2dcontour\"}], \"mesh3d\": [{\"colorbar\": {\"outlinewidth\": 0, \"ticks\": \"\"}, \"type\": \"mesh3d\"}], \"parcoords\": [{\"line\": {\"colorbar\": {\"outlinewidth\": 0, \"ticks\": \"\"}}, \"type\": \"parcoords\"}], \"pie\": [{\"automargin\": true, \"type\": \"pie\"}], \"scatter\": [{\"marker\": {\"colorbar\": {\"outlinewidth\": 0, \"ticks\": \"\"}}, \"type\": \"scatter\"}], \"scatter3d\": [{\"line\": {\"colorbar\": {\"outlinewidth\": 0, \"ticks\": \"\"}}, \"marker\": {\"colorbar\": {\"outlinewidth\": 0, \"ticks\": \"\"}}, \"type\": \"scatter3d\"}], \"scattercarpet\": [{\"marker\": {\"colorbar\": {\"outlinewidth\": 0, \"ticks\": \"\"}}, \"type\": \"scattercarpet\"}], \"scattergeo\": [{\"marker\": {\"colorbar\": {\"outlinewidth\": 0, \"ticks\": \"\"}}, \"type\": \"scattergeo\"}], \"scattergl\": [{\"marker\": {\"colorbar\": {\"outlinewidth\": 0, \"ticks\": \"\"}}, \"type\": \"scattergl\"}], \"scattermapbox\": [{\"marker\": {\"colorbar\": {\"outlinewidth\": 0, \"ticks\": \"\"}}, \"type\": \"scattermapbox\"}], \"scatterpolar\": [{\"marker\": {\"colorbar\": {\"outlinewidth\": 0, \"ticks\": \"\"}}, \"type\": \"scatterpolar\"}], \"scatterpolargl\": [{\"marker\": {\"colorbar\": {\"outlinewidth\": 0, \"ticks\": \"\"}}, \"type\": \"scatterpolargl\"}], \"scatterternary\": [{\"marker\": {\"colorbar\": {\"outlinewidth\": 0, \"ticks\": \"\"}}, \"type\": \"scatterternary\"}], \"surface\": [{\"colorbar\": {\"outlinewidth\": 0, \"ticks\": \"\"}, \"colorscale\": [[0.0, \"#0d0887\"], [0.1111111111111111, \"#46039f\"], [0.2222222222222222, \"#7201a8\"], [0.3333333333333333, \"#9c179e\"], [0.4444444444444444, \"#bd3786\"], [0.5555555555555556, \"#d8576b\"], [0.6666666666666666, \"#ed7953\"], [0.7777777777777778, \"#fb9f3a\"], [0.8888888888888888, \"#fdca26\"], [1.0, \"#f0f921\"]], \"type\": \"surface\"}], \"table\": [{\"cells\": {\"fill\": {\"color\": \"#EBF0F8\"}, \"line\": {\"color\": \"white\"}}, \"header\": {\"fill\": {\"color\": \"#C8D4E3\"}, \"line\": {\"color\": \"white\"}}, \"type\": \"table\"}]}, \"layout\": {\"annotationdefaults\": {\"arrowcolor\": \"#2a3f5f\", \"arrowhead\": 0, \"arrowwidth\": 1}, \"coloraxis\": {\"colorbar\": {\"outlinewidth\": 0, \"ticks\": \"\"}}, \"colorscale\": {\"diverging\": [[0, \"#8e0152\"], [0.1, \"#c51b7d\"], [0.2, \"#de77ae\"], [0.3, \"#f1b6da\"], [0.4, \"#fde0ef\"], [0.5, \"#f7f7f7\"], [0.6, \"#e6f5d0\"], [0.7, \"#b8e186\"], [0.8, \"#7fbc41\"], [0.9, \"#4d9221\"], [1, \"#276419\"]], \"sequential\": [[0.0, \"#0d0887\"], [0.1111111111111111, \"#46039f\"], [0.2222222222222222, \"#7201a8\"], [0.3333333333333333, \"#9c179e\"], [0.4444444444444444, \"#bd3786\"], [0.5555555555555556, \"#d8576b\"], [0.6666666666666666, \"#ed7953\"], [0.7777777777777778, \"#fb9f3a\"], [0.8888888888888888, \"#fdca26\"], [1.0, \"#f0f921\"]], \"sequentialminus\": [[0.0, \"#0d0887\"], [0.1111111111111111, \"#46039f\"], [0.2222222222222222, \"#7201a8\"], [0.3333333333333333, \"#9c179e\"], [0.4444444444444444, \"#bd3786\"], [0.5555555555555556, \"#d8576b\"], [0.6666666666666666, \"#ed7953\"], [0.7777777777777778, \"#fb9f3a\"], [0.8888888888888888, \"#fdca26\"], [1.0, \"#f0f921\"]]}, \"colorway\": [\"#636efa\", \"#EF553B\", \"#00cc96\", \"#ab63fa\", \"#FFA15A\", \"#19d3f3\", \"#FF6692\", \"#B6E880\", \"#FF97FF\", \"#FECB52\"], \"font\": {\"color\": \"#2a3f5f\"}, \"geo\": {\"bgcolor\": \"white\", \"lakecolor\": \"white\", \"landcolor\": \"#E5ECF6\", \"showlakes\": true, \"showland\": true, \"subunitcolor\": \"white\"}, \"hoverlabel\": {\"align\": \"left\"}, \"hovermode\": \"closest\", \"mapbox\": {\"style\": \"light\"}, \"paper_bgcolor\": \"white\", \"plot_bgcolor\": \"#E5ECF6\", \"polar\": {\"angularaxis\": {\"gridcolor\": \"white\", \"linecolor\": \"white\", \"ticks\": \"\"}, \"bgcolor\": \"#E5ECF6\", \"radialaxis\": {\"gridcolor\": \"white\", \"linecolor\": \"white\", \"ticks\": \"\"}}, \"scene\": {\"xaxis\": {\"backgroundcolor\": \"#E5ECF6\", \"gridcolor\": \"white\", \"gridwidth\": 2, \"linecolor\": \"white\", \"showbackground\": true, \"ticks\": \"\", \"zerolinecolor\": \"white\"}, \"yaxis\": {\"backgroundcolor\": \"#E5ECF6\", \"gridcolor\": \"white\", \"gridwidth\": 2, \"linecolor\": \"white\", \"showbackground\": true, \"ticks\": \"\", \"zerolinecolor\": \"white\"}, \"zaxis\": {\"backgroundcolor\": \"#E5ECF6\", \"gridcolor\": \"white\", \"gridwidth\": 2, \"linecolor\": \"white\", \"showbackground\": true, \"ticks\": \"\", \"zerolinecolor\": \"white\"}}, \"shapedefaults\": {\"line\": {\"color\": \"#2a3f5f\"}}, \"ternary\": {\"aaxis\": {\"gridcolor\": \"white\", \"linecolor\": \"white\", \"ticks\": \"\"}, \"baxis\": {\"gridcolor\": \"white\", \"linecolor\": \"white\", \"ticks\": \"\"}, \"bgcolor\": \"#E5ECF6\", \"caxis\": {\"gridcolor\": \"white\", \"linecolor\": \"white\", \"ticks\": \"\"}}, \"title\": {\"x\": 0.05}, \"xaxis\": {\"automargin\": true, \"gridcolor\": \"white\", \"linecolor\": \"white\", \"ticks\": \"\", \"title\": {\"standoff\": 15}, \"zerolinecolor\": \"white\", \"zerolinewidth\": 2}, \"yaxis\": {\"automargin\": true, \"gridcolor\": \"white\", \"linecolor\": \"white\", \"ticks\": \"\", \"title\": {\"standoff\": 15}, \"zerolinecolor\": \"white\", \"zerolinewidth\": 2}}}},\n",
              "                        {\"responsive\": true}\n",
              "                    ).then(function(){\n",
              "                            \n",
              "var gd = document.getElementById('62dd388b-c74b-4aa0-86ac-80f01578888a');\n",
              "var x = new MutationObserver(function (mutations, observer) {{\n",
              "        var display = window.getComputedStyle(gd).display;\n",
              "        if (!display || display === 'none') {{\n",
              "            console.log([gd, 'removed!']);\n",
              "            Plotly.purge(gd);\n",
              "            observer.disconnect();\n",
              "        }}\n",
              "}});\n",
              "\n",
              "// Listen for the removal of the full notebook cells\n",
              "var notebookContainer = gd.closest('#notebook-container');\n",
              "if (notebookContainer) {{\n",
              "    x.observe(notebookContainer, {childList: true});\n",
              "}}\n",
              "\n",
              "// Listen for the clearing of the current output cell\n",
              "var outputEl = gd.closest('.output');\n",
              "if (outputEl) {{\n",
              "    x.observe(outputEl, {childList: true});\n",
              "}}\n",
              "\n",
              "                        })\n",
              "                };\n",
              "                \n",
              "            </script>\n",
              "        </div>\n",
              "</body>\n",
              "</html>"
            ]
          },
          "metadata": {}
        }
      ]
    },
    {
      "cell_type": "code",
      "metadata": {
        "colab": {
          "base_uri": "https://localhost:8080/"
        },
        "id": "BJfkAxi2ArA_",
        "outputId": "cd57f894-ab3c-4432-a8bd-d3e37d0b3a06"
      },
      "source": [
        "classifier = SVC(kernel=\"linear\")\n",
        "classifier.fit(X_train, y_train)\n",
        "y_pred = classifier.predict(X_test)\n",
        "accuracy_score(y_test, y_pred)"
      ],
      "execution_count": 355,
      "outputs": [
        {
          "output_type": "execute_result",
          "data": {
            "text/plain": [
              "1.0"
            ]
          },
          "metadata": {},
          "execution_count": 355
        }
      ]
    }
  ]
}