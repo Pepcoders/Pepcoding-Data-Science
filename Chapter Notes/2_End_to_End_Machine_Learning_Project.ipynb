{
  "nbformat": 4,
  "nbformat_minor": 0,
  "metadata": {
    "colab": {
      "name": "End-to-End Machine Learning Project.ipynb",
      "provenance": [],
      "collapsed_sections": [
        "ANUI5xkY1KAz",
        "6uhkUQNbVRC1",
        "w7pkvmWJBrIB",
        "TPUc1STEdNex"
      ],
      "toc_visible": true
    },
    "kernelspec": {
      "name": "python3",
      "display_name": "Python 3"
    },
    "language_info": {
      "name": "python"
    }
  },
  "cells": [
    {
      "cell_type": "markdown",
      "metadata": {
        "id": "qa9SROEEuE7Q"
      },
      "source": [
        "**Agenda**\n",
        "\n",
        "1. Look at the big picture.\n",
        "2. Get the data.\n",
        "3. Discover and visualize the data to gain insights.\n",
        "4. Prepare the data for Machine Learning algorithms.\n",
        "5. Select a model and train it.\n",
        "6. Fine-tune your model.\n",
        "7. Present your solution.\n",
        "8. Launch, monitor, and maintain your system."
      ]
    },
    {
      "cell_type": "markdown",
      "metadata": {
        "id": "ANUI5xkY1KAz"
      },
      "source": [
        "#**Look At The Big Picture**\n",
        "\n",
        "gather knowledge about problem it's current solution and how it will be used by company and downstreams"
      ]
    },
    {
      "cell_type": "markdown",
      "metadata": {
        "id": "FJtyuF4FvZZD"
      },
      "source": [
        "First Task is to **Frame the Problem** by asking question's\n",
        "\n",
        "**Question:** What exactly is the business objective?\n",
        "\n",
        "This is important for performance measure to evaluate your model and time spend tweaking it."
      ]
    },
    {
      "cell_type": "markdown",
      "metadata": {
        "id": "g79NQTQkw3ao"
      },
      "source": [
        "Next Question is **What's the current solution?**\n",
        "\n",
        "It will give a reference performance, as well as insights on how to solve the problem."
      ]
    },
    {
      "cell_type": "markdown",
      "metadata": {
        "id": "rw6-iSHKz4WK"
      },
      "source": [
        "**Select a Performance Measure**\n",
        "\n",
        "1.  RMSE:  *It gives an idea of how much error the system typically makes in its predictions*\n",
        "\n",
        "2. MAE :Mean Absolute Error \n",
        "\n",
        "\n",
        "RMSE = sqrt(sum((correct_value - predicted_value)^2)/number_of_samples)\n",
        "\n",
        "MAE = 1/number_of_samples * sum(|correctValue - predictedValue|)"
      ]
    },
    {
      "cell_type": "markdown",
      "metadata": {
        "id": "G6ezWq_90gQE"
      },
      "source": [
        "**Check the Assumptions**\n",
        "\n",
        "My output is used by other machine.\n",
        "\n",
        "Ask how downstream will use your output.\n",
        "\n",
        "example exact price or label's(“cheap,”, “medium,” or “expensive”)."
      ]
    },
    {
      "cell_type": "markdown",
      "metadata": {
        "id": "ulC2vKiV1DLz"
      },
      "source": [
        "#**Get the Data**"
      ]
    },
    {
      "cell_type": "code",
      "metadata": {
        "id": "ltQVfr2a1RW2"
      },
      "source": [
        "import pandas as pd"
      ],
      "execution_count": 37,
      "outputs": []
    },
    {
      "cell_type": "code",
      "metadata": {
        "id": "6_BZqn8b2Pe3"
      },
      "source": [
        "housing = pd.read_csv(\"https://raw.githubusercontent.com/mohitgupta-omg/Kaggle-California-Housing-Prices/master/Data/housing.csv\")"
      ],
      "execution_count": 38,
      "outputs": []
    },
    {
      "cell_type": "markdown",
      "metadata": {
        "id": "IolQg6EU7QqC"
      },
      "source": [
        "Look at the Data Structure"
      ]
    },
    {
      "cell_type": "code",
      "metadata": {
        "colab": {
          "base_uri": "https://localhost:8080/",
          "height": 225
        },
        "id": "_amg9FK87TK7",
        "outputId": "311be9c9-098c-4cb0-ea2a-d2ccc78fa97d"
      },
      "source": [
        "housing.head()"
      ],
      "execution_count": 39,
      "outputs": [
        {
          "output_type": "execute_result",
          "data": {
            "text/html": [
              "<div>\n",
              "<style scoped>\n",
              "    .dataframe tbody tr th:only-of-type {\n",
              "        vertical-align: middle;\n",
              "    }\n",
              "\n",
              "    .dataframe tbody tr th {\n",
              "        vertical-align: top;\n",
              "    }\n",
              "\n",
              "    .dataframe thead th {\n",
              "        text-align: right;\n",
              "    }\n",
              "</style>\n",
              "<table border=\"1\" class=\"dataframe\">\n",
              "  <thead>\n",
              "    <tr style=\"text-align: right;\">\n",
              "      <th></th>\n",
              "      <th>longitude</th>\n",
              "      <th>latitude</th>\n",
              "      <th>housing_median_age</th>\n",
              "      <th>total_rooms</th>\n",
              "      <th>total_bedrooms</th>\n",
              "      <th>population</th>\n",
              "      <th>households</th>\n",
              "      <th>median_income</th>\n",
              "      <th>median_house_value</th>\n",
              "      <th>ocean_proximity</th>\n",
              "    </tr>\n",
              "  </thead>\n",
              "  <tbody>\n",
              "    <tr>\n",
              "      <th>0</th>\n",
              "      <td>-122.23</td>\n",
              "      <td>37.88</td>\n",
              "      <td>41.0</td>\n",
              "      <td>880.0</td>\n",
              "      <td>129.0</td>\n",
              "      <td>322.0</td>\n",
              "      <td>126.0</td>\n",
              "      <td>8.3252</td>\n",
              "      <td>452600.0</td>\n",
              "      <td>NEAR BAY</td>\n",
              "    </tr>\n",
              "    <tr>\n",
              "      <th>1</th>\n",
              "      <td>-122.22</td>\n",
              "      <td>37.86</td>\n",
              "      <td>21.0</td>\n",
              "      <td>7099.0</td>\n",
              "      <td>1106.0</td>\n",
              "      <td>2401.0</td>\n",
              "      <td>1138.0</td>\n",
              "      <td>8.3014</td>\n",
              "      <td>358500.0</td>\n",
              "      <td>NEAR BAY</td>\n",
              "    </tr>\n",
              "    <tr>\n",
              "      <th>2</th>\n",
              "      <td>-122.24</td>\n",
              "      <td>37.85</td>\n",
              "      <td>52.0</td>\n",
              "      <td>1467.0</td>\n",
              "      <td>190.0</td>\n",
              "      <td>496.0</td>\n",
              "      <td>177.0</td>\n",
              "      <td>7.2574</td>\n",
              "      <td>352100.0</td>\n",
              "      <td>NEAR BAY</td>\n",
              "    </tr>\n",
              "    <tr>\n",
              "      <th>3</th>\n",
              "      <td>-122.25</td>\n",
              "      <td>37.85</td>\n",
              "      <td>52.0</td>\n",
              "      <td>1274.0</td>\n",
              "      <td>235.0</td>\n",
              "      <td>558.0</td>\n",
              "      <td>219.0</td>\n",
              "      <td>5.6431</td>\n",
              "      <td>341300.0</td>\n",
              "      <td>NEAR BAY</td>\n",
              "    </tr>\n",
              "    <tr>\n",
              "      <th>4</th>\n",
              "      <td>-122.25</td>\n",
              "      <td>37.85</td>\n",
              "      <td>52.0</td>\n",
              "      <td>1627.0</td>\n",
              "      <td>280.0</td>\n",
              "      <td>565.0</td>\n",
              "      <td>259.0</td>\n",
              "      <td>3.8462</td>\n",
              "      <td>342200.0</td>\n",
              "      <td>NEAR BAY</td>\n",
              "    </tr>\n",
              "  </tbody>\n",
              "</table>\n",
              "</div>"
            ],
            "text/plain": [
              "   longitude  latitude  ...  median_house_value  ocean_proximity\n",
              "0    -122.23     37.88  ...            452600.0         NEAR BAY\n",
              "1    -122.22     37.86  ...            358500.0         NEAR BAY\n",
              "2    -122.24     37.85  ...            352100.0         NEAR BAY\n",
              "3    -122.25     37.85  ...            341300.0         NEAR BAY\n",
              "4    -122.25     37.85  ...            342200.0         NEAR BAY\n",
              "\n",
              "[5 rows x 10 columns]"
            ]
          },
          "metadata": {},
          "execution_count": 39
        }
      ]
    },
    {
      "cell_type": "markdown",
      "metadata": {
        "id": "xaSENuPU2c1M"
      },
      "source": [
        "Each row represents one district.\n",
        "\n",
        "The info() method is useful to get a quick description of the data,\n",
        "\n",
        "There are total 20640 entries.\n",
        "There are some null values in total_bedrooms 207(20640-20433)"
      ]
    },
    {
      "cell_type": "code",
      "metadata": {
        "colab": {
          "base_uri": "https://localhost:8080/"
        },
        "id": "IV1cL1gr2TcX",
        "outputId": "52b42880-7bc9-4b33-bd50-1d74193454b6"
      },
      "source": [
        "housing.info()"
      ],
      "execution_count": 40,
      "outputs": [
        {
          "output_type": "stream",
          "name": "stdout",
          "text": [
            "<class 'pandas.core.frame.DataFrame'>\n",
            "RangeIndex: 20640 entries, 0 to 20639\n",
            "Data columns (total 10 columns):\n",
            " #   Column              Non-Null Count  Dtype  \n",
            "---  ------              --------------  -----  \n",
            " 0   longitude           20640 non-null  float64\n",
            " 1   latitude            20640 non-null  float64\n",
            " 2   housing_median_age  20640 non-null  float64\n",
            " 3   total_rooms         20640 non-null  float64\n",
            " 4   total_bedrooms      20433 non-null  float64\n",
            " 5   population          20640 non-null  float64\n",
            " 6   households          20640 non-null  float64\n",
            " 7   median_income       20640 non-null  float64\n",
            " 8   median_house_value  20640 non-null  float64\n",
            " 9   ocean_proximity     20640 non-null  object \n",
            "dtypes: float64(9), object(1)\n",
            "memory usage: 1.6+ MB\n"
          ]
        }
      ]
    },
    {
      "cell_type": "markdown",
      "metadata": {
        "id": "Ej655SiK3MyL"
      },
      "source": [
        "values in the **ocean_proximity** column were **repetitive**,\n",
        "which means that it is probably a categorical attribute."
      ]
    },
    {
      "cell_type": "code",
      "metadata": {
        "colab": {
          "base_uri": "https://localhost:8080/"
        },
        "id": "rVeL8yrD9NuV",
        "outputId": "e0e8af89-54e0-4373-9e4e-c073b7d0b334"
      },
      "source": [
        "housing[\"ocean_proximity\"].value_counts()"
      ],
      "execution_count": 41,
      "outputs": [
        {
          "output_type": "execute_result",
          "data": {
            "text/plain": [
              "<1H OCEAN     9136\n",
              "INLAND        6551\n",
              "NEAR OCEAN    2658\n",
              "NEAR BAY      2290\n",
              "ISLAND           5\n",
              "Name: ocean_proximity, dtype: int64"
            ]
          },
          "metadata": {},
          "execution_count": 41
        }
      ]
    },
    {
      "cell_type": "markdown",
      "metadata": {
        "id": "9M5br5IH-FOt"
      },
      "source": [
        "Let’s look at the other fields. The **describe()** method shows a summary of the\n",
        "numerical attributes"
      ]
    },
    {
      "cell_type": "code",
      "metadata": {
        "colab": {
          "base_uri": "https://localhost:8080/",
          "height": 319
        },
        "id": "Zn5Qdvh09V2m",
        "outputId": "16bb9f83-9860-4a1b-f9f7-1040924a465d"
      },
      "source": [
        "housing.describe()"
      ],
      "execution_count": 42,
      "outputs": [
        {
          "output_type": "execute_result",
          "data": {
            "text/html": [
              "<div>\n",
              "<style scoped>\n",
              "    .dataframe tbody tr th:only-of-type {\n",
              "        vertical-align: middle;\n",
              "    }\n",
              "\n",
              "    .dataframe tbody tr th {\n",
              "        vertical-align: top;\n",
              "    }\n",
              "\n",
              "    .dataframe thead th {\n",
              "        text-align: right;\n",
              "    }\n",
              "</style>\n",
              "<table border=\"1\" class=\"dataframe\">\n",
              "  <thead>\n",
              "    <tr style=\"text-align: right;\">\n",
              "      <th></th>\n",
              "      <th>longitude</th>\n",
              "      <th>latitude</th>\n",
              "      <th>housing_median_age</th>\n",
              "      <th>total_rooms</th>\n",
              "      <th>total_bedrooms</th>\n",
              "      <th>population</th>\n",
              "      <th>households</th>\n",
              "      <th>median_income</th>\n",
              "      <th>median_house_value</th>\n",
              "    </tr>\n",
              "  </thead>\n",
              "  <tbody>\n",
              "    <tr>\n",
              "      <th>count</th>\n",
              "      <td>20640.000000</td>\n",
              "      <td>20640.000000</td>\n",
              "      <td>20640.000000</td>\n",
              "      <td>20640.000000</td>\n",
              "      <td>20433.000000</td>\n",
              "      <td>20640.000000</td>\n",
              "      <td>20640.000000</td>\n",
              "      <td>20640.000000</td>\n",
              "      <td>20640.000000</td>\n",
              "    </tr>\n",
              "    <tr>\n",
              "      <th>mean</th>\n",
              "      <td>-119.569704</td>\n",
              "      <td>35.631861</td>\n",
              "      <td>28.639486</td>\n",
              "      <td>2635.763081</td>\n",
              "      <td>537.870553</td>\n",
              "      <td>1425.476744</td>\n",
              "      <td>499.539680</td>\n",
              "      <td>3.870671</td>\n",
              "      <td>206855.816909</td>\n",
              "    </tr>\n",
              "    <tr>\n",
              "      <th>std</th>\n",
              "      <td>2.003532</td>\n",
              "      <td>2.135952</td>\n",
              "      <td>12.585558</td>\n",
              "      <td>2181.615252</td>\n",
              "      <td>421.385070</td>\n",
              "      <td>1132.462122</td>\n",
              "      <td>382.329753</td>\n",
              "      <td>1.899822</td>\n",
              "      <td>115395.615874</td>\n",
              "    </tr>\n",
              "    <tr>\n",
              "      <th>min</th>\n",
              "      <td>-124.350000</td>\n",
              "      <td>32.540000</td>\n",
              "      <td>1.000000</td>\n",
              "      <td>2.000000</td>\n",
              "      <td>1.000000</td>\n",
              "      <td>3.000000</td>\n",
              "      <td>1.000000</td>\n",
              "      <td>0.499900</td>\n",
              "      <td>14999.000000</td>\n",
              "    </tr>\n",
              "    <tr>\n",
              "      <th>25%</th>\n",
              "      <td>-121.800000</td>\n",
              "      <td>33.930000</td>\n",
              "      <td>18.000000</td>\n",
              "      <td>1447.750000</td>\n",
              "      <td>296.000000</td>\n",
              "      <td>787.000000</td>\n",
              "      <td>280.000000</td>\n",
              "      <td>2.563400</td>\n",
              "      <td>119600.000000</td>\n",
              "    </tr>\n",
              "    <tr>\n",
              "      <th>50%</th>\n",
              "      <td>-118.490000</td>\n",
              "      <td>34.260000</td>\n",
              "      <td>29.000000</td>\n",
              "      <td>2127.000000</td>\n",
              "      <td>435.000000</td>\n",
              "      <td>1166.000000</td>\n",
              "      <td>409.000000</td>\n",
              "      <td>3.534800</td>\n",
              "      <td>179700.000000</td>\n",
              "    </tr>\n",
              "    <tr>\n",
              "      <th>75%</th>\n",
              "      <td>-118.010000</td>\n",
              "      <td>37.710000</td>\n",
              "      <td>37.000000</td>\n",
              "      <td>3148.000000</td>\n",
              "      <td>647.000000</td>\n",
              "      <td>1725.000000</td>\n",
              "      <td>605.000000</td>\n",
              "      <td>4.743250</td>\n",
              "      <td>264725.000000</td>\n",
              "    </tr>\n",
              "    <tr>\n",
              "      <th>max</th>\n",
              "      <td>-114.310000</td>\n",
              "      <td>41.950000</td>\n",
              "      <td>52.000000</td>\n",
              "      <td>39320.000000</td>\n",
              "      <td>6445.000000</td>\n",
              "      <td>35682.000000</td>\n",
              "      <td>6082.000000</td>\n",
              "      <td>15.000100</td>\n",
              "      <td>500001.000000</td>\n",
              "    </tr>\n",
              "  </tbody>\n",
              "</table>\n",
              "</div>"
            ],
            "text/plain": [
              "          longitude      latitude  ...  median_income  median_house_value\n",
              "count  20640.000000  20640.000000  ...   20640.000000        20640.000000\n",
              "mean    -119.569704     35.631861  ...       3.870671       206855.816909\n",
              "std        2.003532      2.135952  ...       1.899822       115395.615874\n",
              "min     -124.350000     32.540000  ...       0.499900        14999.000000\n",
              "25%     -121.800000     33.930000  ...       2.563400       119600.000000\n",
              "50%     -118.490000     34.260000  ...       3.534800       179700.000000\n",
              "75%     -118.010000     37.710000  ...       4.743250       264725.000000\n",
              "max     -114.310000     41.950000  ...      15.000100       500001.000000\n",
              "\n",
              "[8 rows x 9 columns]"
            ]
          },
          "metadata": {},
          "execution_count": 42
        }
      ]
    },
    {
      "cell_type": "markdown",
      "metadata": {
        "id": "0RLtMCuMCS9g"
      },
      "source": [
        "**Create a Test Set**\n",
        "\n",
        "This is done to prevent overfitting.\n",
        "\n",
        "just pick some instances randomly, typically 20% of the dataset (or less if your dataset is very large)"
      ]
    },
    {
      "cell_type": "code",
      "metadata": {
        "id": "YIyC6pHZCVoJ"
      },
      "source": [
        "import numpy as np\n",
        "\n",
        "def split_train_test(data, test_ratio):\n",
        " shuffled_indices = np.random.permutation(len(data))\n",
        " test_set_size = int(len(data) * test_ratio)\n",
        " test_indices = shuffled_indices[:test_set_size]\n",
        " train_indices = shuffled_indices[test_set_size:]\n",
        " return data.iloc[train_indices], data.iloc[test_indices]"
      ],
      "execution_count": 43,
      "outputs": []
    },
    {
      "cell_type": "code",
      "metadata": {
        "colab": {
          "base_uri": "https://localhost:8080/"
        },
        "id": "s7XEv9PyM2VD",
        "outputId": "fc61e257-03fc-44aa-9f32-d5a053ef9137"
      },
      "source": [
        "train_set, test_set = split_train_test(housing, 0.2)\n",
        "print(len(train_set))\n",
        "print(len(test_set))"
      ],
      "execution_count": 44,
      "outputs": [
        {
          "output_type": "stream",
          "name": "stdout",
          "text": [
            "16512\n",
            "4128\n"
          ]
        }
      ]
    },
    {
      "cell_type": "markdown",
      "metadata": {
        "id": "GWOoYk_4_35l"
      },
      "source": [
        "#**Discover and Visualize the Data to Gain Insights**\n",
        "\n",
        "visualize geographical data\n",
        "looking for co-relations"
      ]
    },
    {
      "cell_type": "markdown",
      "metadata": {
        "id": "1KvxNvdfEqUY"
      },
      "source": [
        "**Looking for Correlations**\n",
        "\n",
        "does 2 varing fields has relation to each other\n",
        "\n",
        "example height is related to weight somehow\n",
        "\n",
        "\n",
        "1.   Co-variance\n",
        "2.   Pearson correlation coeff [wiki](https://en.wikipedia.org/wiki/Pearson_correlation_coefficient) **linear relation**\n",
        "3.   Spearman rank corr.coeff"
      ]
    },
    {
      "cell_type": "code",
      "metadata": {
        "id": "L8SqvYr4NYHF"
      },
      "source": [
        "corr_matrix = housing.corr() # Pearson correlation coeff"
      ],
      "execution_count": 45,
      "outputs": []
    },
    {
      "cell_type": "markdown",
      "metadata": {
        "id": "BMgsySDENlbC"
      },
      "source": [
        "Now let’s look at how much each attribute correlates with the median house value:"
      ]
    },
    {
      "cell_type": "code",
      "metadata": {
        "colab": {
          "base_uri": "https://localhost:8080/"
        },
        "id": "BOrlbcqXNjAl",
        "outputId": "515cf0f6-109f-4b9e-fbdb-67b4e26d09d3"
      },
      "source": [
        "corr_matrix[\"median_house_value\"].sort_values(ascending=False)"
      ],
      "execution_count": 46,
      "outputs": [
        {
          "output_type": "execute_result",
          "data": {
            "text/plain": [
              "median_house_value    1.000000\n",
              "median_income         0.688075\n",
              "total_rooms           0.134153\n",
              "housing_median_age    0.105623\n",
              "households            0.065843\n",
              "total_bedrooms        0.049686\n",
              "population           -0.024650\n",
              "longitude            -0.045967\n",
              "latitude             -0.144160\n",
              "Name: median_house_value, dtype: float64"
            ]
          },
          "metadata": {},
          "execution_count": 46
        }
      ]
    },
    {
      "cell_type": "markdown",
      "metadata": {
        "id": "Zy2qopvLPyDs"
      },
      "source": [
        "Another way to check for correlation between attributes is to use Pandas’\n",
        "scatter_matrix"
      ]
    },
    {
      "cell_type": "code",
      "metadata": {
        "colab": {
          "base_uri": "https://localhost:8080/",
          "height": 827
        },
        "id": "POpPzyhsPt4k",
        "outputId": "230b590e-27b0-4f7d-980a-d83dec90141f"
      },
      "source": [
        "from pandas.plotting import scatter_matrix\n",
        "attributes = [\"median_house_value\", \"median_income\", \"total_rooms\",\n",
        " \"housing_median_age\"]\n",
        "scatter_matrix(housing[attributes], figsize=(12, 8))"
      ],
      "execution_count": 47,
      "outputs": [
        {
          "output_type": "execute_result",
          "data": {
            "text/plain": [
              "array([[<matplotlib.axes._subplots.AxesSubplot object at 0x7f9e42e690d0>,\n",
              "        <matplotlib.axes._subplots.AxesSubplot object at 0x7f9e42e2e850>,\n",
              "        <matplotlib.axes._subplots.AxesSubplot object at 0x7f9e42de9910>,\n",
              "        <matplotlib.axes._subplots.AxesSubplot object at 0x7f9e42d9ff10>],\n",
              "       [<matplotlib.axes._subplots.AxesSubplot object at 0x7f9e42d61550>,\n",
              "        <matplotlib.axes._subplots.AxesSubplot object at 0x7f9e42d95b50>,\n",
              "        <matplotlib.axes._subplots.AxesSubplot object at 0x7f9e42d56190>,\n",
              "        <matplotlib.axes._subplots.AxesSubplot object at 0x7f9e42d0d790>],\n",
              "       [<matplotlib.axes._subplots.AxesSubplot object at 0x7f9e42d16650>,\n",
              "        <matplotlib.axes._subplots.AxesSubplot object at 0x7f9e42ccdd90>,\n",
              "        <matplotlib.axes._subplots.AxesSubplot object at 0x7f9e42c40f50>,\n",
              "        <matplotlib.axes._subplots.AxesSubplot object at 0x7f9e42c07650>],\n",
              "       [<matplotlib.axes._subplots.AxesSubplot object at 0x7f9e42bbd810>,\n",
              "        <matplotlib.axes._subplots.AxesSubplot object at 0x7f9e42b71e10>,\n",
              "        <matplotlib.axes._subplots.AxesSubplot object at 0x7f9e42b34450>,\n",
              "        <matplotlib.axes._subplots.AxesSubplot object at 0x7f9e42ae7a50>]],\n",
              "      dtype=object)"
            ]
          },
          "metadata": {},
          "execution_count": 47
        },
        {
          "output_type": "display_data",
          "data": {
            "image/png": "[encoded data removed]",
            "text/plain": [
              "<Figure size 864x576 with 16 Axes>"
            ]
          },
          "metadata": {
            "needs_background": "light"
          }
        }
      ]
    },
    {
      "cell_type": "markdown",
      "metadata": {
        "id": "FcjDfIhaQbMz"
      },
      "source": [
        "The most promising attribute to predict the median house value is the median income"
      ]
    },
    {
      "cell_type": "code",
      "metadata": {
        "colab": {
          "base_uri": "https://localhost:8080/",
          "height": 298
        },
        "id": "yNTf-2x2QcpV",
        "outputId": "9864f151-5a04-416a-d831-dbf54fa232ad"
      },
      "source": [
        "housing.plot(kind=\"scatter\", x=\"median_income\", y=\"median_house_value\", alpha=0.1)"
      ],
      "execution_count": 48,
      "outputs": [
        {
          "output_type": "execute_result",
          "data": {
            "text/plain": [
              "<matplotlib.axes._subplots.AxesSubplot at 0x7f9e428a3510>"
            ]
          },
          "metadata": {},
          "execution_count": 48
        },
        {
          "output_type": "display_data",
          "data": {
            "image/png": "[encoded data removed]",
            "text/plain": [
              "<Figure size 432x288 with 1 Axes>"
            ]
          },
          "metadata": {
            "needs_background": "light"
          }
        }
      ]
    },
    {
      "cell_type": "markdown",
      "metadata": {
        "id": "q90-egZpRwx3"
      },
      "source": [
        "**Experimenting with Attribute Combinations**\n",
        "\n",
        "may be no feature has strong co-relation, combine multiple columns to generate new feature.\n",
        "\n",
        "x  y    z\n",
        "\n",
        "1  10   13\n",
        "\n",
        "6  7    15\n",
        "\n",
        "9  -4   7\n",
        "\n",
        "here no column has strong co-relation with z\n",
        "\n",
        "create new column sum = x+y\n",
        "\n",
        "x  y    sum  z\n",
        "\n",
        "1  10    11  13\n",
        "\n",
        "6  7     13  15\n",
        "\n",
        "9  -4     5  7\n",
        "\n",
        "now sum has strong corelation with z\n",
        "\n",
        "\n",
        "total number of rooms in a district is not very useful if you don’t know how many households there are.\n",
        "\n",
        "What you really want is the number of rooms per household"
      ]
    },
    {
      "cell_type": "code",
      "metadata": {
        "id": "hSg6CQLtRx5v"
      },
      "source": [
        "housing[\"rooms_per_household\"] = housing[\"total_rooms\"]/housing[\"households\"]\n",
        "housing[\"bedrooms_per_room\"] = housing[\"total_bedrooms\"]/housing[\"total_rooms\"]\n",
        "housing[\"population_per_household\"]=housing[\"population\"]/housing[\"households\"]"
      ],
      "execution_count": 49,
      "outputs": []
    },
    {
      "cell_type": "code",
      "metadata": {
        "colab": {
          "base_uri": "https://localhost:8080/"
        },
        "id": "C_WzZRnXSJYg",
        "outputId": "e21961d8-13e7-4ff8-ea15-c708f94c7a85"
      },
      "source": [
        " corr_matrix = housing.corr()\n",
        " corr_matrix[\"median_house_value\"].sort_values(ascending=False)"
      ],
      "execution_count": 50,
      "outputs": [
        {
          "output_type": "execute_result",
          "data": {
            "text/plain": [
              "median_house_value          1.000000\n",
              "median_income               0.688075\n",
              "rooms_per_household         0.151948\n",
              "total_rooms                 0.134153\n",
              "housing_median_age          0.105623\n",
              "households                  0.065843\n",
              "total_bedrooms              0.049686\n",
              "population_per_household   -0.023737\n",
              "population                 -0.024650\n",
              "longitude                  -0.045967\n",
              "latitude                   -0.144160\n",
              "bedrooms_per_room          -0.255880\n",
              "Name: median_house_value, dtype: float64"
            ]
          },
          "metadata": {},
          "execution_count": 50
        }
      ]
    },
    {
      "cell_type": "markdown",
      "metadata": {
        "id": "zLfF0rjPS4B8"
      },
      "source": [
        "houses with a lower bedroom/room ratio tend to be more expensive"
      ]
    },
    {
      "cell_type": "markdown",
      "metadata": {
        "id": "cEFtR83STEf4"
      },
      "source": [
        "#**Prepare the Data for Machine Learning Algorithms**"
      ]
    },
    {
      "cell_type": "markdown",
      "metadata": {
        "id": "6uhkUQNbVRC1"
      },
      "source": [
        "##**Data Cleaning**\n",
        "\n",
        "total_bedrooms attribute has some missing values, so need to fix this. You have three options:\n",
        "\n",
        "\n",
        "*   Get rid of the corresponding districts.\n",
        "*   Get rid of the whole attribute.\n",
        "*   Set the values to some value (zero, the mean, the median, etc.)."
      ]
    },
    {
      "cell_type": "code",
      "metadata": {
        "id": "b0S_9LQQSOYI"
      },
      "source": [
        "#housing.dropna(subset=[\"total_bedrooms\"])         # option 1\n",
        "#housing.drop(\"total_bedrooms\", axis=1)            # option 2\n",
        "median = housing[\"total_bedrooms\"].median()       # option 3\n",
        "housing[\"total_bedrooms\"].fillna(median, inplace=True)"
      ],
      "execution_count": 51,
      "outputs": []
    },
    {
      "cell_type": "markdown",
      "metadata": {
        "id": "LoWWJs7rWW8S"
      },
      "source": [
        "Scikit-Learn provides a handy class to take care of missing values: **SimpleImputer**"
      ]
    },
    {
      "cell_type": "code",
      "metadata": {
        "id": "tJzV3XR6WjNy"
      },
      "source": [
        "from sklearn.impute import SimpleImputer\n",
        "imputer = SimpleImputer(strategy=\"median\")"
      ],
      "execution_count": 52,
      "outputs": []
    },
    {
      "cell_type": "markdown",
      "metadata": {
        "id": "zkKENflnXO9_"
      },
      "source": [
        "Since the median can only be computed on numerical attributes, we need to create a\n",
        "copy of the data without the text attribute ocean_proximity:"
      ]
    },
    {
      "cell_type": "code",
      "metadata": {
        "id": "kTLp-W7hXOIJ"
      },
      "source": [
        "housing_num = housing.drop(\"ocean_proximity\", axis=1)"
      ],
      "execution_count": 53,
      "outputs": []
    },
    {
      "cell_type": "markdown",
      "metadata": {
        "id": "GJQOK3KCZp3L"
      },
      "source": [
        "Now you can fit the imputer instance to the training data using the fit() method:"
      ]
    },
    {
      "cell_type": "code",
      "metadata": {
        "colab": {
          "base_uri": "https://localhost:8080/"
        },
        "id": "cfbxHI4CXQ3i",
        "outputId": "7d044b63-97d2-4b39-e367-ee48b982f577"
      },
      "source": [
        "imputer.fit(housing_num)"
      ],
      "execution_count": 54,
      "outputs": [
        {
          "output_type": "execute_result",
          "data": {
            "text/plain": [
              "SimpleImputer(add_indicator=False, copy=True, fill_value=None,\n",
              "              missing_values=nan, strategy='median', verbose=0)"
            ]
          },
          "metadata": {},
          "execution_count": 54
        }
      ]
    },
    {
      "cell_type": "code",
      "metadata": {
        "id": "JXIwQxvIXUWq"
      },
      "source": [
        "X = imputer.transform(housing_num)"
      ],
      "execution_count": 55,
      "outputs": []
    },
    {
      "cell_type": "markdown",
      "metadata": {
        "id": "yqKQZQcDZRif"
      },
      "source": [
        "The result is a plain NumPy array containing the transformed features. If you want to\n",
        "put it back into a Pandas DataFrame, it’s simple:"
      ]
    },
    {
      "cell_type": "code",
      "metadata": {
        "id": "E3rUz1S2YouL"
      },
      "source": [
        "housing_tr = pd.DataFrame(X, columns=housing_num.columns)"
      ],
      "execution_count": 56,
      "outputs": []
    },
    {
      "cell_type": "markdown",
      "metadata": {
        "id": "w7pkvmWJBrIB"
      },
      "source": [
        "##**handling Text and Categorical Atrributes**\n",
        "\n",
        "Most Machine Learning algorithms prefer to work with numbers, so replacing string with numbers \n",
        "\n",
        "\n",
        "*   OrdinalEncoder (comparable or rank)\n",
        "\n",
        "*   OneHotEncoder  (not comparable)\n",
        "\n",
        "\n",
        "**OrdinalEncoder**\n",
        "\n",
        "replace comparable with numbers example(poor, average, good)\n",
        "\n",
        "`Marks     Grade`\n",
        "\n",
        "`30         D`\n",
        "\n",
        "`50         C`\n",
        "\n",
        "`70         B`\n",
        "\n",
        "`100        A`\n",
        "\n",
        "\n",
        "convert all grade to number's from 0 to 3\n",
        "\n",
        "`Marks     Grade`\n",
        "\n",
        "`30         0`\n",
        "\n",
        "`50         1`\n",
        "\n",
        "`70         2`\n",
        "\n",
        "`100        3`\n",
        "\n",
        "\n",
        "Logic  higher the marks higher the grade\n",
        "\n",
        "\n",
        "**OneHotEncoder**\n",
        "\n",
        "giving numbers to non comparable fields ML ALGO will try to figure out pattern in them but there is not, so creates multiple columns for categories\n",
        "\n",
        "\n",
        "we cant do same thing as in ordinal encoding\n",
        "\n",
        "`Marks     State`\n",
        "\n",
        "`30         delhi`\n",
        "\n",
        "`50         up`\n",
        "\n",
        "`70         bihar`\n",
        "\n",
        "`100        chhattisgarh`\n",
        "\n",
        "\n",
        "convert all State to number's from 0 to 3\n",
        "\n",
        "`Marks     State`\n",
        "\n",
        "`30         0`\n",
        "\n",
        "`50         1`\n",
        "\n",
        "`70         2`\n",
        "\n",
        "`100        3`\n",
        "\n",
        "\n",
        "ML will try to find Logic may be it leads to wrong prediction\n",
        "like higher the marks person is from 3(chhattisgarh)"
      ]
    },
    {
      "cell_type": "markdown",
      "metadata": {
        "id": "gkfSHVAoVybj"
      },
      "source": [
        "**ocean_proximity** has string content so lets solve it using **OrdinalEncoder**"
      ]
    },
    {
      "cell_type": "markdown",
      "metadata": {
        "id": "uUmmwjBaWWBB"
      },
      "source": [
        "To replace string's we are going to use Scikit-Learn’s **OrdinalEncoder** it will map each unique label with a number from 0 "
      ]
    },
    {
      "cell_type": "code",
      "metadata": {
        "id": "otsp0_6IWleD"
      },
      "source": [
        "from sklearn.preprocessing import OrdinalEncoder\n",
        "ordinal_encoder = OrdinalEncoder()\n",
        "\n",
        "housing_cat_encoded = ordinal_encoder.fit_transform(housing[[\"ocean_proximity\"]])"
      ],
      "execution_count": 57,
      "outputs": []
    },
    {
      "cell_type": "markdown",
      "metadata": {
        "id": "xHY6cnVNXLE-"
      },
      "source": [
        "You can get the list of categories using the categories_ instance variable."
      ]
    },
    {
      "cell_type": "code",
      "metadata": {
        "colab": {
          "base_uri": "https://localhost:8080/"
        },
        "id": "G-_-MqLZWoHq",
        "outputId": "9f836855-d6bc-4096-cc70-f33aece5f91b"
      },
      "source": [
        "ordinal_encoder.categories_"
      ],
      "execution_count": 58,
      "outputs": [
        {
          "output_type": "execute_result",
          "data": {
            "text/plain": [
              "[array(['<1H OCEAN', 'INLAND', 'ISLAND', 'NEAR BAY', 'NEAR OCEAN'],\n",
              "       dtype=object)]"
            ]
          },
          "metadata": {},
          "execution_count": 58
        }
      ]
    },
    {
      "cell_type": "code",
      "metadata": {
        "colab": {
          "base_uri": "https://localhost:8080/",
          "height": 1000
        },
        "id": "tzsSdE0UzALR",
        "outputId": "72ea74ed-e782-4508-c2a2-1f745656bed7"
      },
      "source": [
        "housing[[\"ocean_proximity_numeric\"]] = housing_cat_encoded\n",
        "housing[['ocean_proximity', 'ocean_proximity_numeric']].iloc[::500]"
      ],
      "execution_count": 59,
      "outputs": [
        {
          "output_type": "execute_result",
          "data": {
            "text/html": [
              "<div>\n",
              "<style scoped>\n",
              "    .dataframe tbody tr th:only-of-type {\n",
              "        vertical-align: middle;\n",
              "    }\n",
              "\n",
              "    .dataframe tbody tr th {\n",
              "        vertical-align: top;\n",
              "    }\n",
              "\n",
              "    .dataframe thead th {\n",
              "        text-align: right;\n",
              "    }\n",
              "</style>\n",
              "<table border=\"1\" class=\"dataframe\">\n",
              "  <thead>\n",
              "    <tr style=\"text-align: right;\">\n",
              "      <th></th>\n",
              "      <th>ocean_proximity</th>\n",
              "      <th>ocean_proximity_numeric</th>\n",
              "    </tr>\n",
              "  </thead>\n",
              "  <tbody>\n",
              "    <tr>\n",
              "      <th>0</th>\n",
              "      <td>NEAR BAY</td>\n",
              "      <td>3.0</td>\n",
              "    </tr>\n",
              "    <tr>\n",
              "      <th>500</th>\n",
              "      <td>NEAR BAY</td>\n",
              "      <td>3.0</td>\n",
              "    </tr>\n",
              "    <tr>\n",
              "      <th>1000</th>\n",
              "      <td>INLAND</td>\n",
              "      <td>1.0</td>\n",
              "    </tr>\n",
              "    <tr>\n",
              "      <th>1500</th>\n",
              "      <td>NEAR BAY</td>\n",
              "      <td>3.0</td>\n",
              "    </tr>\n",
              "    <tr>\n",
              "      <th>2000</th>\n",
              "      <td>INLAND</td>\n",
              "      <td>1.0</td>\n",
              "    </tr>\n",
              "    <tr>\n",
              "      <th>2500</th>\n",
              "      <td>INLAND</td>\n",
              "      <td>1.0</td>\n",
              "    </tr>\n",
              "    <tr>\n",
              "      <th>3000</th>\n",
              "      <td>INLAND</td>\n",
              "      <td>1.0</td>\n",
              "    </tr>\n",
              "    <tr>\n",
              "      <th>3500</th>\n",
              "      <td>&lt;1H OCEAN</td>\n",
              "      <td>0.0</td>\n",
              "    </tr>\n",
              "    <tr>\n",
              "      <th>4000</th>\n",
              "      <td>&lt;1H OCEAN</td>\n",
              "      <td>0.0</td>\n",
              "    </tr>\n",
              "    <tr>\n",
              "      <th>4500</th>\n",
              "      <td>&lt;1H OCEAN</td>\n",
              "      <td>0.0</td>\n",
              "    </tr>\n",
              "    <tr>\n",
              "      <th>5000</th>\n",
              "      <td>&lt;1H OCEAN</td>\n",
              "      <td>0.0</td>\n",
              "    </tr>\n",
              "    <tr>\n",
              "      <th>5500</th>\n",
              "      <td>&lt;1H OCEAN</td>\n",
              "      <td>0.0</td>\n",
              "    </tr>\n",
              "    <tr>\n",
              "      <th>6000</th>\n",
              "      <td>INLAND</td>\n",
              "      <td>1.0</td>\n",
              "    </tr>\n",
              "    <tr>\n",
              "      <th>6500</th>\n",
              "      <td>&lt;1H OCEAN</td>\n",
              "      <td>0.0</td>\n",
              "    </tr>\n",
              "    <tr>\n",
              "      <th>7000</th>\n",
              "      <td>&lt;1H OCEAN</td>\n",
              "      <td>0.0</td>\n",
              "    </tr>\n",
              "    <tr>\n",
              "      <th>7500</th>\n",
              "      <td>&lt;1H OCEAN</td>\n",
              "      <td>0.0</td>\n",
              "    </tr>\n",
              "    <tr>\n",
              "      <th>8000</th>\n",
              "      <td>&lt;1H OCEAN</td>\n",
              "      <td>0.0</td>\n",
              "    </tr>\n",
              "    <tr>\n",
              "      <th>8500</th>\n",
              "      <td>&lt;1H OCEAN</td>\n",
              "      <td>0.0</td>\n",
              "    </tr>\n",
              "    <tr>\n",
              "      <th>9000</th>\n",
              "      <td>&lt;1H OCEAN</td>\n",
              "      <td>0.0</td>\n",
              "    </tr>\n",
              "    <tr>\n",
              "      <th>9500</th>\n",
              "      <td>NEAR OCEAN</td>\n",
              "      <td>4.0</td>\n",
              "    </tr>\n",
              "    <tr>\n",
              "      <th>10000</th>\n",
              "      <td>INLAND</td>\n",
              "      <td>1.0</td>\n",
              "    </tr>\n",
              "    <tr>\n",
              "      <th>10500</th>\n",
              "      <td>&lt;1H OCEAN</td>\n",
              "      <td>0.0</td>\n",
              "    </tr>\n",
              "    <tr>\n",
              "      <th>11000</th>\n",
              "      <td>&lt;1H OCEAN</td>\n",
              "      <td>0.0</td>\n",
              "    </tr>\n",
              "    <tr>\n",
              "      <th>11500</th>\n",
              "      <td>&lt;1H OCEAN</td>\n",
              "      <td>0.0</td>\n",
              "    </tr>\n",
              "    <tr>\n",
              "      <th>12000</th>\n",
              "      <td>INLAND</td>\n",
              "      <td>1.0</td>\n",
              "    </tr>\n",
              "    <tr>\n",
              "      <th>12500</th>\n",
              "      <td>INLAND</td>\n",
              "      <td>1.0</td>\n",
              "    </tr>\n",
              "    <tr>\n",
              "      <th>13000</th>\n",
              "      <td>INLAND</td>\n",
              "      <td>1.0</td>\n",
              "    </tr>\n",
              "    <tr>\n",
              "      <th>13500</th>\n",
              "      <td>INLAND</td>\n",
              "      <td>1.0</td>\n",
              "    </tr>\n",
              "    <tr>\n",
              "      <th>14000</th>\n",
              "      <td>INLAND</td>\n",
              "      <td>1.0</td>\n",
              "    </tr>\n",
              "    <tr>\n",
              "      <th>14500</th>\n",
              "      <td>NEAR OCEAN</td>\n",
              "      <td>4.0</td>\n",
              "    </tr>\n",
              "    <tr>\n",
              "      <th>15000</th>\n",
              "      <td>NEAR OCEAN</td>\n",
              "      <td>4.0</td>\n",
              "    </tr>\n",
              "    <tr>\n",
              "      <th>15500</th>\n",
              "      <td>NEAR OCEAN</td>\n",
              "      <td>4.0</td>\n",
              "    </tr>\n",
              "    <tr>\n",
              "      <th>16000</th>\n",
              "      <td>NEAR BAY</td>\n",
              "      <td>3.0</td>\n",
              "    </tr>\n",
              "    <tr>\n",
              "      <th>16500</th>\n",
              "      <td>INLAND</td>\n",
              "      <td>1.0</td>\n",
              "    </tr>\n",
              "    <tr>\n",
              "      <th>17000</th>\n",
              "      <td>NEAR BAY</td>\n",
              "      <td>3.0</td>\n",
              "    </tr>\n",
              "    <tr>\n",
              "      <th>17500</th>\n",
              "      <td>NEAR OCEAN</td>\n",
              "      <td>4.0</td>\n",
              "    </tr>\n",
              "    <tr>\n",
              "      <th>18000</th>\n",
              "      <td>&lt;1H OCEAN</td>\n",
              "      <td>0.0</td>\n",
              "    </tr>\n",
              "    <tr>\n",
              "      <th>18500</th>\n",
              "      <td>INLAND</td>\n",
              "      <td>1.0</td>\n",
              "    </tr>\n",
              "    <tr>\n",
              "      <th>19000</th>\n",
              "      <td>INLAND</td>\n",
              "      <td>1.0</td>\n",
              "    </tr>\n",
              "    <tr>\n",
              "      <th>19500</th>\n",
              "      <td>INLAND</td>\n",
              "      <td>1.0</td>\n",
              "    </tr>\n",
              "    <tr>\n",
              "      <th>20000</th>\n",
              "      <td>INLAND</td>\n",
              "      <td>1.0</td>\n",
              "    </tr>\n",
              "    <tr>\n",
              "      <th>20500</th>\n",
              "      <td>&lt;1H OCEAN</td>\n",
              "      <td>0.0</td>\n",
              "    </tr>\n",
              "  </tbody>\n",
              "</table>\n",
              "</div>"
            ],
            "text/plain": [
              "      ocean_proximity  ocean_proximity_numeric\n",
              "0            NEAR BAY                      3.0\n",
              "500          NEAR BAY                      3.0\n",
              "1000           INLAND                      1.0\n",
              "1500         NEAR BAY                      3.0\n",
              "2000           INLAND                      1.0\n",
              "2500           INLAND                      1.0\n",
              "3000           INLAND                      1.0\n",
              "3500        <1H OCEAN                      0.0\n",
              "4000        <1H OCEAN                      0.0\n",
              "4500        <1H OCEAN                      0.0\n",
              "5000        <1H OCEAN                      0.0\n",
              "5500        <1H OCEAN                      0.0\n",
              "6000           INLAND                      1.0\n",
              "6500        <1H OCEAN                      0.0\n",
              "7000        <1H OCEAN                      0.0\n",
              "7500        <1H OCEAN                      0.0\n",
              "8000        <1H OCEAN                      0.0\n",
              "8500        <1H OCEAN                      0.0\n",
              "9000        <1H OCEAN                      0.0\n",
              "9500       NEAR OCEAN                      4.0\n",
              "10000          INLAND                      1.0\n",
              "10500       <1H OCEAN                      0.0\n",
              "11000       <1H OCEAN                      0.0\n",
              "11500       <1H OCEAN                      0.0\n",
              "12000          INLAND                      1.0\n",
              "12500          INLAND                      1.0\n",
              "13000          INLAND                      1.0\n",
              "13500          INLAND                      1.0\n",
              "14000          INLAND                      1.0\n",
              "14500      NEAR OCEAN                      4.0\n",
              "15000      NEAR OCEAN                      4.0\n",
              "15500      NEAR OCEAN                      4.0\n",
              "16000        NEAR BAY                      3.0\n",
              "16500          INLAND                      1.0\n",
              "17000        NEAR BAY                      3.0\n",
              "17500      NEAR OCEAN                      4.0\n",
              "18000       <1H OCEAN                      0.0\n",
              "18500          INLAND                      1.0\n",
              "19000          INLAND                      1.0\n",
              "19500          INLAND                      1.0\n",
              "20000          INLAND                      1.0\n",
              "20500       <1H OCEAN                      0.0"
            ]
          },
          "metadata": {},
          "execution_count": 59
        }
      ]
    },
    {
      "cell_type": "markdown",
      "metadata": {
        "id": "XAp4SVNhXmhq"
      },
      "source": [
        "###**One hot encoder** create new features(columns) for every unique category's\n",
        "\n",
        "if there are too many columns in that case we can also ignoew noice data by using \n",
        "\n",
        "`df['column'].value_counts().head(5).index`\n",
        "\n",
        "value_counts by default sorts in descending order, head takes top 5 most frequent categories, "
      ]
    },
    {
      "cell_type": "code",
      "metadata": {
        "colab": {
          "base_uri": "https://localhost:8080/"
        },
        "id": "x-MVWbAQ1jfk",
        "outputId": "eb84f832-2b94-4871-80b0-434e132e6bdc"
      },
      "source": [
        "unique_categories = housing['ocean_proximity'].unique()\n",
        "unique_categories"
      ],
      "execution_count": 60,
      "outputs": [
        {
          "output_type": "execute_result",
          "data": {
            "text/plain": [
              "array(['NEAR BAY', '<1H OCEAN', 'INLAND', 'NEAR OCEAN', 'ISLAND'],\n",
              "      dtype=object)"
            ]
          },
          "metadata": {},
          "execution_count": 60
        }
      ]
    },
    {
      "cell_type": "code",
      "metadata": {
        "colab": {
          "base_uri": "https://localhost:8080/",
          "height": 243
        },
        "id": "WmoCoenq1ug3",
        "outputId": "029594a0-b3a1-44b7-eb4d-5230c25d8ab8"
      },
      "source": [
        "import numpy as np\n",
        "\n",
        "for col in unique_categories:\n",
        "  housing[col] = np.where(housing['ocean_proximity'] == col, 1, 0)\n",
        "housing.head()"
      ],
      "execution_count": 61,
      "outputs": [
        {
          "output_type": "execute_result",
          "data": {
            "text/html": [
              "<div>\n",
              "<style scoped>\n",
              "    .dataframe tbody tr th:only-of-type {\n",
              "        vertical-align: middle;\n",
              "    }\n",
              "\n",
              "    .dataframe tbody tr th {\n",
              "        vertical-align: top;\n",
              "    }\n",
              "\n",
              "    .dataframe thead th {\n",
              "        text-align: right;\n",
              "    }\n",
              "</style>\n",
              "<table border=\"1\" class=\"dataframe\">\n",
              "  <thead>\n",
              "    <tr style=\"text-align: right;\">\n",
              "      <th></th>\n",
              "      <th>longitude</th>\n",
              "      <th>latitude</th>\n",
              "      <th>housing_median_age</th>\n",
              "      <th>total_rooms</th>\n",
              "      <th>total_bedrooms</th>\n",
              "      <th>population</th>\n",
              "      <th>households</th>\n",
              "      <th>median_income</th>\n",
              "      <th>median_house_value</th>\n",
              "      <th>ocean_proximity</th>\n",
              "      <th>rooms_per_household</th>\n",
              "      <th>bedrooms_per_room</th>\n",
              "      <th>population_per_household</th>\n",
              "      <th>ocean_proximity_numeric</th>\n",
              "      <th>NEAR BAY</th>\n",
              "      <th>&lt;1H OCEAN</th>\n",
              "      <th>INLAND</th>\n",
              "      <th>NEAR OCEAN</th>\n",
              "      <th>ISLAND</th>\n",
              "    </tr>\n",
              "  </thead>\n",
              "  <tbody>\n",
              "    <tr>\n",
              "      <th>0</th>\n",
              "      <td>-122.23</td>\n",
              "      <td>37.88</td>\n",
              "      <td>41.0</td>\n",
              "      <td>880.0</td>\n",
              "      <td>129.0</td>\n",
              "      <td>322.0</td>\n",
              "      <td>126.0</td>\n",
              "      <td>8.3252</td>\n",
              "      <td>452600.0</td>\n",
              "      <td>NEAR BAY</td>\n",
              "      <td>6.984127</td>\n",
              "      <td>0.146591</td>\n",
              "      <td>2.555556</td>\n",
              "      <td>3.0</td>\n",
              "      <td>1</td>\n",
              "      <td>0</td>\n",
              "      <td>0</td>\n",
              "      <td>0</td>\n",
              "      <td>0</td>\n",
              "    </tr>\n",
              "    <tr>\n",
              "      <th>1</th>\n",
              "      <td>-122.22</td>\n",
              "      <td>37.86</td>\n",
              "      <td>21.0</td>\n",
              "      <td>7099.0</td>\n",
              "      <td>1106.0</td>\n",
              "      <td>2401.0</td>\n",
              "      <td>1138.0</td>\n",
              "      <td>8.3014</td>\n",
              "      <td>358500.0</td>\n",
              "      <td>NEAR BAY</td>\n",
              "      <td>6.238137</td>\n",
              "      <td>0.155797</td>\n",
              "      <td>2.109842</td>\n",
              "      <td>3.0</td>\n",
              "      <td>1</td>\n",
              "      <td>0</td>\n",
              "      <td>0</td>\n",
              "      <td>0</td>\n",
              "      <td>0</td>\n",
              "    </tr>\n",
              "    <tr>\n",
              "      <th>2</th>\n",
              "      <td>-122.24</td>\n",
              "      <td>37.85</td>\n",
              "      <td>52.0</td>\n",
              "      <td>1467.0</td>\n",
              "      <td>190.0</td>\n",
              "      <td>496.0</td>\n",
              "      <td>177.0</td>\n",
              "      <td>7.2574</td>\n",
              "      <td>352100.0</td>\n",
              "      <td>NEAR BAY</td>\n",
              "      <td>8.288136</td>\n",
              "      <td>0.129516</td>\n",
              "      <td>2.802260</td>\n",
              "      <td>3.0</td>\n",
              "      <td>1</td>\n",
              "      <td>0</td>\n",
              "      <td>0</td>\n",
              "      <td>0</td>\n",
              "      <td>0</td>\n",
              "    </tr>\n",
              "    <tr>\n",
              "      <th>3</th>\n",
              "      <td>-122.25</td>\n",
              "      <td>37.85</td>\n",
              "      <td>52.0</td>\n",
              "      <td>1274.0</td>\n",
              "      <td>235.0</td>\n",
              "      <td>558.0</td>\n",
              "      <td>219.0</td>\n",
              "      <td>5.6431</td>\n",
              "      <td>341300.0</td>\n",
              "      <td>NEAR BAY</td>\n",
              "      <td>5.817352</td>\n",
              "      <td>0.184458</td>\n",
              "      <td>2.547945</td>\n",
              "      <td>3.0</td>\n",
              "      <td>1</td>\n",
              "      <td>0</td>\n",
              "      <td>0</td>\n",
              "      <td>0</td>\n",
              "      <td>0</td>\n",
              "    </tr>\n",
              "    <tr>\n",
              "      <th>4</th>\n",
              "      <td>-122.25</td>\n",
              "      <td>37.85</td>\n",
              "      <td>52.0</td>\n",
              "      <td>1627.0</td>\n",
              "      <td>280.0</td>\n",
              "      <td>565.0</td>\n",
              "      <td>259.0</td>\n",
              "      <td>3.8462</td>\n",
              "      <td>342200.0</td>\n",
              "      <td>NEAR BAY</td>\n",
              "      <td>6.281853</td>\n",
              "      <td>0.172096</td>\n",
              "      <td>2.181467</td>\n",
              "      <td>3.0</td>\n",
              "      <td>1</td>\n",
              "      <td>0</td>\n",
              "      <td>0</td>\n",
              "      <td>0</td>\n",
              "      <td>0</td>\n",
              "    </tr>\n",
              "  </tbody>\n",
              "</table>\n",
              "</div>"
            ],
            "text/plain": [
              "   longitude  latitude  housing_median_age  ...  INLAND  NEAR OCEAN  ISLAND\n",
              "0    -122.23     37.88                41.0  ...       0           0       0\n",
              "1    -122.22     37.86                21.0  ...       0           0       0\n",
              "2    -122.24     37.85                52.0  ...       0           0       0\n",
              "3    -122.25     37.85                52.0  ...       0           0       0\n",
              "4    -122.25     37.85                52.0  ...       0           0       0\n",
              "\n",
              "[5 rows x 19 columns]"
            ]
          },
          "metadata": {},
          "execution_count": 61
        }
      ]
    },
    {
      "cell_type": "markdown",
      "metadata": {
        "id": "59m6JpuuaamK"
      },
      "source": [
        "##**Feature Scaling**\n",
        "\n",
        "It is a type of pre-processing.\n",
        "\n",
        "Machine Learning algorithms don’t perform well when\n",
        "the input numerical attributes have very different scales.\n",
        "\n",
        "*This is the case for the hous‐\n",
        "ing data: the total number of rooms ranges from about 6 to 39,320, while the median incomes only range from 0 to 15.*\n",
        "\n",
        "`id Area room`\n",
        "\n",
        "`1   2900  3`\n",
        "\n",
        "`2   2500  3`\n",
        "\n",
        "`3   2700  1`\n",
        "\n",
        "here room 1 is similar to room 2 but traditional manhaten distance is larger for this set than room(1,3).\n",
        "\n",
        "There are two common ways to get all attributes to have the same scale:\n",
        "\n",
        "1.   min-max\n",
        "2.   standardization\n",
        "\n",
        "min-max (scales in range[0, 1])\n",
        "formula = (x-min)/(max-min)\n",
        "\n",
        "standardization\n",
        "formula = (x-mean)/(standard deviation)"
      ]
    },
    {
      "cell_type": "code",
      "metadata": {
        "id": "mCFhUyLJZStI"
      },
      "source": [
        "import numpy as np\n",
        "from sklearn import preprocessing"
      ],
      "execution_count": 62,
      "outputs": []
    },
    {
      "cell_type": "code",
      "metadata": {
        "id": "MdXkBl2ctcej"
      },
      "source": [
        "X = np.array([\n",
        "              [1, -1, 2],\n",
        "              [2, 0, 0],\n",
        "              [0, 1, -1]\n",
        "])"
      ],
      "execution_count": 63,
      "outputs": []
    },
    {
      "cell_type": "code",
      "metadata": {
        "colab": {
          "base_uri": "https://localhost:8080/"
        },
        "id": "r-eU6QxxtjMn",
        "outputId": "144216a0-4b88-417a-f04d-07d79d150711"
      },
      "source": [
        "X_scaled = preprocessing.scale(X)\n",
        "X_scaled"
      ],
      "execution_count": 64,
      "outputs": [
        {
          "output_type": "execute_result",
          "data": {
            "text/plain": [
              "array([[ 0.        , -1.22474487,  1.33630621],\n",
              "       [ 1.22474487,  0.        , -0.26726124],\n",
              "       [-1.22474487,  1.22474487, -1.06904497]])"
            ]
          },
          "metadata": {},
          "execution_count": 64
        }
      ]
    },
    {
      "cell_type": "code",
      "metadata": {
        "colab": {
          "base_uri": "https://localhost:8080/"
        },
        "id": "6Hmlbg7ZtxUJ",
        "outputId": "28d12604-30a9-4784-de3f-96c9435b3d5b"
      },
      "source": [
        "X_scaled.mean(axis = 0)"
      ],
      "execution_count": 65,
      "outputs": [
        {
          "output_type": "execute_result",
          "data": {
            "text/plain": [
              "array([0., 0., 0.])"
            ]
          },
          "metadata": {},
          "execution_count": 65
        }
      ]
    },
    {
      "cell_type": "code",
      "metadata": {
        "colab": {
          "base_uri": "https://localhost:8080/"
        },
        "id": "t13O03sdxuPi",
        "outputId": "e51710ac-dca5-424d-93d0-589afb67f6d9"
      },
      "source": [
        "X_scaled.std(axis=0)"
      ],
      "execution_count": 66,
      "outputs": [
        {
          "output_type": "execute_result",
          "data": {
            "text/plain": [
              "array([1., 1., 1.])"
            ]
          },
          "metadata": {},
          "execution_count": 66
        }
      ]
    },
    {
      "cell_type": "markdown",
      "metadata": {
        "id": "uxBX0JT5wJR_"
      },
      "source": [
        "In future when i have both test data and train data i want to scale both the same way.\n",
        "\n",
        "Todo that we need an object that remaimbers how it scaled train data then scale test data the same way"
      ]
    },
    {
      "cell_type": "code",
      "metadata": {
        "colab": {
          "base_uri": "https://localhost:8080/"
        },
        "id": "FZUpKLwSt4GK",
        "outputId": "9969fd3f-0588-471d-9355-22b499b29d7e"
      },
      "source": [
        "scaler = preprocessing.StandardScaler()\n",
        "scaler.fit(X)\n",
        "\n",
        "scaler.transform(X)"
      ],
      "execution_count": 67,
      "outputs": [
        {
          "output_type": "execute_result",
          "data": {
            "text/plain": [
              "array([[ 0.        , -1.22474487,  1.33630621],\n",
              "       [ 1.22474487,  0.        , -0.26726124],\n",
              "       [-1.22474487,  1.22474487, -1.06904497]])"
            ]
          },
          "metadata": {},
          "execution_count": 67
        }
      ]
    },
    {
      "cell_type": "code",
      "metadata": {
        "colab": {
          "base_uri": "https://localhost:8080/"
        },
        "id": "-EQkQotmwkxw",
        "outputId": "9161f917-12af-4f80-b9ca-b3bb6f76bb3a"
      },
      "source": [
        "test = [[1,1,0]]\n",
        "scaler.transform(test)"
      ],
      "execution_count": 68,
      "outputs": [
        {
          "output_type": "execute_result",
          "data": {
            "text/plain": [
              "array([[ 0.        ,  1.22474487, -0.26726124]])"
            ]
          },
          "metadata": {},
          "execution_count": 68
        }
      ]
    },
    {
      "cell_type": "markdown",
      "metadata": {
        "id": "TPUc1STEdNex"
      },
      "source": [
        "##**Transformation Pipelines**\n",
        "\n"
      ]
    },
    {
      "cell_type": "code",
      "metadata": {
        "id": "ytYV2Naieir9"
      },
      "source": [
        "housing_num = housing.drop(\"ocean_proximity\", axis=1)"
      ],
      "execution_count": 69,
      "outputs": []
    },
    {
      "cell_type": "code",
      "metadata": {
        "id": "KAskgr4ldVXj"
      },
      "source": [
        "from sklearn.pipeline import Pipeline\n",
        "from sklearn.preprocessing import StandardScaler\n",
        "from sklearn.impute import SimpleImputer\n",
        "\n",
        "num_pipeline = Pipeline([\n",
        "('imputer', SimpleImputer(strategy=\"median\")),\n",
        "('std_scaler', StandardScaler()),\n",
        "])\n",
        "\n",
        "housing_num_tr = num_pipeline.fit_transform(housing_num)"
      ],
      "execution_count": 70,
      "outputs": []
    },
    {
      "cell_type": "markdown",
      "metadata": {
        "id": "4BAUOyv2f61Y"
      },
      "source": [
        "**we have handled the categorical columns and the numerical columns sepa‐\n",
        "rately.**"
      ]
    },
    {
      "cell_type": "code",
      "metadata": {
        "id": "n3Ge8Yrme0R-"
      },
      "source": [
        "from sklearn.compose import ColumnTransformer\n",
        "from sklearn.preprocessing import OneHotEncoder\n",
        "\n",
        "num_attribs = list(housing_num)\n",
        "cat_attribs = [\"ocean_proximity\"]\n",
        "\n",
        "full_pipeline = ColumnTransformer([\n",
        "(\"num\", num_pipeline, num_attribs),\n",
        "(\"cat\", OneHotEncoder(), cat_attribs),\n",
        "])\n",
        "\n",
        "housing_prepared = full_pipeline.fit_transform(housing)"
      ],
      "execution_count": 71,
      "outputs": []
    },
    {
      "cell_type": "markdown",
      "metadata": {
        "id": "QymMsvTnhW0v"
      },
      "source": [
        "#**Select and Train a Model**"
      ]
    },
    {
      "cell_type": "code",
      "metadata": {
        "id": "73DSuuroiVQV"
      },
      "source": [
        "housing_labels = housing['median_house_value'].copy()"
      ],
      "execution_count": 72,
      "outputs": []
    },
    {
      "cell_type": "code",
      "metadata": {
        "colab": {
          "base_uri": "https://localhost:8080/"
        },
        "id": "lZh6CFhegM8X",
        "outputId": "17ce1ed4-a06a-4327-b96b-981f3e84eb11"
      },
      "source": [
        "from sklearn.linear_model import LinearRegression\n",
        "\n",
        "lin_reg = LinearRegression()\n",
        "lin_reg.fit(housing_prepared, housing_labels)"
      ],
      "execution_count": 75,
      "outputs": [
        {
          "output_type": "execute_result",
          "data": {
            "text/plain": [
              "LinearRegression(copy_X=True, fit_intercept=True, n_jobs=None, normalize=False)"
            ]
          },
          "metadata": {},
          "execution_count": 75
        }
      ]
    },
    {
      "cell_type": "markdown",
      "metadata": {
        "id": "VmhAyjnxiqtk"
      },
      "source": [
        "**Let’s try it out on a few\n",
        "instances from the training set:**"
      ]
    },
    {
      "cell_type": "code",
      "metadata": {
        "colab": {
          "base_uri": "https://localhost:8080/"
        },
        "id": "NHTTWHh3hcQP",
        "outputId": "b52e610c-5ae6-4bf4-c49d-2b6e32edcdc0"
      },
      "source": [
        "some_data = housing.iloc[:5]\n",
        "some_labels = housing_labels.iloc[:5]\n",
        "some_data_prepared = full_pipeline.transform(some_data)\n",
        "\n",
        "print(\"Predictions:\", lin_reg.predict(some_data_prepared))\n",
        "\n",
        "print(\"Labels:\", list(some_labels))"
      ],
      "execution_count": 76,
      "outputs": [
        {
          "output_type": "stream",
          "name": "stdout",
          "text": [
            "Predictions: [452600. 358500. 352100. 341300. 342200.]\n",
            "Labels: [452600.0, 358500.0, 352100.0, 341300.0, 342200.0]\n"
          ]
        }
      ]
    },
    {
      "cell_type": "markdown",
      "metadata": {
        "id": "BPO4m632jA3f"
      },
      "source": [
        "**Let’s measure this regression model’s RMSE on the whole train‐\n",
        "ing set using Scikit-Learn’s mean_squared_error function:**"
      ]
    },
    {
      "cell_type": "code",
      "metadata": {
        "colab": {
          "base_uri": "https://localhost:8080/"
        },
        "id": "dzWUCvptiy6H",
        "outputId": "e546f8cd-243d-4ca8-c0fe-209b3eddc10c"
      },
      "source": [
        "import numpy as np\n",
        "from sklearn.metrics import mean_squared_error\n",
        "\n",
        "housing_predictions = lin_reg.predict(housing_prepared)\n",
        "lin_mse = mean_squared_error(housing_labels, housing_predictions)\n",
        "lin_rmse = np.sqrt(lin_mse)\n",
        "lin_rmse"
      ],
      "execution_count": 77,
      "outputs": [
        {
          "output_type": "execute_result",
          "data": {
            "text/plain": [
              "8.589916481356171e-11"
            ]
          },
          "metadata": {},
          "execution_count": 77
        }
      ]
    },
    {
      "cell_type": "markdown",
      "metadata": {
        "id": "ODLmz6DUjOdN"
      },
      "source": [
        "**not a great score:**\n",
        "Let’s train a DecisionTreeRegressor."
      ]
    },
    {
      "cell_type": "code",
      "metadata": {
        "colab": {
          "base_uri": "https://localhost:8080/"
        },
        "id": "r5nrzik4jCY7",
        "outputId": "8c1817c0-f653-4e00-bd0e-e9cb735dbf4d"
      },
      "source": [
        "from sklearn.tree import DecisionTreeRegressor\n",
        "\n",
        "tree_reg = DecisionTreeRegressor()\n",
        "tree_reg.fit(housing_prepared, housing_labels)"
      ],
      "execution_count": 78,
      "outputs": [
        {
          "output_type": "execute_result",
          "data": {
            "text/plain": [
              "DecisionTreeRegressor(ccp_alpha=0.0, criterion='mse', max_depth=None,\n",
              "                      max_features=None, max_leaf_nodes=None,\n",
              "                      min_impurity_decrease=0.0, min_impurity_split=None,\n",
              "                      min_samples_leaf=1, min_samples_split=2,\n",
              "                      min_weight_fraction_leaf=0.0, presort='deprecated',\n",
              "                      random_state=None, splitter='best')"
            ]
          },
          "metadata": {},
          "execution_count": 78
        }
      ]
    },
    {
      "cell_type": "code",
      "metadata": {
        "colab": {
          "base_uri": "https://localhost:8080/"
        },
        "id": "Q08q3lkajTk6",
        "outputId": "36476f82-0452-4c1d-9911-ce5ef5c2fe38"
      },
      "source": [
        "housing_predictions = tree_reg.predict(housing_prepared)\n",
        "tree_mse = mean_squared_error(housing_labels, housing_predictions)\n",
        "tree_rmse = np.sqrt(tree_mse)\n",
        "tree_rmse"
      ],
      "execution_count": 79,
      "outputs": [
        {
          "output_type": "execute_result",
          "data": {
            "text/plain": [
              "0.0"
            ]
          },
          "metadata": {},
          "execution_count": 79
        }
      ]
    },
    {
      "cell_type": "markdown",
      "metadata": {
        "id": "eummIz8apF3H"
      },
      "source": [
        "#**Better Evaluation Using Cross-Validation**"
      ]
    },
    {
      "cell_type": "code",
      "metadata": {
        "id": "qUT9MiwsjskC"
      },
      "source": [
        "from sklearn.model_selection import cross_val_score\n",
        "\n",
        "scores = cross_val_score(tree_reg, housing_prepared, housing_labels,scoring=\"neg_mean_squared_error\", cv=10)\n",
        "tree_rmse_scores = np.sqrt(-scores)"
      ],
      "execution_count": 80,
      "outputs": []
    },
    {
      "cell_type": "code",
      "metadata": {
        "colab": {
          "base_uri": "https://localhost:8080/"
        },
        "id": "skyc8RVapqpP",
        "outputId": "e374c8d0-ac75-444b-e60d-342a51bc317a"
      },
      "source": [
        "def display_scores(scores):\n",
        "    print(\"Scores:\", scores)\n",
        "    print(\"Mean:\", scores.mean())\n",
        "    print(\"Standard deviation:\", scores.std())\n",
        "\n",
        "display_scores(tree_rmse_scores)"
      ],
      "execution_count": 85,
      "outputs": [
        {
          "output_type": "stream",
          "name": "stdout",
          "text": [
            "Scores: [ 76.66118956 138.71468578  98.00579648  59.02141249 122.03856297\n",
            "  63.49021777  75.32230488  63.49021777 132.94517142  80.39389463]\n",
            "Mean: 91.00834537428929\n",
            "Standard deviation: 28.545838401832505\n"
          ]
        }
      ]
    },
    {
      "cell_type": "markdown",
      "metadata": {
        "id": "SUbki40mqATY"
      },
      "source": [
        "**Now the Decision Tree doesn’t look as good as it did earlier.**\n",
        "\n",
        "Let’s compute the same scores for the Linear Regression model just to be sure:"
      ]
    },
    {
      "cell_type": "code",
      "metadata": {
        "colab": {
          "base_uri": "https://localhost:8080/"
        },
        "id": "qMns22Jtp5eU",
        "outputId": "02b869b3-5668-4ddd-b738-1d3c6bfa1dd7"
      },
      "source": [
        "lin_scores = cross_val_score(lin_reg, housing_prepared, housing_labels,scoring=\"neg_mean_squared_error\", cv=10)\n",
        "\n",
        "lin_rmse_scores = np.sqrt(-lin_scores)\n",
        "display_scores(lin_rmse_scores)"
      ],
      "execution_count": 82,
      "outputs": [
        {
          "output_type": "stream",
          "name": "stdout",
          "text": [
            "Scores: [1.59261113e-10 1.59337432e-10 3.89413408e-10 2.02599162e-10\n",
            " 1.91185583e+03 1.28146090e-10 1.50332487e-10 1.72420846e-10\n",
            " 2.73448628e-10 3.05190439e-10]\n",
            "Mean: 191.18558305971436\n",
            "Standard deviation: 573.5567491784964\n"
          ]
        }
      ]
    },
    {
      "cell_type": "markdown",
      "metadata": {
        "id": "6x9qP9RHqWGC"
      },
      "source": [
        "**Let’s try one last model now: the RandomForestRegressor.**"
      ]
    },
    {
      "cell_type": "code",
      "metadata": {
        "colab": {
          "base_uri": "https://localhost:8080/"
        },
        "id": "-lfLOMGzqShF",
        "outputId": "f515690b-78e1-4633-f7ee-48cd32dfbdcb"
      },
      "source": [
        "from sklearn.ensemble import RandomForestRegressor\n",
        "\n",
        "forest_reg = RandomForestRegressor()\n",
        "forest_reg.fit(housing_prepared, housing_labels)\n",
        "\n",
        "housing_predictions = forest_reg.predict(housing_prepared)\n",
        "forest_mse = mean_squared_error(housing_labels, housing_predictions)\n",
        "forest_rmse = np.sqrt(forest_mse)\n",
        "forest_rmse"
      ],
      "execution_count": 83,
      "outputs": [
        {
          "output_type": "execute_result",
          "data": {
            "text/plain": [
              "20.295445053689406"
            ]
          },
          "metadata": {},
          "execution_count": 83
        }
      ]
    },
    {
      "cell_type": "code",
      "metadata": {
        "colab": {
          "base_uri": "https://localhost:8080/"
        },
        "id": "rI4i-3Zoq_Z2",
        "outputId": "8485dbb4-f1f5-4ada-b2ba-301468e2507d"
      },
      "source": [
        "display_scores(forest_rmse)"
      ],
      "execution_count": 84,
      "outputs": [
        {
          "output_type": "stream",
          "name": "stdout",
          "text": [
            "Scores: 20.295445053689406\n",
            "Mean: 20.295445053689406\n",
            "Standard deviation: 0.0\n"
          ]
        }
      ]
    },
    {
      "cell_type": "markdown",
      "metadata": {
        "id": "Sn3Qt_zgrz-g"
      },
      "source": [
        "#**Fine-Tune Your Model**"
      ]
    },
    {
      "cell_type": "markdown",
      "metadata": {
        "id": "SiDHo0ERr2iL"
      },
      "source": [
        "##**Grid Search**"
      ]
    },
    {
      "cell_type": "code",
      "metadata": {
        "colab": {
          "base_uri": "https://localhost:8080/"
        },
        "id": "mO3yEzqOqc_c",
        "outputId": "6c0479f0-d18d-47d3-c463-0c5e95557074"
      },
      "source": [
        "from sklearn.model_selection import GridSearchCV\n",
        "\n",
        "param_grid = [\n",
        "    {'n_estimators': [3, 10, 30], 'max_features': [2, 4, 6, 8]},\n",
        "    {'bootstrap': [False], 'n_estimators': [3, 10], 'max_features': [2, 3, 4]},\n",
        "]\n",
        "\n",
        "forest_reg = RandomForestRegressor()\n",
        "\n",
        "grid_search = GridSearchCV(forest_reg, param_grid, cv=5,\n",
        "                            scoring='neg_mean_squared_error',\n",
        "                            return_train_score=True)\n",
        "\n",
        "grid_search.fit(housing_prepared, housing_labels)"
      ],
      "execution_count": null,
      "outputs": [
        {
          "output_type": "execute_result",
          "data": {
            "text/plain": [
              "GridSearchCV(cv=5, error_score=nan,\n",
              "             estimator=RandomForestRegressor(bootstrap=True, ccp_alpha=0.0,\n",
              "                                             criterion='mse', max_depth=None,\n",
              "                                             max_features='auto',\n",
              "                                             max_leaf_nodes=None,\n",
              "                                             max_samples=None,\n",
              "                                             min_impurity_decrease=0.0,\n",
              "                                             min_impurity_split=None,\n",
              "                                             min_samples_leaf=1,\n",
              "                                             min_samples_split=2,\n",
              "                                             min_weight_fraction_leaf=0.0,\n",
              "                                             n_estimators=100, n_jobs=None,\n",
              "                                             oob_score=False, random_state=None,\n",
              "                                             verbose=0, warm_start=False),\n",
              "             iid='deprecated', n_jobs=None,\n",
              "             param_grid=[{'max_features': [2, 4, 6, 8],\n",
              "                          'n_estimators': [3, 10, 30]},\n",
              "                         {'bootstrap': [False], 'max_features': [2, 3, 4],\n",
              "                          'n_estimators': [3, 10]}],\n",
              "             pre_dispatch='2*n_jobs', refit=True, return_train_score=True,\n",
              "             scoring='neg_mean_squared_error', verbose=0)"
            ]
          },
          "metadata": {},
          "execution_count": 29
        }
      ]
    },
    {
      "cell_type": "code",
      "metadata": {
        "colab": {
          "base_uri": "https://localhost:8080/"
        },
        "id": "RL5okyzesHCS",
        "outputId": "786ec9fd-230b-409a-e82b-8a42fcc56184"
      },
      "source": [
        "cvres = grid_search.cv_results_\n",
        "for mean_score, params in zip(cvres[\"mean_test_score\"], cvres[\"params\"]):\n",
        "  print(np.sqrt(-mean_score), params)"
      ],
      "execution_count": null,
      "outputs": [
        {
          "output_type": "stream",
          "name": "stdout",
          "text": [
            "43021.77932709328 {'max_features': 2, 'n_estimators': 3}\n",
            "29111.858297358533 {'max_features': 2, 'n_estimators': 10}\n",
            "25011.326939276118 {'max_features': 2, 'n_estimators': 30}\n",
            "15735.86118836072 {'max_features': 4, 'n_estimators': 3}\n",
            "12565.474704191862 {'max_features': 4, 'n_estimators': 10}\n",
            "10823.95794536237 {'max_features': 4, 'n_estimators': 30}\n",
            "7340.397442824618 {'max_features': 6, 'n_estimators': 3}\n",
            "5830.0282585085915 {'max_features': 6, 'n_estimators': 10}\n",
            "4580.298811775432 {'max_features': 6, 'n_estimators': 30}\n",
            "4280.985859861259 {'max_features': 8, 'n_estimators': 3}\n",
            "3216.628778734672 {'max_features': 8, 'n_estimators': 10}\n",
            "1931.5661330425721 {'max_features': 8, 'n_estimators': 30}\n",
            "39361.682791765925 {'bootstrap': False, 'max_features': 2, 'n_estimators': 3}\n",
            "25608.00645539474 {'bootstrap': False, 'max_features': 2, 'n_estimators': 10}\n",
            "27612.44332446763 {'bootstrap': False, 'max_features': 3, 'n_estimators': 3}\n",
            "19308.572989269775 {'bootstrap': False, 'max_features': 3, 'n_estimators': 10}\n",
            "15882.45454322823 {'bootstrap': False, 'max_features': 4, 'n_estimators': 3}\n",
            "12710.3227626562 {'bootstrap': False, 'max_features': 4, 'n_estimators': 10}\n"
          ]
        }
      ]
    },
    {
      "cell_type": "markdown",
      "metadata": {
        "id": "Dvksi3e7slG7"
      },
      "source": [
        "##**Randomized Search**\n",
        "\n",
        "\n",
        "The grid search approach is fine when you are exploring relatively few combinations,\n",
        "like in the previous example, but when the hyperparameter search space is large, it is\n",
        "often preferable to use RandomizedSearchCV instead."
      ]
    }
  ]
}