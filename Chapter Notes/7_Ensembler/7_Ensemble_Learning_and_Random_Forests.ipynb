{
  "nbformat": 4,
  "nbformat_minor": 0,
  "metadata": {
    "colab": {
      "name": "7_Ensemble Learning and Random Forests.ipynb",
      "provenance": [],
      "collapsed_sections": [
        "VeIj9ZpOfWlX",
        "ssQQrpHXeOFm",
        "AIMDPDj0RAUT",
        "0aPNH9qXSVCC",
        "aiA_AD1NhnYK",
        "d6RtLiXRJVlM",
        "1nhGsRWwrvYe",
        "vx5otk6oi3Vd"
      ],
      "toc_visible": true
    },
    "kernelspec": {
      "display_name": "Python 3",
      "language": "python",
      "name": "python3"
    },
    "language_info": {
      "codemirror_mode": {
        "name": "ipython",
        "version": 3
      },
      "file_extension": ".py",
      "mimetype": "text/x-python",
      "name": "python",
      "nbconvert_exporter": "python",
      "pygments_lexer": "ipython3",
      "version": "3.9.2"
    }
  },
  "cells": [
    {
      "cell_type": "markdown",
      "metadata": {
        "id": "BPoABHqTdoGh"
      },
      "source": [
        "**Ask a complex question to thousands of random people, then aggregate\n",
        "their answers. In many cases you will find that this aggregated answer is better than\n",
        "an expert’s answer.**\n",
        "\n",
        "A group of predictors is called an **ensemble**; thus, this technique is called **Ensemble Learning**, and an\n",
        "Ensemble Learning algorithm is called an **Ensemble method**."
      ]
    },
    {
      "cell_type": "markdown",
      "metadata": {
        "id": "0_1P6arnetND"
      },
      "source": [
        "The most popular Ensemble methods, including \n",
        "\n",
        "*   bagging\n",
        "*   boosting\n",
        "*   stacking\n",
        "*   etc..\n",
        "\n",
        "We will also explore Random Forests."
      ]
    },
    {
      "cell_type": "markdown",
      "metadata": {
        "id": "VeIj9ZpOfWlX"
      },
      "source": [
        "# Voting Classiers\n",
        "\n",
        "aggragates multiple weak classifiers results and gets a better accuraccy."
      ]
    },
    {
      "cell_type": "code",
      "metadata": {
        "id": "Kq4LT8ScdrWS"
      },
      "source": [
        "import pandas as pd\n",
        "import numpy as np"
      ],
      "execution_count": null,
      "outputs": []
    },
    {
      "cell_type": "code",
      "metadata": {
        "colab": {
          "base_uri": "https://localhost:8080/"
        },
        "id": "UzixcWfxJe0Q",
        "outputId": "59e2b5e7-4733-4829-d6ce-ead4bdadbf1f"
      },
      "source": [
        "from sklearn.datasets import make_moons\n",
        "\n",
        "X, Y = make_moons(n_samples = 5000, noise=0.4, shuffle=True)\n",
        "moons = np.concatenate([X, Y.reshape(Y.size, 1)], axis=1)\n",
        "moons"
      ],
      "execution_count": null,
      "outputs": [
        {
          "output_type": "execute_result",
          "data": {
            "text/plain": [
              "array([[ 0.00942865,  0.06430328,  1.        ],\n",
              "       [-0.43258809,  0.81312233,  0.        ],\n",
              "       [ 0.87245003,  0.31830785,  0.        ],\n",
              "       ...,\n",
              "       [ 0.64272544, -0.05377276,  1.        ],\n",
              "       [ 1.10378948, -0.98107598,  1.        ],\n",
              "       [-0.88917592,  0.61221029,  0.        ]])"
            ]
          },
          "metadata": {},
          "execution_count": 4
        }
      ]
    },
    {
      "cell_type": "code",
      "metadata": {
        "id": "dFdnz0H2K2er"
      },
      "source": [
        "def splitTT(data, test_size, **kwargs):\n",
        "\n",
        "  from sklearn.model_selection import train_test_split\n",
        "\n",
        "  train_set, test_set = train_test_split(data, test_size=test_size, **kwargs)\n",
        "\n",
        "  x_train, y_train = train_set[::, 0:2], train_set[::, -1]\n",
        "  x_test, y_test = test_set[::, 0:2], test_set[::, -1]\n",
        "\n",
        "  return x_train, y_train, x_test, y_test\n",
        "\n",
        "x_train, y_train, x_test, y_test = splitTT(moons, 0.3)"
      ],
      "execution_count": null,
      "outputs": []
    },
    {
      "cell_type": "code",
      "metadata": {
        "id": "-HxHBOcTJfx1"
      },
      "source": [
        "from sklearn.ensemble import RandomForestClassifier\n",
        "from sklearn.ensemble import VotingClassifier\n",
        "from sklearn.linear_model import LogisticRegression\n",
        "from sklearn.svm import SVC\n",
        "\n",
        "log_clf = LogisticRegression()\n",
        "rnd_clf = RandomForestClassifier()\n",
        "svm_clf = SVC()\n",
        "\n",
        "voting_clf = VotingClassifier(\n",
        "                        estimators=[('lr', log_clf), ('rf', rnd_clf), ('svc', svm_clf)],\n",
        "                        voting='hard')\n",
        "voting_clf.fit(x_train, y_train)"
      ],
      "execution_count": null,
      "outputs": []
    },
    {
      "cell_type": "code",
      "metadata": {
        "colab": {
          "base_uri": "https://localhost:8080/"
        },
        "id": "cIMIYGygkF-o",
        "outputId": "a6128178-c254-43c6-e0af-03111d0b37c3"
      },
      "source": [
        "from sklearn.metrics import accuracy_score, mean_squared_error\n",
        "\n",
        "for clf in (log_clf, rnd_clf, svm_clf, voting_clf):\n",
        "  \n",
        "  clf.fit(x_train, y_train)\n",
        "  y_pred = clf.predict(x_test)\n",
        "  print(clf.__class__.__name__, accuracy_score(y_test, y_pred))"
      ],
      "execution_count": null,
      "outputs": [
        {
          "output_type": "stream",
          "name": "stdout",
          "text": [
            "LogisticRegression 0.808\n",
            "RandomForestClassifier 0.8446666666666667\n",
            "SVC 0.8533333333333334\n",
            "VotingClassifier 0.852\n"
          ]
        }
      ]
    },
    {
      "cell_type": "markdown",
      "metadata": {
        "id": "RNbv_pPmmcuu"
      },
      "source": [
        "**voting = hard** find majority label\n",
        "\n",
        "**voting = sort** find majority label with weightage to higher probability\n",
        "\n",
        "by default svc don't calculate probability"
      ]
    },
    {
      "cell_type": "code",
      "metadata": {
        "id": "GkSI4LWZlXIk"
      },
      "source": [
        "from sklearn.ensemble import RandomForestClassifier\n",
        "from sklearn.ensemble import VotingClassifier\n",
        "from sklearn.linear_model import LogisticRegression\n",
        "from sklearn.svm import SVC\n",
        "\n",
        "log_clf = LogisticRegression()\n",
        "rnd_clf = RandomForestClassifier()\n",
        "svm_clf = SVC(probability = True)\n",
        "\n",
        "voting_clf = VotingClassifier(\n",
        "                        estimators=[('lr', log_clf), ('rf', rnd_clf), ('svc', svm_clf)],\n",
        "                        voting='soft')\n",
        "voting_clf.fit(x_train, y_train)"
      ],
      "execution_count": null,
      "outputs": []
    },
    {
      "cell_type": "code",
      "metadata": {
        "colab": {
          "base_uri": "https://localhost:8080/"
        },
        "id": "f4no0jd-lCbY",
        "outputId": "a667324d-5b49-45ab-c5bc-7740abdc5a60"
      },
      "source": [
        "from sklearn.metrics import accuracy_score, mean_squared_error\n",
        "\n",
        "for clf in (log_clf, rnd_clf, svm_clf, voting_clf):\n",
        "  \n",
        "  clf.fit(x_train, y_train)\n",
        "  y_pred = clf.predict(x_test)\n",
        "  print(clf.__class__.__name__, accuracy_score(y_test, y_pred))"
      ],
      "execution_count": null,
      "outputs": [
        {
          "output_type": "stream",
          "name": "stdout",
          "text": [
            "LogisticRegression 0.808\n",
            "RandomForestClassifier 0.8413333333333334\n",
            "SVC 0.8533333333333334\n",
            "VotingClassifier 0.8533333333333334\n"
          ]
        }
      ]
    },
    {
      "cell_type": "markdown",
      "metadata": {
        "id": "ssQQrpHXeOFm"
      },
      "source": [
        "# **Bagging and Pasting**\n",
        "\n",
        "Above we saw classifiers are of very different training algorithms.\n",
        "\n",
        "Another approach is to use the same training algorithm for every predictor, but to train them on different random subsets of the training set.\n",
        "\n",
        "When sampling is performed with replacement, this method is called **bagging** (short for **bootstrap aggregating**), bagging does row sampling.\n",
        "\n",
        "When sampling is performed without replacement, it is called **pasting**."
      ]
    },
    {
      "cell_type": "code",
      "metadata": {
        "colab": {
          "base_uri": "https://localhost:8080/"
        },
        "id": "hU0Hoe4pH_KG",
        "outputId": "f4d36add-d5ae-4c4a-cacf-c794fa5b22a4"
      },
      "source": [
        "from sklearn.ensemble import BaggingClassifier\n",
        "from sklearn.tree import DecisionTreeClassifier\n",
        "\n",
        "bag_clf = BaggingClassifier(\n",
        "        DecisionTreeClassifier(), n_estimators=500,\n",
        "        max_samples=100, bootstrap=True, n_jobs=-1)\n",
        "\n",
        "# n_estimators = use this much ensemble's \n",
        "# max_samples = train each ensemble with this much dataset instances\n",
        "# n_jobs = cpu cores to use, -1 mean use all\n",
        "# bootstrap = True bagging, False paging\n",
        "\n",
        "bag_clf.fit(x_train, y_train)\n",
        "bag_clf_y_pred = bag_clf.predict(x_test)\n",
        "\n",
        "d_tree_clf = DecisionTreeClassifier()\n",
        "d_tree_clf.fit(x_train, y_train)\n",
        "d_tree_clf_y_pred = d_tree_clf.predict(x_test)\n",
        "\n",
        "print(\"BaggingClassifier \", accuracy_score(bag_clf_y_pred, y_test))\n",
        "print(\"DecisionTreeClassifier \", accuracy_score(d_tree_clf_y_pred, y_test))"
      ],
      "execution_count": null,
      "outputs": [
        {
          "output_type": "stream",
          "name": "stdout",
          "text": [
            "BaggingClassifier  0.8533333333333334\n",
            "DecisionTreeClassifier  0.7993333333333333\n"
          ]
        }
      ]
    },
    {
      "cell_type": "markdown",
      "metadata": {
        "id": "P2oruZM3JXvL"
      },
      "source": [
        "To perform **pasting** set `bootstrap = False`"
      ]
    },
    {
      "cell_type": "code",
      "metadata": {
        "colab": {
          "base_uri": "https://localhost:8080/"
        },
        "id": "8DkYkW2cJeYB",
        "outputId": "9fcd8bdf-019f-4c6f-b701-eeb80bd2a7ed"
      },
      "source": [
        "from sklearn.ensemble import BaggingClassifier\n",
        "from sklearn.tree import DecisionTreeClassifier\n",
        "\n",
        "bag_clf = BaggingClassifier(\n",
        "        DecisionTreeClassifier(), n_estimators=500,\n",
        "        max_samples=100, bootstrap=False, n_jobs=-1)\n",
        "\n",
        "bag_clf.fit(x_train, y_train)\n",
        "y_pred = bag_clf.predict(x_test)\n",
        "\n",
        "accuracy_score(y_test, y_pred)"
      ],
      "execution_count": null,
      "outputs": [
        {
          "output_type": "execute_result",
          "data": {
            "text/plain": [
              "0.8533333333333334"
            ]
          },
          "metadata": {},
          "execution_count": 11
        }
      ]
    },
    {
      "cell_type": "markdown",
      "metadata": {
        "id": "AIMDPDj0RAUT"
      },
      "source": [
        "## **Out-of-Bag Evaluation**\n",
        "\n",
        "Only about 63% of the training instances are sampled on\n",
        "average for each predictor.6\n",
        "\n",
        "The remaining 37% of the training instances that are not\n",
        "sampled are called out-of-bag (oob) instances.\n",
        "\n",
        "Since a predictor never sees the oob instances during training, it can be evaluated on\n",
        "these instances, without the need for a separate validation set. Set `oob_score=True`."
      ]
    },
    {
      "cell_type": "code",
      "metadata": {
        "colab": {
          "base_uri": "https://localhost:8080/"
        },
        "id": "NoPU7QBgRis_",
        "outputId": "b804fe0b-3331-4a4c-cedb-783eb2f7f50f"
      },
      "source": [
        "from sklearn.ensemble import BaggingClassifier\n",
        "from sklearn.tree import DecisionTreeClassifier\n",
        "\n",
        "bag_clf = BaggingClassifier(\n",
        "        DecisionTreeClassifier(), n_estimators=500,\n",
        "        max_samples=100, bootstrap=True, n_jobs=-1, oob_score=True)\n",
        "\n",
        "bag_clf.fit(x_train, y_train)\n",
        "y_pred = bag_clf.predict(x_test)\n",
        "\n",
        "print(\"oob prediction: \",bag_clf.oob_score_)\n",
        "print(\"x_test prediction:\", accuracy_score(y_test, y_pred))"
      ],
      "execution_count": null,
      "outputs": [
        {
          "output_type": "stream",
          "name": "stdout",
          "text": [
            "oob prediction:  0.8722857142857143\n",
            "x_test prediction: 0.8546666666666667\n"
          ]
        }
      ]
    },
    {
      "cell_type": "markdown",
      "metadata": {
        "id": "0aPNH9qXSVCC"
      },
      "source": [
        "# **Random Patches and Random Subspaces**\n",
        "\n",
        "**Random Subspaces**\n",
        "\n",
        "Purpose is to increase variation among the predictors in an ensemble model. This is done as decreasing the correlation between the predictors **increases the performance of the ensemble model**. The random subspace method is also known as **feature or attribute bagging**.\n",
        "\n",
        "What it does is, it creates subsets of the training set that only contain certain features. The chosen number of features are randomly sampled from the training set with replacement. However, most implementations allow the user to specify whether or not they would like features to be sampled with or without replacement\n",
        "\n",
        "**Random Patches**\n",
        "\n",
        "When the random subspace method is used along with bagging or pasting it is known as the random patches method."
      ]
    },
    {
      "cell_type": "markdown",
      "metadata": {
        "id": "aiA_AD1NhnYK"
      },
      "source": [
        "## **Reduces Variance**\n",
        "\n",
        "**Variance** Model changes a lot with change in variance.\n",
        "\n",
        "In bagging changing a sub-set to test-instances only few models change and dosent affect's result much.\n",
        "\n",
        "Bagging can reduce variance without change in bias.\n",
        "\n",
        "bagging can combine **low bias high variance** models and convert them to **low bias reduced variance** model.\n",
        "\n",
        "Example of low bias and high variance ALGO is DT."
      ]
    },
    {
      "cell_type": "markdown",
      "metadata": {
        "id": "d6RtLiXRJVlM"
      },
      "source": [
        "# **Random Forests**\n",
        "\n",
        "Random Forests = `DecisionTree + Bagging(row sampling) + **column sampling( feature bagging)**`\n",
        "\n",
        "\n",
        "A Random Forest is an **ensemble of Decision Trees**. Generally\n",
        "trained via the bagging method (or sometimes pasting).\n",
        "\n",
        "Random Forest is optimised for Decesion Tree than BaggingClassifier."
      ]
    },
    {
      "cell_type": "markdown",
      "metadata": {
        "id": "Jzr5BCm8hnYL"
      },
      "source": [
        "![image.png](https://raw.githubusercontent.com/aman5898/Pepcoding-Data-Science/main/Chapter%20Notes/7_Ensembler/assets/row_sampling.png)\n"
      ]
    },
    {
      "cell_type": "code",
      "metadata": {
        "id": "T4xR73gWpzWw"
      },
      "source": [
        "from sklearn.ensemble import RandomForestClassifier\n",
        "\n",
        "rnd_clf = RandomForestClassifier(n_estimators=500, max_leaf_nodes=16, n_jobs=-1)\n",
        "# set max_depth = None for creating a depth tree\n",
        "rnd_clf.fit(x_train, y_train)\n",
        "y_pred_rf = rnd_clf.predict(x_test)"
      ],
      "execution_count": null,
      "outputs": []
    },
    {
      "cell_type": "markdown",
      "metadata": {
        "id": "XQGK7bkjhnYM"
      },
      "source": [
        "Same implementation with bagging classifier"
      ]
    },
    {
      "cell_type": "code",
      "metadata": {
        "id": "PNzFqgC2qWu1"
      },
      "source": [
        "from sklearn.ensemble import BaggingClassifier\n",
        "from sklearn.tree import DecisionTreeClassifier\n",
        "\n",
        "bag_clf = BaggingClassifier(\n",
        "                          DecisionTreeClassifier(splitter=\"random\", max_leaf_nodes=16),\n",
        "                          n_estimators=500, max_samples=1.0, bootstrap=True, n_jobs=-1, bootstrap_features = True)\n",
        "\n",
        "bag_clf.fit(x_train, y_train)\n",
        "y_pred_bag_clf = bag_clf.predict(x_test)"
      ],
      "execution_count": null,
      "outputs": []
    },
    {
      "cell_type": "code",
      "metadata": {
        "colab": {
          "base_uri": "https://localhost:8080/"
        },
        "id": "L94mC1OZql1T",
        "outputId": "f6bfc7ea-27ac-4072-9d45-d84f805ea2c0"
      },
      "source": [
        "from sklearn.metrics import accuracy_score, mean_squared_error\n",
        "\n",
        "print('RandomForestClassifier ', accuracy_score(y_pred_rf, y_test))\n",
        "print('BaggingClassifier ', accuracy_score(y_pred_bag_clf, y_test))"
      ],
      "execution_count": null,
      "outputs": [
        {
          "output_type": "stream",
          "name": "stdout",
          "text": [
            "RandomForestClassifier  0.85\n",
            "BaggingClassifier  0.8546666666666667\n"
          ]
        }
      ]
    },
    {
      "cell_type": "markdown",
      "metadata": {
        "id": "1nhGsRWwrvYe"
      },
      "source": [
        "## **Extra-Trees**\n",
        "\n",
        "Decision Tree = `row_sampling + col_sampling `\n",
        "\n",
        "ExtraTreesClassifier = `row_sampling + col_sampling + randomized_selection_TAU`\n",
        "\n",
        "Because of **randomized_selection_TAU** variance is reduced even more than RandomForest.\n",
        "\n",
        "Using **random thresholds** for each feature rather than searching for the best possible thresholds(like regular Decision Trees do) is simply called an **Extremely Randomized Trees** ensemble."
      ]
    },
    {
      "cell_type": "code",
      "metadata": {
        "colab": {
          "base_uri": "https://localhost:8080/"
        },
        "id": "-7GbsyoSsdXF",
        "outputId": "18ea3a09-81ed-4b69-9b02-dc8f49ea410b"
      },
      "source": [
        "from sklearn.ensemble import ExtraTreesClassifier\n",
        "\n",
        "rnd_ex_clf = ExtraTreesClassifier(n_estimators=500, max_leaf_nodes=16, n_jobs=-1)\n",
        "rnd_ex_clf.fit(x_train, y_train)\n",
        "y_pred_rf_ex = rnd_ex_clf.predict(x_test)\n",
        "\n",
        "print('ExtraTreesClassifier ', accuracy_score(y_pred_rf_ex, y_test))"
      ],
      "execution_count": null,
      "outputs": [
        {
          "output_type": "stream",
          "name": "stdout",
          "text": [
            "ExtraTreesClassifier  0.8453333333333334\n"
          ]
        }
      ]
    },
    {
      "cell_type": "markdown",
      "metadata": {
        "id": "ZGt7VBinvPRe"
      },
      "source": [
        "Random Forests measure the\n",
        "relative **importance of each feature**. Scikit-Learn measures a feature’s importance by\n",
        "looking at how much the tree nodes that use that feature reduce impurity on average\n",
        "(across all trees in the forest).\n",
        "\n",
        "see the result using the **feature_importances_** variable"
      ]
    },
    {
      "cell_type": "code",
      "metadata": {
        "colab": {
          "base_uri": "https://localhost:8080/"
        },
        "id": "yDug5XOyvGS_",
        "outputId": "07eefa4d-109f-4517-99a1-e21113658e2f"
      },
      "source": [
        "rnd_ex_clf.feature_importances_"
      ],
      "execution_count": null,
      "outputs": [
        {
          "output_type": "execute_result",
          "data": {
            "text/plain": [
              "array([0.43140392, 0.56859608])"
            ]
          },
          "metadata": {},
          "execution_count": 17
        }
      ]
    },
    {
      "cell_type": "code",
      "metadata": {
        "colab": {
          "base_uri": "https://localhost:8080/"
        },
        "id": "h4SD9Ztmvj9F",
        "outputId": "7d098d00-8977-4a2c-8ec8-0fa07d3acf08"
      },
      "source": [
        "from sklearn.datasets import load_iris\n",
        "from sklearn.ensemble import RandomForestClassifier\n",
        "\n",
        "iris = load_iris()\n",
        "rnd_clf = RandomForestClassifier(n_estimators=500, n_jobs=-1)\n",
        "rnd_clf.fit(iris[\"data\"], iris[\"target\"])\n",
        "\n",
        "for name, score in zip(iris[\"feature_names\"], rnd_clf.feature_importances_):\n",
        "  print(name, score)"
      ],
      "execution_count": null,
      "outputs": [
        {
          "output_type": "stream",
          "name": "stdout",
          "text": [
            "sepal length (cm) 0.10272299420647843\n",
            "sepal width (cm) 0.025093761814261036\n",
            "petal length (cm) 0.4379436354727006\n",
            "petal width (cm) 0.43423960850655996\n"
          ]
        }
      ]
    },
    {
      "cell_type": "markdown",
      "metadata": {
        "id": "LhkAU0QxkjLJ"
      },
      "source": [
        "# **Boosting**\n",
        "\n",
        "The general idea of most boosting methods is to **train predictors sequentially, each trying to correct its predecessor**.\n",
        "\n",
        "\n",
        "![image.png](https://raw.githubusercontent.com/aman5898/Pepcoding-Data-Science/main/Chapter%20Notes/7_Ensembler/assets/bagging-and-boosting.png)\n",
        "\n",
        "\n",
        "Bagging   : **high-variance , low-bias**  +   **randomization + aggregation** = **reduces-variance**\n",
        "Boosting  : **low-variance  , high-bias** + **additive-conbining** = **reduces-bias**\n",
        "\n",
        "Error = Bias^2 + varaince + E\n",
        "\n",
        "\n",
        "\n",
        "*   AdaBoost\n",
        "*   Gradient Boosting\n",
        "\n"
      ]
    },
    {
      "cell_type": "markdown",
      "metadata": {
        "id": "fufVH-v_qls-"
      },
      "source": [
        "## **AdaBoost**\n",
        "\n",
        "AdaBoost classifier works by giving weight's to training instances, a first base classifier (such as a Decision Tree) is trained and used to make predictions on the training set. The relative weight of misclassified training instances is then increased. A second classifier is trained using the updated weights and again it makes predictions on the training set, weights are updated, and so on..\n",
        "\n",
        "\n",
        "[Example](https://alliance.seas.upenn.edu/~cis520/wiki/index.php?n=lectures.boosting#:~:text=of%20the%20relationship%3A-,A%20toy%20example%20from%20Schapire%27s%20tutorial,The%20final%20classifier,-AdaBoost%20as%20exponential)\n",
        "\n",
        "[Video Tutorial](https://www.youtube.com/watch?v=NLRO1-jp5F8&t=1s)"
      ]
    },
    {
      "cell_type": "code",
      "metadata": {
        "colab": {
          "base_uri": "https://localhost:8080/"
        },
        "id": "PG70QunllPBb",
        "outputId": "d8cbde5d-db82-41aa-9574-2b54c44f563f"
      },
      "source": [
        "from sklearn.ensemble import AdaBoostClassifier\n",
        "from sklearn.tree import DecisionTreeClassifier\n",
        "\n",
        "ada_clf = AdaBoostClassifier(\n",
        "                          DecisionTreeClassifier(max_depth=1), n_estimators=200,\n",
        "                          algorithm=\"SAMME.R\", learning_rate=0.5)\n",
        "ada_clf.fit(x_train, y_train)"
      ],
      "execution_count": null,
      "outputs": [
        {
          "output_type": "execute_result",
          "data": {
            "text/plain": [
              "AdaBoostClassifier(base_estimator=DecisionTreeClassifier(max_depth=1),\n",
              "                   learning_rate=0.5, n_estimators=200)"
            ]
          },
          "metadata": {},
          "execution_count": 19
        }
      ]
    },
    {
      "cell_type": "code",
      "metadata": {
        "colab": {
          "base_uri": "https://localhost:8080/"
        },
        "id": "z9c8ZIZAe1YC",
        "outputId": "91836ec7-6a48-4eb9-f74b-7701baf4ae7d"
      },
      "source": [
        "from sklearn.metrics import accuracy_score\n",
        "\n",
        "y_pred = ada_clf.predict(x_test)\n",
        "\n",
        "accuracy_score(y_pred, y_test)"
      ],
      "execution_count": null,
      "outputs": [
        {
          "output_type": "execute_result",
          "data": {
            "text/plain": [
              "0.8473333333333334"
            ]
          },
          "metadata": {},
          "execution_count": 20
        }
      ]
    },
    {
      "cell_type": "markdown",
      "metadata": {
        "id": "vx5otk6oi3Vd"
      },
      "source": [
        "##**Gradient Boosting**\n",
        "\n",
        "Sequentially adding predictors to an ensemble, each one\n",
        "correcting its predecessor.\n",
        "\n",
        "This method tries to fit the new predictor to the residual\n",
        "errors made by the previous predictor.\n",
        "\n",
        "[Gradient Boosting Algo](https://en.wikipedia.org/wiki/Gradient_boosting#:~:text=Input%3A%20training%20set,Output)"
      ]
    },
    {
      "cell_type": "code",
      "metadata": {
        "colab": {
          "base_uri": "https://localhost:8080/",
          "height": 265
        },
        "id": "ANR40jN18gkq",
        "outputId": "2bbcf92f-a353-4cc2-a134-6c84e003b798"
      },
      "source": [
        "x = np.round(100*np.random.rand(200))\n",
        "x = np.round(x-x.mean())\n",
        "x.sort()\n",
        "y = x**2 + np.random.normal(-200, 200, x.size)\n",
        "\n",
        "plt.scatter(x, y, s = np.full(x.size, 3))\n",
        "\n",
        "# rand = np.random.permutation(np.arange(x.size))\n",
        "# rand_train = rand[:150]\n",
        "# rand_train.sort()\n",
        "# rand_test = rand[150:]\n",
        "# rand_test.sort()\n",
        "\n",
        "# x_train = x.reshape(x.size, 1)[rand_train]\n",
        "# y_train = y[rand_train]\n",
        "# x_test = x.reshape(x.size, 1)[rand_test]\n",
        "# y_test = y[rand_test]\n",
        "\n",
        "x_train = x.reshape(x.size, 1)\n",
        "y_train = y"
      ],
      "execution_count": null,
      "outputs": [
        {
          "output_type": "display_data",
          "data": {
            "image/png": "[encoded data removed]",
            "text/plain": [
              "<Figure size 432x288 with 1 Axes>"
            ]
          },
          "metadata": {
            "needs_background": "light"
          }
        }
      ]
    },
    {
      "cell_type": "code",
      "metadata": {
        "id": "liIW_xGukS07"
      },
      "source": [
        "from sklearn.tree import DecisionTreeRegressor\n",
        "from sklearn.metrics import accuracy_score, mean_squared_error\n",
        "\n",
        "tree_reg1 = DecisionTreeRegressor(max_depth=2)\n",
        "tree_reg1.fit(x_train, y_train)\n",
        "y_predict1 = tree_reg1.predict(x_train)\n",
        "# Now train a second DecisionTreeRegressor on the residual errors made by the first predictor:\n",
        "\n",
        "y2 = y_train - y_predict1\n",
        "tree_reg2 = DecisionTreeRegressor(max_depth=2)\n",
        "tree_reg2.fit(x_train, y2)\n",
        "y_predict2 = tree_reg2.predict(x_train)\n",
        "\n",
        "# Then we train a third regressor on the residual errors made by the second predictor:\n",
        "\n",
        "y3 = y2 - y_predict2\n",
        "tree_reg3 = DecisionTreeRegressor(max_depth=2)\n",
        "tree_reg3.fit(x_train, y3)\n",
        "y_predict3 = tree_reg3.predict(x_train)\n",
        "# create overall prediction by adding all predictions\n",
        "\n",
        "\n"
      ],
      "execution_count": null,
      "outputs": []
    },
    {
      "cell_type": "code",
      "metadata": {
        "colab": {
          "base_uri": "https://localhost:8080/"
        },
        "id": "EQSX1kCk1nL7",
        "outputId": "0c712e97-341d-4625-c19b-e9111e3e7dcb"
      },
      "source": [
        "print(\"y1 prediction \", mean_squared_error(y_predict1, y_train))\n",
        "print(\"y2 prediction \", mean_squared_error(y_predict1 + y_predict2, y_train))\n",
        "print(\"y3 prediction \", mean_squared_error(y_predict1 + y_predict2 + y_predict3, y_train))"
      ],
      "execution_count": null,
      "outputs": [
        {
          "output_type": "stream",
          "name": "stdout",
          "text": [
            "y1 prediction  124788.39050794001\n",
            "y2 prediction  67417.95885652029\n",
            "y3 prediction  61931.12085016351\n"
          ]
        }
      ]
    },
    {
      "cell_type": "code",
      "metadata": {
        "colab": {
          "base_uri": "https://localhost:8080/",
          "height": 285
        },
        "id": "xpYS-YtO6bgJ",
        "outputId": "b2086d47-df01-4a34-8f1a-c1f7f7ca8dbc"
      },
      "source": [
        "import matplotlib.pyplot as plt\n",
        "\n",
        "plt1 = plt.subplot(2,2 ,1)\n",
        "plt2 = plt.subplot(2,2 ,2)\n",
        "plt3 = plt.subplot(2,2 ,3)\n",
        "\n",
        "plt1.scatter(x,y, s = np.ones(x.size)*3)\n",
        "plt1.plot(x_train,y_predict1, color='r')\n",
        "\n",
        "plt2.scatter(x,y, s = np.ones(x.size)*3)\n",
        "plt2.plot(x_train,y_predict1+y_predict2, color='r')\n",
        "\n",
        "plt3.scatter(x,y, s = np.ones(x.size)*3)\n",
        "plt3.plot(x_train,y_predict1+y_predict2+y_predict3, color='r')"
      ],
      "execution_count": null,
      "outputs": [
        {
          "output_type": "execute_result",
          "data": {
            "text/plain": [
              "[<matplotlib.lines.Line2D at 0x7f439816a250>]"
            ]
          },
          "metadata": {},
          "execution_count": 107
        },
        {
          "output_type": "display_data",
          "data": {
            "image/png": "[encoded data removed]",
            "text/plain": [
              "<Figure size 432x288 with 3 Axes>"
            ]
          },
          "metadata": {
            "needs_background": "light"
          }
        }
      ]
    },
    {
      "cell_type": "markdown",
      "metadata": {
        "id": "hV0oYXP32giu"
      },
      "source": [
        "Using very less predictors will have less accuraccy, using many predictors will overfit the training set, use **Early Stoping** to prevent this."
      ]
    },
    {
      "cell_type": "code",
      "metadata": {
        "colab": {
          "base_uri": "https://localhost:8080/"
        },
        "id": "q1zy8TG52-RR",
        "outputId": "a3a3d963-5816-44d1-f9d2-078bfb18b2c0"
      },
      "source": [
        "import numpy as np\n",
        "from sklearn.model_selection import train_test_split\n",
        "from sklearn.metrics import mean_squared_error\n",
        "from sklearn.ensemble import GradientBoostingRegressor\n",
        "\n",
        "gbrt = GradientBoostingRegressor(max_depth=2, n_estimators=300,)\n",
        "gbrt.fit(x_train, y_train)\n",
        "\n",
        "errors = [mean_squared_error(y_test, y_pred) for y_pred in gbrt.staged_predict(x_test)]\n",
        "print(errors)\n",
        "bst_n_estimators = np.argmin(errors)\n",
        "\n",
        "gbrt_best = GradientBoostingRegressor(max_depth=2,n_estimators=bst_n_estimators,)\n",
        "gbrt_best.fit(x_train, y_train)\n",
        "\n",
        "y_pred = gbrt_best.predict(x_test)\n",
        "\n",
        "print(mean_squared_error(y_test, y_pred))"
      ],
      "execution_count": null,
      "outputs": [
        {
          "output_type": "stream",
          "name": "stdout",
          "text": [
            "[370833.4908313579, 328772.29326948436, 294328.98407265614, 265411.3541052665, 233092.66150777956, 205483.31316928603, 182209.27862830757, 160360.60272507637, 144606.05722018707, 128901.31430586093, 114809.59894702792, 104370.75174845976, 94565.89991617996, 88457.97885295075, 80570.16358846093, 72249.32884472162, 65532.63188358587, 62043.83388108611, 57405.579706132434, 53322.740690653816, 51056.641975168975, 48650.93077754662, 45435.60486028917, 43381.42161492738, 40932.17617997019, 40274.168855167365, 38861.9486114403, 38186.33152030716, 36846.76639082678, 35887.67158955345, 35666.211746982146, 35325.38134226561, 34518.223095211426, 34542.98717964986, 34568.06475376799, 34200.27241261066, 34073.892040597406, 33822.16852963089, 33926.503843649116, 33994.76804177888, 33944.918984276075, 33906.29818895262, 33721.63756123979, 34007.51291287415, 34336.45150793654, 34257.566343696926, 34250.474355845974, 34119.80940555276, 34120.00539043317, 34166.09126436678, 34029.39324686004, 34263.88730818265, 34497.23641208716, 34585.653293855845, 34599.11197269221, 34723.076574623425, 34693.64813832323, 34736.52104226329, 34779.24869462847, 35024.0073256735, 35053.07833363144, 35249.504504947734, 35356.19849165148, 35473.427083216535, 35390.26959565253, 35464.93885308935, 35489.70976870258, 35669.25881868211, 35669.67687268433, 35600.326088884314, 35791.894420674136, 35689.79574422002, 35641.829927491555, 35658.10558136822, 35659.37120916722, 35815.79342451174, 35978.44162282347, 35979.77429103953, 35924.73279701582, 35768.857325691955, 35917.32057362914, 36021.65224270058, 36206.32934744038, 36219.70389556518, 36320.09106610518, 36460.06962597996, 36462.240050781285, 36609.22091431799, 36748.98878268534, 36706.47019291118, 36724.39924069584, 36668.27822936289, 36583.26697819701, 36648.30996491395, 36748.61599574144, 36745.89514949708, 36863.06655823191, 36852.51834941902, 36930.258081690634, 36933.174571815405, 37062.85526661462, 36940.135232966444, 36598.15636847834, 36690.09460873284, 36673.429867204104, 36775.31536583439, 36952.87140963269, 36963.75302366782, 36948.68793159967, 36967.2651795749, 36957.912705197625, 36960.80507620715, 36963.41100890319, 37082.11021866072, 37174.798771324975, 36887.6189460146, 36976.17661157698, 37020.375378837634, 37192.37548550291, 37364.281865945195, 37446.54691944878, 37203.62325763613, 37191.66057356436, 37214.87925278232, 37201.323508981004, 37204.23745073266, 37237.02451581378, 37319.74012823695, 37482.36425117946, 37650.3076348342, 37685.37721016712, 37676.37090456441, 37715.784282038854, 37723.427263234575, 37711.97256990923, 37786.73905128807, 37777.1521352076, 37909.72138200176, 37912.46584103041, 37954.81597263826, 38063.24764801671, 38066.25409290696, 37844.374884571625, 37856.16210448255, 37997.702080512776, 38050.83806072131, 38102.8957857613, 38109.51907869496, 38023.86440220055, 38058.71542468, 37958.085022128165, 37960.5382743407, 38056.30995972581, 38079.34257671755, 38060.321517448676, 38093.794280332855, 38228.11795085892, 38229.737859864006, 38156.635112885066, 38137.4334078362, 38278.377162349774, 38310.42369933802, 38300.5566371375, 38289.12367225112, 38278.80188645574, 38280.039339861134, 38299.21198638988, 38425.649137746535, 38488.75305854531, 38512.443458570495, 38325.21002587737, 38335.747651612764, 38495.81889313377, 38625.41130075354, 38626.30394101239, 38551.441502385045, 38542.96849126345, 38490.14230437451, 38472.694235287505, 38493.70940819529, 38487.14670818925, 38516.771706937536, 38509.80271777717, 38447.94539192412, 38470.83623579641, 38463.15305822995, 38479.57761728575, 38467.95303494954, 38585.03629990284, 38616.19810986607, 38616.63047469237, 38706.14897591015, 38690.43650071229, 38718.14029559186, 38711.62143108654, 38705.330867289675, 38812.820643216495, 38761.53826169539, 38799.45746415813, 38792.63587266511, 38782.32090038564, 38815.9672533631, 38822.60067526244, 38817.88956362458, 38831.90899659548, 38916.54347844078, 38958.6341941417, 38915.92345219108, 38954.50692047135, 38959.965165161455, 38953.67006543587, 38939.65531579787, 38965.36973004995, 39005.1545456064, 38996.56454375457, 39050.76235823527, 39157.021265887204, 39150.85452231421, 39151.49701652946, 39244.707326618634, 39247.22424960318, 39436.09331169037, 39440.65969966637, 39484.751123735354, 39480.81959120625, 39444.995983559755, 39439.40559789306, 39448.914406545904, 39436.98895779726, 39479.553782196126, 39542.39275896485, 39582.3398168096, 39567.990641275275, 39613.30674610902, 39633.97292906235, 39634.62828619439, 39659.21935276026, 39705.62503492709, 39710.60278545894, 39787.61830345675, 39833.97889530063, 39826.99130663667, 39831.9511688856, 40006.85921910714, 40088.14857459369, 40098.974998211495, 40101.63734233412, 40146.81109506217, 40142.421604278126, 40112.136532245364, 40101.699912786054, 40193.8332548076, 40228.43976752888, 40228.63554789328, 40233.643890758765, 40256.41635348697, 40264.64922429525, 40268.42894588408, 40429.28470133358, 40432.11935317531, 40320.14021387482, 40389.81836399896, 40391.68892511568, 40505.66195698024, 40502.491580816495, 40504.77286241357, 40650.68208528664, 40695.18840481618, 40699.32264234284, 40604.18667620835, 40604.98715482013, 40707.375684129416, 40709.81748964003, 40705.65569364406, 40707.53795086426, 40780.25424857698, 40754.57144461385, 40738.76499244682, 40746.254586725285, 40746.84382750442, 40817.78251505087, 40825.04711278715, 40951.1604295287, 40869.89251426254, 40870.052359696194, 40813.76219916689, 40869.48102415253, 40960.97501101908, 40962.4071857514, 40950.095051690776, 40940.701837099805, 40924.814119678194, 40946.33120971374, 40876.80537629496, 40939.19926915446, 40982.71370178643, 40979.110124375926, 41062.55950372289, 41015.17441019914, 41098.97238083816]\n",
            "33906.29818895262\n"
          ]
        }
      ]
    },
    {
      "cell_type": "code",
      "metadata": {
        "colab": {
          "base_uri": "https://localhost:8080/",
          "height": 284
        },
        "id": "9iFlZ4goF43n",
        "outputId": "4774b659-7037-4025-e481-4d88b3a19345"
      },
      "source": [
        "plt.scatter(x,y, s = np.ones(x.size)*3)\n",
        "plt.plot(x,gbrt_best.predict(x_train), color='r')"
      ],
      "execution_count": null,
      "outputs": [
        {
          "output_type": "execute_result",
          "data": {
            "text/plain": [
              "[<matplotlib.lines.Line2D at 0x7f4397fae450>]"
            ]
          },
          "metadata": {},
          "execution_count": 126
        },
        {
          "output_type": "display_data",
          "data": {
            "image/png": "[encoded data removed]",
            "text/plain": [
              "<Figure size 432x288 with 1 Axes>"
            ]
          },
          "metadata": {
            "needs_background": "light"
          }
        }
      ]
    },
    {
      "cell_type": "code",
      "metadata": {
        "colab": {
          "base_uri": "https://localhost:8080/",
          "height": 284
        },
        "id": "obaVET8sIXkY",
        "outputId": "14a967f9-a9ea-49db-f75f-4aa52b3ee5cb"
      },
      "source": [
        "plt.scatter(x,y, s = np.ones(x.size)*3)\n",
        "plt.plot(x,gbrt.predict(x_train), color='r')"
      ],
      "execution_count": null,
      "outputs": [
        {
          "output_type": "execute_result",
          "data": {
            "text/plain": [
              "[<matplotlib.lines.Line2D at 0x7f4397fc20d0>]"
            ]
          },
          "metadata": {},
          "execution_count": 125
        },
        {
          "output_type": "display_data",
          "data": {
            "image/png": "[encoded data removed]",
            "text/plain": [
              "<Figure size 432x288 with 1 Axes>"
            ]
          },
          "metadata": {
            "needs_background": "light"
          }
        }
      ]
    },
    {
      "cell_type": "markdown",
      "metadata": {
        "id": "IEInrvir6VYL"
      },
      "source": [
        "**Implement early stopping by actually stopping training early, You can do so by setting `warm_start=True`.**"
      ]
    },
    {
      "cell_type": "code",
      "metadata": {
        "id": "vavWQ8-B6e6P"
      },
      "source": [
        "gbrt = GradientBoostingRegressor(max_depth=2, warm_start=True)\n",
        "\n",
        "min_val_error = float(\"inf\")\n",
        "error_going_up = 0\n",
        "\n",
        "for n_estimators in range(1, 120):\n",
        "    gbrt.n_estimators = n_estimators\n",
        "    gbrt.fit(x_train, y_train)\n",
        "    y_pred = gbrt.predict(x_test)\n",
        "    val_error = mean_squared_error(y_test, y_pred)\n",
        "    if val_error < min_val_error:\n",
        "        min_val_error = val_error\n",
        "        error_going_up = 0\n",
        "    else:\n",
        "        error_going_up += 1\n",
        "        if error_going_up == 5:\n",
        "          break # early stopping"
      ],
      "execution_count": null,
      "outputs": []
    },
    {
      "cell_type": "code",
      "metadata": {
        "colab": {
          "base_uri": "https://localhost:8080/",
          "height": 284
        },
        "id": "THia0bMVIoEf",
        "outputId": "c3438006-310a-46ae-eb35-2387645c2abf"
      },
      "source": [
        "plt.scatter(x,y, s = np.ones(x.size)*3)\n",
        "plt.plot(x,gbrt.predict(x_train), color='r')"
      ],
      "execution_count": null,
      "outputs": [
        {
          "output_type": "execute_result",
          "data": {
            "text/plain": [
              "[<matplotlib.lines.Line2D at 0x7f4397f4f3d0>]"
            ]
          },
          "metadata": {},
          "execution_count": 128
        },
        {
          "output_type": "display_data",
          "data": {
            "image/png": "[encoded data removed]",
            "text/plain": [
              "<Figure size 432x288 with 1 Axes>"
            ]
          },
          "metadata": {
            "needs_background": "light"
          }
        }
      ]
    },
    {
      "cell_type": "markdown",
      "metadata": {
        "id": "NE2MRASn8I9N"
      },
      "source": [
        "Better implemntation of boosting then GBDT is **XGBoost**.\n",
        "\n",
        "XGBoost has `row sampling` + `col sampling` + `L1,L2 regularization`"
      ]
    },
    {
      "cell_type": "code",
      "metadata": {
        "id": "In_ZPQGy63VG"
      },
      "source": [
        "import xgboost\n",
        "from sklearn.metrics import mean_squared_error\n",
        "\n",
        "xgb_reg = xgboost.XGBRegressor()\n",
        "xgb_reg.fit(x_train, y_train, eval_set=[(x_test, y_test)], early_stopping_rounds=3)\n",
        "\n",
        "y_pred = xgb_reg.predict(x_test)\n",
        "\n",
        "print(mean_squared_error(y_pred, y_test))"
      ],
      "execution_count": null,
      "outputs": []
    },
    {
      "cell_type": "markdown",
      "metadata": {
        "id": "s5uAcrwP86Ph"
      },
      "source": [
        "#**Stacking**\n",
        "\n",
        "It is based on a simple idea: instead of using trivial functions (such as hard voting) to aggregate the predictions of all predictors in an ensemble,\n",
        "why don’t we **train a model to perform this aggregation**?\n",
        "\n",
        "[Algorithm](http://rasbt.github.io/mlxtend/user_guide/classifier/StackingClassifier/)"
      ]
    },
    {
      "cell_type": "markdown",
      "metadata": {
        "id": "uaQwWr8eMrcS"
      },
      "source": [
        "# **Cascading Classifier**\n",
        "\n",
        "Another good boosting thing..."
      ]
    }
  ]
}